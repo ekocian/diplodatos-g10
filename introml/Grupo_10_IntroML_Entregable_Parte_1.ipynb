{
<<<<<<< HEAD
  "cells": [
    {
      "cell_type": "markdown",
      "metadata": {
        "id": "ffgcxcRlCvbK"
      },
      "source": [
        "# Laboratorio 1: Regresión en Boston\n",
        "\n",
        "En este laboratorio deben hacer experimentos de regresión con el conjunto de datos \"Boston house prices dataset\".\n",
        "\n",
        "Estudiarán el dataset, harán visualizaciones y seleccionarán atributos relevantes a mano.\n",
        "\n",
        "Luego, entrenarán y evaluarán diferentes tipos de regresiones, buscando las configuraciones que mejores resultados den."
      ]
=======
 "cells": [
  {
   "cell_type": "markdown",
   "metadata": {},
   "source": [
    "# Laboratorio 1: Regresión en Boston\n",
    "\n",
    "En este laboratorio deben hacer experimentos de regresión con el conjunto de datos \"Boston house prices dataset\".\n",
    "\n",
    "Estudiarán el dataset, harán visualizaciones y seleccionarán atributos relevantes a mano.\n",
    "\n",
    "Luego, entrenarán y evaluarán diferentes tipos de regresiones, buscando las configuraciones que mejores resultados den."
   ]
  },
  {
   "cell_type": "code",
   "execution_count": 3,
   "metadata": {},
   "outputs": [],
   "source": [
    "import numpy as np\n",
    "import matplotlib.pyplot as plt\n",
    "import pandas as pd"
   ]
  },
  {
   "cell_type": "markdown",
   "metadata": {},
   "source": [
    "## Carga del Conjunto de Datos\n",
    "\n",
    "Cargamos el conjunto de datos y vemos su contenido."
   ]
  },
  {
   "cell_type": "code",
   "execution_count": 4,
   "metadata": {},
   "outputs": [
    {
     "name": "stderr",
     "output_type": "stream",
     "text": [
      "/usr/local/lib/python3.9/site-packages/sklearn/utils/deprecation.py:87: FutureWarning: Function load_boston is deprecated; `load_boston` is deprecated in 1.0 and will be removed in 1.2.\n",
      "\n",
      "    The Boston housing prices dataset has an ethical problem. You can refer to\n",
      "    the documentation of this function for further details.\n",
      "\n",
      "    The scikit-learn maintainers therefore strongly discourage the use of this\n",
      "    dataset unless the purpose of the code is to study and educate about\n",
      "    ethical issues in data science and machine learning.\n",
      "\n",
      "    In this special case, you can fetch the dataset from the original\n",
      "    source::\n",
      "\n",
      "        import pandas as pd\n",
      "        import numpy as np\n",
      "\n",
      "        data_url = \"http://lib.stat.cmu.edu/datasets/boston\"\n",
      "        raw_df = pd.read_csv(data_url, sep=\"\\s+\", skiprows=22, header=None)\n",
      "        data = np.hstack([raw_df.values[::2, :], raw_df.values[1::2, :2]])\n",
      "        target = raw_df.values[1::2, 2]\n",
      "\n",
      "    Alternative datasets include the California housing dataset (i.e.\n",
      "    :func:`~sklearn.datasets.fetch_california_housing`) and the Ames housing\n",
      "    dataset. You can load the datasets as follows::\n",
      "\n",
      "        from sklearn.datasets import fetch_california_housing\n",
      "        housing = fetch_california_housing()\n",
      "\n",
      "    for the California housing dataset and::\n",
      "\n",
      "        from sklearn.datasets import fetch_openml\n",
      "        housing = fetch_openml(name=\"house_prices\", as_frame=True)\n",
      "\n",
      "    for the Ames housing dataset.\n",
      "  warnings.warn(msg, category=FutureWarning)\n"
     ]
>>>>>>> fac28205ef6316b832091a1359af65af45c79a33
    },
    {
      "cell_type": "code",
      "execution_count": null,
      "metadata": {
        "id": "uvjdIxvzCvbQ"
      },
      "outputs": [],
      "source": [
        "import numpy as np\n",
        "import matplotlib.pyplot as plt\n",
        "import pandas as pd"
      ]
<<<<<<< HEAD
    },
    {
      "cell_type": "markdown",
      "metadata": {
        "id": "LGV10EW7CvbU"
      },
      "source": [
        "## Carga del Conjunto de Datos\n",
        "\n",
        "Cargamos el conjunto de datos y vemos su contenido."
      ]
    },
    {
      "cell_type": "code",
      "execution_count": null,
      "metadata": {
        "id": "tKmeQ2K6CvbX",
        "outputId": "cd4d79f2-2049-4c55-b0bb-cfc01093a884",
        "colab": {
          "base_uri": "https://localhost:8080/"
        }
      },
      "outputs": [
        {
          "output_type": "stream",
          "name": "stderr",
          "text": [
            "/usr/local/lib/python3.7/dist-packages/sklearn/utils/deprecation.py:87: FutureWarning: Function load_boston is deprecated; `load_boston` is deprecated in 1.0 and will be removed in 1.2.\n",
            "\n",
            "    The Boston housing prices dataset has an ethical problem. You can refer to\n",
            "    the documentation of this function for further details.\n",
            "\n",
            "    The scikit-learn maintainers therefore strongly discourage the use of this\n",
            "    dataset unless the purpose of the code is to study and educate about\n",
            "    ethical issues in data science and machine learning.\n",
            "\n",
            "    In this special case, you can fetch the dataset from the original\n",
            "    source::\n",
            "\n",
            "        import pandas as pd\n",
            "        import numpy as np\n",
            "\n",
            "\n",
            "        data_url = \"http://lib.stat.cmu.edu/datasets/boston\"\n",
            "        raw_df = pd.read_csv(data_url, sep=\"\\s+\", skiprows=22, header=None)\n",
            "        data = np.hstack([raw_df.values[::2, :], raw_df.values[1::2, :2]])\n",
            "        target = raw_df.values[1::2, 2]\n",
            "\n",
            "    Alternative datasets include the California housing dataset (i.e.\n",
            "    :func:`~sklearn.datasets.fetch_california_housing`) and the Ames housing\n",
            "    dataset. You can load the datasets as follows::\n",
            "\n",
            "        from sklearn.datasets import fetch_california_housing\n",
            "        housing = fetch_california_housing()\n",
            "\n",
            "    for the California housing dataset and::\n",
            "\n",
            "        from sklearn.datasets import fetch_openml\n",
            "        housing = fetch_openml(name=\"house_prices\", as_frame=True)\n",
            "\n",
            "    for the Ames housing dataset.\n",
            "    \n",
            "  warnings.warn(msg, category=FutureWarning)\n"
          ]
        },
        {
          "output_type": "execute_result",
          "data": {
            "text/plain": [
              "dict_keys(['data', 'target', 'feature_names', 'DESCR', 'filename', 'data_module'])"
            ]
          },
          "metadata": {},
          "execution_count": 162
        }
      ],
      "source": [
        "from sklearn.datasets import load_boston\n",
        "boston = load_boston()\n",
        "boston.keys()"
      ]
    },
    {
      "cell_type": "code",
      "execution_count": null,
      "metadata": {
        "id": "bqB1CkBtCvbc",
        "outputId": "5a269272-15bd-4e84-ec9c-9fbffd5da0ed",
        "colab": {
          "base_uri": "https://localhost:8080/"
        }
      },
      "outputs": [
        {
          "output_type": "stream",
          "name": "stdout",
          "text": [
            ".. _boston_dataset:\n",
            "\n",
            "Boston house prices dataset\n",
            "---------------------------\n",
            "\n",
            "**Data Set Characteristics:**  \n",
            "\n",
            "    :Number of Instances: 506 \n",
            "\n",
            "    :Number of Attributes: 13 numeric/categorical predictive. Median Value (attribute 14) is usually the target.\n",
            "\n",
            "    :Attribute Information (in order):\n",
            "        - CRIM     per capita crime rate by town\n",
            "        - ZN       proportion of residential land zoned for lots over 25,000 sq.ft.\n",
            "        - INDUS    proportion of non-retail business acres per town\n",
            "        - CHAS     Charles River dummy variable (= 1 if tract bounds river; 0 otherwise)\n",
            "        - NOX      nitric oxides concentration (parts per 10 million)\n",
            "        - RM       average number of rooms per dwelling\n",
            "        - AGE      proportion of owner-occupied units built prior to 1940\n",
            "        - DIS      weighted distances to five Boston employment centres\n",
            "        - RAD      index of accessibility to radial highways\n",
            "        - TAX      full-value property-tax rate per $10,000\n",
            "        - PTRATIO  pupil-teacher ratio by town\n",
            "        - B        1000(Bk - 0.63)^2 where Bk is the proportion of black people by town\n",
            "        - LSTAT    % lower status of the population\n",
            "        - MEDV     Median value of owner-occupied homes in $1000's\n",
            "\n",
            "    :Missing Attribute Values: None\n",
            "\n",
            "    :Creator: Harrison, D. and Rubinfeld, D.L.\n",
            "\n",
            "This is a copy of UCI ML housing dataset.\n",
            "https://archive.ics.uci.edu/ml/machine-learning-databases/housing/\n",
            "\n",
            "\n",
            "This dataset was taken from the StatLib library which is maintained at Carnegie Mellon University.\n",
            "\n",
            "The Boston house-price data of Harrison, D. and Rubinfeld, D.L. 'Hedonic\n",
            "prices and the demand for clean air', J. Environ. Economics & Management,\n",
            "vol.5, 81-102, 1978.   Used in Belsley, Kuh & Welsch, 'Regression diagnostics\n",
            "...', Wiley, 1980.   N.B. Various transformations are used in the table on\n",
            "pages 244-261 of the latter.\n",
            "\n",
            "The Boston house-price data has been used in many machine learning papers that address regression\n",
            "problems.   \n",
            "     \n",
            ".. topic:: References\n",
            "\n",
            "   - Belsley, Kuh & Welsch, 'Regression diagnostics: Identifying Influential Data and Sources of Collinearity', Wiley, 1980. 244-261.\n",
            "   - Quinlan,R. (1993). Combining Instance-Based and Model-Based Learning. In Proceedings on the Tenth International Conference of Machine Learning, 236-243, University of Massachusetts, Amherst. Morgan Kaufmann.\n",
            "\n",
            "[[6.3200e-03 1.8000e+01 2.3100e+00 ... 1.5300e+01 3.9690e+02 4.9800e+00]\n",
            " [2.7310e-02 0.0000e+00 7.0700e+00 ... 1.7800e+01 3.9690e+02 9.1400e+00]\n",
            " [2.7290e-02 0.0000e+00 7.0700e+00 ... 1.7800e+01 3.9283e+02 4.0300e+00]\n",
            " ...\n",
            " [6.0760e-02 0.0000e+00 1.1930e+01 ... 2.1000e+01 3.9690e+02 5.6400e+00]\n",
            " [1.0959e-01 0.0000e+00 1.1930e+01 ... 2.1000e+01 3.9345e+02 6.4800e+00]\n",
            " [4.7410e-02 0.0000e+00 1.1930e+01 ... 2.1000e+01 3.9690e+02 7.8800e+00]]\n"
          ]
        }
      ],
      "source": [
        "print(boston['DESCR'])   # descripción del dataset\n",
        "print(boston['data'])           # matriz con los datos de entrada (atributos)\n",
        "#print(boston['target'])         # vector de valores a predecir\n",
        "#print(boston['feature_names']  # nombres de los atributos para cada columna de 'data'"
      ]
    },
    {
      "cell_type": "code",
      "execution_count": null,
      "metadata": {
        "id": "17Us9hzMCvbf",
        "outputId": "b668b427-63d4-4e4f-df05-c7b3f3d2b2aa",
        "colab": {
          "base_uri": "https://localhost:8080/"
        }
      },
      "outputs": [
        {
          "output_type": "execute_result",
          "data": {
            "text/plain": [
              "((506, 13), (506,))"
            ]
          },
          "metadata": {},
          "execution_count": 164
        }
      ],
      "source": [
        "boston['data'].shape, boston['target'].shape"
      ]
    },
    {
      "cell_type": "markdown",
      "metadata": {
        "id": "8zRVHoI8Cvbi"
      },
      "source": [
        "## División en Entrenamiento y Evaluación\n",
        "\n",
        "Dividimos aleatoriamente los datos en 80% para entrenamiento y 20% para evaluación:"
      ]
    },
    {
      "cell_type": "code",
      "execution_count": null,
      "metadata": {
        "id": "QpzXDrBKCvbk",
        "outputId": "f262a1d4-a145-4c86-9f06-530bc37c0c9e",
        "colab": {
          "base_uri": "https://localhost:8080/"
        }
      },
      "outputs": [
        {
          "output_type": "execute_result",
          "data": {
            "text/plain": [
              "((404, 13), (102, 13))"
            ]
          },
          "metadata": {},
          "execution_count": 165
        }
      ],
      "source": [
        "from sklearn.model_selection import train_test_split\n",
        "X, y = boston['data'], boston['target']\n",
        "X_train, X_test, y_train, y_test = train_test_split(X, y, train_size=0.8, random_state=0)\n",
        "X_train.shape, X_test.shape"
      ]
    },
    {
      "cell_type": "markdown",
      "metadata": {
        "id": "j3tUuuEnCvbn"
      },
      "source": [
        "## Ejercicio 1: Descripción de los Datos y la Tarea\n",
        "\n",
        "Responda las siguientes preguntas:\n",
        "\n",
        "1. ¿De qué se trata el conjunto de datos?\n",
        "2. ¿Cuál es la variable objetivo que hay que predecir? ¿Qué significado tiene?\n",
        "3. ¿Qué información (atributos) hay disponibles para hacer la predicción?\n",
        "4. ¿Qué atributos imagina ud. que serán los más determinantes para la predicción?\n",
        "5. ¿Qué problemas observa a priori en el conjunto de datos? ¿Observa posibles sesgos, riesgos, dilemas éticos, etc? Piense que los datos pueden ser utilizados para hacer predicciones futuras.\n",
        "\n",
        "**No hace falta escribir código para responder estas preguntas.**"
      ]
    },
    {
      "cell_type": "markdown",
      "metadata": {
        "id": "zAoAld8eCvbq"
      },
      "source": [
        "1. El conjunto de datos muestra la relación entre variables como son el crimen, el tamaño de los lotes residenciales, la cantidad de lotes utilizados para otros fines, cantidad de habitaciones promedio, etc. con el precio de las casas. \n",
        "2. Lo que buscamos predecir es el precio de las casas en funcion de los atributos dados. Lo cual implicará que dada ciertas características de las casas, podremos establecer un precio. \n",
        "3. Los atributos disponibles son:\n",
        "        - CRIM     per capita crime rate by town\n",
        "        - ZN       proportion of residential land zoned for lots over 25,000 sq.ft.\n",
        "        - INDUS    proportion of non-retail business acres per town\n",
        "        - CHAS     Charles River dummy variable (= 1 if tract bounds river; 0 otherwise)\n",
        "        - NOX      nitric oxides concentration (parts per 10 million)\n",
        "        - RM       average number of rooms per dwelling\n",
        "        - AGE      proportion of owner-occupied units built prior to 1940\n",
        "        - DIS      weighted distances to five Boston employment centres\n",
        "        - RAD      index of accessibility to radial highways\n",
        "        - TAX      full-value property-tax rate per $10,000\n",
        "        - PTRATIO  pupil-teacher ratio by town\n",
        "        - B        1000(Bk - 0.63)^2 where Bk is the proportion of black people by town\n",
        "        - LSTAT    % lower status of the population\n",
        "        - MEDV     Median value of owner-occupied homes in $1000's\n",
        "\n",
        "4. A nuestro entender los mejores atributos son: CRIM, RM, ZN, PTRATIO \n",
        "\n",
        "5. Hay una falta etica grave al establecer la proporcion de personas de raza negra como un factor para establecer, y mas aún, predecir el precio de las viviendas \n"
      ]
    },
    {
      "cell_type": "markdown",
      "metadata": {
        "id": "Gbo5i_8CCvbt"
      },
      "source": [
        "## Ejercicio 2: Visualización de los Datos\n",
        "\n",
        "1. Para cada atributo de entrada, haga una gráfica que muestre su relación con la variable objetivo.\n",
        "2. Estudie las gráficas, identificando **a ojo** los atributos que a su criterio sean los más informativos para la predicción.\n",
        "3. Para ud., ¿cuáles son esos atributos? Lístelos en orden de importancia."
      ]
    },
    {
      "cell_type": "code",
      "execution_count": null,
      "metadata": {
        "id": "HKE2xolrCvbu",
        "outputId": "62ff9443-d179-432e-f760-dc6095ae2506",
        "colab": {
          "base_uri": "https://localhost:8080/",
          "height": 298
        }
      },
      "outputs": [
        {
          "output_type": "execute_result",
          "data": {
            "text/plain": [
              "Text(0.5, 1.0, 'CRIM')"
            ]
          },
          "metadata": {},
          "execution_count": 166
        },
        {
          "output_type": "display_data",
          "data": {
            "text/plain": [
              "<Figure size 432x288 with 1 Axes>"
            ],
            "image/png": "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\n"
          },
          "metadata": {
            "needs_background": "light"
          }
        }
      ],
      "source": [
        "# 1. Resolver acá. Ayuda/ejemplo:\n",
        "feature = 'CRIM'\n",
        "selector = (boston['feature_names'] == feature)\n",
        "plt.scatter(X[:, selector], y, facecolor=\"dodgerblue\", edgecolor=\"k\", label=\"datos\")\n",
        "plt.title(feature)"
      ]
    },
    {
      "cell_type": "code",
      "execution_count": null,
      "metadata": {
        "id": "0CQA59cCCvbw",
        "outputId": "f88bad1c-4767-42e6-ab68-6f209b405c82",
        "colab": {
          "base_uri": "https://localhost:8080/",
          "height": 281
        }
      },
      "outputs": [
        {
          "output_type": "display_data",
          "data": {
            "text/plain": [
              "<Figure size 432x288 with 1 Axes>"
            ],
            "image/png": "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\n"
          },
          "metadata": {
            "needs_background": "light"
          }
        }
      ],
      "source": [
        "# 1. Resolver acá. Ayuda/ejemplo:\n",
        "feature = 'LSTAT'\n",
        "selector = (boston['feature_names'] == feature)\n",
        "plt.scatter(X[:, selector], y, facecolor=\"dodgerblue\", edgecolor=\"k\", label=\"datos\")\n",
        "plt.title(feature)\n",
        "plt.show()"
      ]
    },
    {
      "cell_type": "code",
      "execution_count": null,
      "metadata": {
        "id": "npLcMa_0Cvby",
        "outputId": "93b67b10-cd5b-4d42-fa4f-9c1fbba66385",
        "colab": {
          "base_uri": "https://localhost:8080/",
          "height": 281
        }
      },
      "outputs": [
        {
          "output_type": "display_data",
          "data": {
            "text/plain": [
              "<Figure size 432x288 with 1 Axes>"
            ],
            "image/png": "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\n"
          },
          "metadata": {
            "needs_background": "light"
          }
        }
      ],
      "source": [
        "feature = 'RM'\n",
        "selector = (boston['feature_names'] == feature)\n",
        "plt.scatter(X[:, selector], y, facecolor=\"dodgerblue\", edgecolor=\"k\", label=\"datos\")\n",
        "plt.title(feature)\n",
        "plt.show()"
      ]
    },
    {
      "cell_type": "raw",
      "metadata": {
        "id": "IFp2A4TgCvbz"
      },
      "source": [
        ""
      ]
    },
    {
      "cell_type": "markdown",
      "metadata": {
        "id": "QZyNLR-YCvb0"
      },
      "source": [
        "**3. Entre los atributos que identificamos como mas \"informativos\" para la predicción, identificamos RM: cantidad de habitaciones por casa, LSTAT que se podria traducir como cantidad de población con menor nivel social. En crimen podemos ver una pequeña recta en su inicio indicando un descenso del precio.**"
      ]
    },
    {
      "cell_type": "markdown",
      "metadata": {
        "id": "ci1v0CupCvb1"
      },
      "source": [
        "## Ejercicio 3: Regresión Lineal\n",
        "\n",
        "1. Seleccione **un solo atributo** que considere puede ser el más apropiado.\n",
        "2. Instancie una regresión lineal de **scikit-learn**, y entrénela usando sólo el atributo seleccionado.\n",
        "3. Evalúe, calculando error cuadrático medio para los conjuntos de entrenamiento y evaluación.\n",
        "4. Grafique el modelo resultante, junto con los puntos de entrenamiento y evaluación.\n",
        "5. Interprete el resultado, haciendo algún comentario sobre las cualidades del modelo obtenido.\n",
        "\n",
        "**Observación:** Con algunos atributos se puede obtener un error en test menor a 50."
      ]
    },
    {
      "cell_type": "code",
      "execution_count": null,
      "metadata": {
        "id": "6-7aHWM8Cvb2",
        "outputId": "e205db36-4513-4d7c-862f-e86ba7b9cb11",
        "colab": {
          "base_uri": "https://localhost:8080/"
        }
      },
      "outputs": [
        {
          "output_type": "execute_result",
          "data": {
            "text/plain": [
              "((404, 1), (102, 1))"
            ]
          },
          "metadata": {},
          "execution_count": 169
        }
      ],
      "source": [
        "# 1. Resolver acá. Ayuda:\n",
        "feature = 'RM'  # selecciono el atributo 'RM'\n",
        "selector = (boston['feature_names'] == feature)\n",
        "X_train, X_test, y_train, y_test = train_test_split(X, y, train_size=0.8, random_state=0)\n",
        "X_train_f = X_train[:, selector]\n",
        "X_test_f = X_test[:, selector]\n",
        "X_train_f.shape, X_test_f.shape"
      ]
    },
    {
      "cell_type": "code",
      "execution_count": null,
      "metadata": {
        "id": "hAOM5wnqCvb4",
        "outputId": "323f78bf-3734-4f5e-b79a-eb9085574a58",
        "colab": {
          "base_uri": "https://localhost:8080/"
        }
      },
      "outputs": [
        {
          "output_type": "execute_result",
          "data": {
            "text/plain": [
              "LinearRegression()"
            ]
          },
          "metadata": {},
          "execution_count": 170
        }
      ],
      "source": [
        "from sklearn.linear_model import LinearRegression\n",
        "model1=LinearRegression()\n",
        "model1.fit(X_train_f, y_train)"
      ]
    },
    {
      "cell_type": "code",
      "execution_count": null,
      "metadata": {
        "id": "HtIKlAuYCvb6",
        "outputId": "dc94b5bf-d9ab-457a-f8f4-ad5415e8457b",
        "colab": {
          "base_uri": "https://localhost:8080/"
        }
      },
      "outputs": [
        {
          "output_type": "execute_result",
          "data": {
            "text/plain": [
              "array([9.37638431])"
            ]
          },
          "metadata": {},
          "execution_count": 171
        }
      ],
      "source": [
        "model1.coef_"
      ]
    },
    {
      "cell_type": "code",
      "execution_count": null,
      "metadata": {
        "id": "k_i55miXCvb7",
        "outputId": "b5f266f0-0c00-453b-d615-48cbb0c346a5",
        "colab": {
          "base_uri": "https://localhost:8080/"
        }
      },
      "outputs": [
        {
          "output_type": "execute_result",
          "data": {
            "text/plain": [
              "-36.476189627647315"
            ]
          },
          "metadata": {},
          "execution_count": 172
        }
      ],
      "source": [
        "model1.intercept_"
      ]
    },
    {
      "cell_type": "code",
      "execution_count": null,
      "metadata": {
        "id": "4XrNSyakCvb8"
      },
      "outputs": [],
      "source": [
        "# 3. Predecir y evaluar acá.\n",
        "\n",
        "y_train_pred = model1.predict(X_train_f)\n",
        "y_val_pred = model1.predict(X_test_f)"
      ]
    },
    {
      "cell_type": "code",
      "source": [
        "from sklearn.metrics import mean_squared_error\n",
        "\n",
        "train_error = mean_squared_error(y_train, y_train_pred)\n",
        "val_error = mean_squared_error(y_test, y_val_pred)\n",
        "print(f'Train error: {train_error:0.2}')\n",
        "print(f'Test error: {val_error:0.2}')"
      ],
      "metadata": {
        "colab": {
          "base_uri": "https://localhost:8080/"
        },
        "id": "cVlB_BbOJWi_",
        "outputId": "5697a0a3-2a83-4899-b447-73b40dfc5b32"
      },
      "execution_count": null,
      "outputs": [
        {
          "output_type": "stream",
          "name": "stdout",
          "text": [
            "Train error: 4.3e+01\n",
            "Test error: 4.7e+01\n"
          ]
        }
      ]
    },
    {
      "cell_type": "code",
      "execution_count": null,
      "metadata": {
        "id": "5arjths1Cvb9",
        "outputId": "c7b0feb5-889c-45a8-b485-93a9fb6419ca",
        "colab": {
          "base_uri": "https://localhost:8080/",
          "height": 281
        }
      },
      "outputs": [
        {
          "output_type": "display_data",
          "data": {
            "text/plain": [
              "<Figure size 432x288 with 1 Axes>"
            ],
            "image/png": "iVBORw0KGgoAAAANSUhEUgAAAXEAAAEICAYAAACpqsStAAAABHNCSVQICAgIfAhkiAAAAAlwSFlzAAALEgAACxIB0t1+/AAAADh0RVh0U29mdHdhcmUAbWF0cGxvdGxpYiB2ZXJzaW9uMy4yLjIsIGh0dHA6Ly9tYXRwbG90bGliLm9yZy+WH4yJAAAgAElEQVR4nOydeVhTV/rHv+eGSAJkgQAJEgKISzFU22qXabEt06LdpdXOFBBlitoBoTPT1tZOnFpbsYvWLkw3OzgWIbT9qXU60+liC50Os1a7OlJHx6XauqKgsi/v74+QkJDcECCBBM7nefIANzfnnntu+N5z3/MujIjA4XA4nMBEGO4OcDgcDmfgcBHncDicAIaLOIfD4QQwXMQ5HA4ngOEizuFwOAEMF3EOh8MJYLiIczgcTgDDRZwzKmCMHWSMNTPGzjPGjjHGNjLGwrrf28gYI8bY7F6febZ7e+6wdJrD8QAu4pzRxK1EFAbgIgAXA3jY7r3/Aphv/YMxFgTgJwD+N6Q95HD6CRdxzqiDiI4B+AAWMbfyRwCpjLHw7r9vAPA1gGND3D0Op19wEeeMOhhjegA3Athnt7kFwB8A3NX993wAZUPcNQ6n33AR54wmtjHGzgE4DOAEgBW93i8DMJ8xpgZwDYBtQ9w/DqffcBHnjCYyiEgB4FoAFwCItH+TiGoARAEwAfgTETUPeQ85nH7CRZwz6iCivwDYCGCti7fLAdwPbkrhBAhBw90BDmeYeA7AQcbY1F7bXwDwVwCfDn2XOJz+w2finFEJEZ2EZbb9SK/tp4noY+KJ9jkBAuPfVQ6Hwwlc+Eycw+FwAhgu4hwOhxPAcBHncDicAIaLOIfD4QQwQ+piGBkZSQkJCUN5SA6Hwwl4du7ceYqIoly9N6QinpCQgB07dgzlITkcDifgYYwdEnuPm1M4HA4ngOEizuFwOAEMF3EOh8MJYIY9d0p7ezuOHDmClpaW4e6KXyKTyaDX6yGVSoe7KxwOxw8ZdhE/cuQIFAoFEhISwBgb7u74FUSEuro6HDlyBImJicPdHQ6H44d4ZE7pLjL7DWPsS8bYju5tEYyx7Yyxvd0/w/tqxxUtLS3QaDRcwF3AGINGo/HKU0qFuRKJk1IgSCRInJSCCnOlF3o4vFRWViIlJQUSiQQpKSmorBzcOXm7PXd4+3oM5fX11rHsxzs8IgKCICAqJg7R+kQIggRBIWqwMXIwQUC0PtF2nMEc39VnvTl2FeZKRI+Ng0KhgCAISExM9On3CIBlttfXC8BBAJG9tj0NYFn378sAPNVXO9OmTaPe7N6922kbx5HBjlF5hZkU2kSKXlJFcc+0UfSSKlJoE6m8wuylHg49ZrOZEhMTqaqqitra2qiqqooSExPJbB7YOXm7PXd4+3oM5fX11rFcjbcuNo6E0EiHtiXhBorILqPoJVUk1xgov6BwwMd31XeZMprkGoNXxq68wkxyVTTpYg0O5xVnMAz6ewRgB4nps9gb1LeI7wEQ0/17DIA9fbXDRXxgDHaMEiYaKXpJFRmeI9srekkVJUw0eqmHQ4/RaKSqqiqHbVVVVWQ0DuycvN2eO7x9PYby+nrrWGLjrYpJcmpbqjP2/B4aPuDju+p7UGSS18YuYaKRVDFJPvkeuRNxj1LRMsYOADgDgAC8SkTrGWP1RKTufp8BOGP9u9dnFwNYDAAGg2HaoUOOPuu1tbVITk7ux7ODf2MNaIqMjBzUPvYMdowEiQT6NS1gkp7FUepsx5GlMnR1dg643eFEIpGgpaXFYcG3vb0dMpkMnQM4J2+35w5vX4+hvL7eOpbYeAfLZIhb19MOdbbj8AMyGJ7ttPx+fzDinmkd0PFd9f27X0kQt9Y7YydIJACAVh98jxhjO4lousvjethGKhFdAkuF8CWMsavt3+y+U7i8GxDReiKaTkTTo6JcRo1yfEz8+GS07q9x2Na6vwbx4wP35pmcnIyaGsdzqqmpGfDNztvtucPb12Mor6+3jiU23kqt4wJ+6/4aSLXJPb+Hqgd8fFd9D9Ikem3s4scnQ6lNHLLvkQ2xKbrYC8CjAB7ACDKnHDhwgCZNmkQLFiygCRMmUFZWFm3fvp2uvPJKGj9+PP3rX/+iuro6mj17Nl144YV0+eWX01dffUVERKdOnaL09HSaPHky5eXlkcFgoJMnTxIR0aZNm+jSSy+lqVOn0uLFi6mjo4OIiOLj4237PPPMM2Q0GsloNNKzzz7rsn/cJu4Mt4n7rr2hOJY/28QlyhjKLygc0Nj4pU0cQCgAhd3vfwdwA4A1cFzYfLqvtvoU8cqXiZ56wLuvypf7HKADBw6QRCKhr7/+mjo7O+mSSy6hn/3sZ9TV1UXbtm2j2bNnU2FhIT366KNERPTxxx/T1KlTiYioqKiIVq5cSUREf/rTnwgAnTx5knbv3k233HILtbW1ERFRfn4+vf7660TUI+I7duyglJQUOn/+PJ07d44mT55Mn3/+ufsxGiDlFWZKmGgkJgiUMNEY0AJuxWw2k9FoJEEQyGg0DvofxdvtucPb12Mor6+3jmU/3iqViphURmCMJCFqAhNIIlcRurdFxSbYjjOY47v6bH5BIQlyyzGDdEZSppsGtbgZFaOnsLAwYoxRQkKCV75H7kS8T5s4Y2wcgLe7/wwCYCaiYsaYBsBbAAwADgH4CRGddtfW9OnTqXcCLAd77xuvAN/9z21/+o0hCbjr5253OXjwINLT07F3714AwPz58zFr1ixkZ2dj//79uOOOO8AYw5YtWzBu3DgAQFxcHP7zn//g6quvxtatW23bIyIi8N///hdvvPEGVq9ejejoaABAc3MzMjMz8eijj9ps4hUVFairq8Njjz0GAPjNb36DqKgo3HvvvQ79G2nrBhyOPRXmSuTfZ4J8bimCx6WidX8Nmjfn4eV1xcjOyhx0+5WVlSguLrb9H5lMJmRm9rSbOCkFTeklkE1Is21r2VuNkO1FOLBn16CP7w3c2cT7DPYhov0AelcEBxHVAbhu8N2zow+x9SXBwcG23wVBsP0tCAI6Ojr6HTFJRFiwYAGeeOIJr/aTwxlpLF9ZDPncUpuIyiakAXNLsXxl0aBFvLKyEiaTCaWlpUhNTUVNTQ3y8vIAwCbkh/bVQn9PqsPngsel4tC+2kEde6jguVM8ZMaMGaioqAAAfPLJJ4iMjIRSqcTVV18Ns9kMAHjvvfdw5swZAMB1112HzZs348SJEwCA06dPo7dnzowZM7Bt2zY0NTWhsbERb7/9NmbMmDGEZ8XhDD+H9tUieJxvRLS4uBilpaVIS0uDVCpFWloaSktLUVxcbNsn0Bf+uYh7yKOPPoqdO3diypQpWLZsGV5//XUAwIoVK/Dpp5/CaDRi69atMBgMAIDJkydj1apVmDlzJqZMmYL09HQcPXrUoc1LLrkEubm5uOyyy3D55Zdj4cKFuPjii4f83Dic4cSXIlpbW4vUVMcbRGpqKmpre24Qq1aY0Lw5Dy17q0Gd7WjZW43mzXlYtcI06OMPCWLGcl+8/NU7xd/hY8QZyfjSu8bTIC5/X/jHYCM2vfXiIj4w+BhxRjq+EtGhdB31JVzEAxw+RpxAZrhnuUPpOuor3In4sKei5XA4Ixd790H9Palo2l+D/Pss3iHecB/0hMzMTAeXwpEGX9jkcDhex5reNefuxTb3QSaRQjYhDfK5pVi+srjvRjgewUWcw+F4Fevsuym9BNTW5DP3QY4FLuIcDser2AfvSLXu3QdHYrESl5w65rOmR72I19fX46WXXur352666SbU19f7oEccTmBjH7yjTDeh7g3XPtj2M3b9mhY0pZcg/z7TyBLyhtPA754GTHnAkQM+OcSoX9i0inhBQYHD9o6ODgQFiQ/Pn//8Z193jcMJSOLHJ6Npfw1kE9IQOs2yoHj6zUXoqNuPhAmTsa47J0ripBSfhdsPO52dQNU7wDubgPZ2YNadQFSMTw4VcDNxbz9+LVu2DP/73/9w0UUX4dJLL8WMGTNw2223YfLkyQCAjIwMTJs2DUajEevXr7d9LiEhAadOncLBgweRnJyMRYsWwWg0YubMmWhubh5UnzicQKZ3BKREqYNc0oXy8goc2LPLJtC+DLfvzVDWT8V/vwEeWwK8+SowLhl49GXgjlwgWOab44n5HvriNVg/cV9Edh04cMAWvVVdXU0hISG0f/9+2/t1dXVERNTU1ERGo5FOnTpFRD3pZK1pbL/44gsiIrrzzjtp06ZNA+6PK7ifOCfQ8MQ3fKjKyg1ZwM+ZU0TrnyTKm0W0NIdoZw1RV5dXmoYbP/GAmonbL5j4yl3psssuQ2JiT3WRF154AVOnTsUVV1yBw4cP29LV2pOYmIiLLroIADBt2jQcPHjQa/3hcAKR7KxMHNizC12dnQ6zb3uGKmeJJ0mwBkVHB/DhFmD5ImBnDXDzXcDj64FLrgIY884x3BBQIj4Uj1+hoaG23z/55BN89NFH+Mc//oGvvvoKF198MVpaWpw+Y5/GViKRoKOjw2v94XD8BW+bMrOzMjFvzs04s3EODt8fjDMb52DenJu9bg/3JAnWgPn2K4vp5K3XgPFGYOUrwO25vjOduCCgRNwX2c4UCgXOnTvn8r2GhgaEh4cjJCQE3377Lf75z38O+DgcTiDjypNkQf79KFhSNKg2y7e8i/DcLYh7phXhuVtQvuVdr3un+KR+an0dsP5JYO1DQGszsGQF8IvHAG3sIHvbfwJKxH3x+KXRaHDVVVchJSUFS5cudXjvhhtuQEdHB5KTk7Fs2TJcccUVgz0FDicgcWXK1ORU4NXflw9YdIfCPAoAJpMJeXl5qK6uRnt7O6qrq5GXlweTaQC60dEBfLAZMC0EPv8bcEsW8Nh64OIfDYnpxCVixnJfvLyRAGu4k+kMB3xhkzPcMEGguGfaHBYh455pI4ARGBvQ/6JYm0wQvN5/ryTBqv2S6DeLLAuXzy0nOv691/spBkZSAqzsrMzA9yHlcAIMe99vK637axAUOQ4xD9cOKLGVWJt+V1HnzCmLzfuzvwCRWqBwBTD1iuGbefcioMwpHA5neFi1woS6TdkOpsw6cy5UNz4+YFPIUHmnWOtslpSUoKWlBSUlJTCZTH37ine0A+/9H7B8IfDF34Fbsy2mk4uG0XTiCrEpui9ePJ/4wOBjxPEH8gsKSZCrCUwgFhxGEdllzuaVbtOKp+bOoTCPelrdx4HdnxOZFlpMJ88/MqSmE1dgJJlTOBzO8PDSiyW46qorsXxlMQ4dOoQgtd7h/Yb3V0Ki0Fk8WDzMHT4U5tF+uRiePgm8tR7Y8VdLmHzRSmDq5T7t32Dh5hQOh+Mx1iCeTRvWO5lCzte8CE1Ohd/lDhdzMTQYDDa/94kXpOCLJ34N/GYR8NW/gNk5wGOv+r2AAzwBFofDGQDW2fPylUU4tK8W8eOTQS1n/TJ3uNXFsLS0FKmpqaipqcGC3FycamiBYt4GZGaH4tHDz2HC/z7H4cg4xN3/OBClG9Y+94dRPxMfaCpaAHjuuefQ1NTk5R5xOO7xlxzcvUPr4yd4PxjPG2RmZqK4uBhFRUWQyWQoKipCS3sXJmWvx4Yxf0PFd49gjDQY2dK5uPrtfwSUgANcxLmIcwIKf87BPVTeJgMhMzMTu3btQmdnJ3Z98TkWRo/B39o24Lpz/8Yz0TlIn/Aq/jphwbA/NQyEgBNxb6eUtE9Fu3TpUqxZswaXXnoppkyZghUrVgAAGhsbcfPNN2Pq1KlISUnBm2++iRdeeAE//PAD0tLSkJaW1sdROBzvMFRRjgMhOysTL68rRsj2IhxZKkPI9iK83J073G/4z07g0Xysnj4BnzADrpu4Hi9os9EqjPGLp4aBEFA2cau/p71tKy/Psvo90GrWTz75JHbt2oUvv/wSH374ITZv3ox///vfICLcdttt+PTTT3Hy5EmMHTsW7777LgBLThWVSoV169ahuroakZGRXjtHDscdh/bVQn+P/9mdrfhtMF7dCUt+78//BkSPRfXU63BX8cuQz70DweM0aN1fg+bNeVi3bvhvhv3FYxFnjEkA7ADwPRHdwhhLBPAGAA2AnQByiKjNN920YJ9SEoAtpWRRUdGARdyeDz/8EB9++CEuvvhiAMD58+exd+9ezJgxA/fffz8eeugh3HLLLZgxY8agj8XhDISAiXL0F9rbgA+3Au92P7FnLABmzUGadAxe1ugdFmbX+dtTg6eIOZD3fgG4D4AZwJ+6/34LwF3dv78CIL+vNgYb7CMIArW1tTlsa2trI2EQuRbsi0Lcd9999Morr7jcr66ujjZt2kRXX301rVy5koh6CkP4Gh7sw7Hii8IoQ82Q5T/65jOiX99tCdh58TGiU8d8c5whAG6CfTwVcD2AjwH8GMCfADAApwAEdb//IwAf9NXOYEV8QJFXfXDq1CkyGAxERPTBBx/QZZddRufOnSMioiNHjtDx48fp+++/p+bmZiIi+uMf/0izZ88mIqKUlBSHKkC+gos4x55ATgI3JDehk0eJfrvSIt6/vtsi5gGON0R8M4BpAK7tFvFIAPvs3o8DsEvks4thMcPssIqlPf0RKF+VWcrMzCSj0UgPPPAAPffcc5SSkkIpKSl0xRVX0L59++j999+nCy+8kKZOnUrTp0+nzz6zfCleeOEFmjhxIl177bWDOn5fcBHnjBR8WpKtrZXojxVE+bdZXu9WWraNANyJOLO8Lw5j7BYANxFRAWPsWgAPAMgF8E8iGt+9TxyA94goxV1b06dPpx07djhsq62t7Vdy9srKShQXF9s+ZzKZvGIP92f6O0Ycjr8iSCTQr2kBk0ht26izHUeWytDV2Tnwhr/5DDC/BJw8CkxLBX6yGNBEe6HH/gFjbCcRTXf1nicLm1cBuI0xdhMAGQAlgOcBqBljQUTUAYu55XtvddgdmZmZI160OZyRijcXZisrK/H7tU9iSYQEs+OjcTZECeWvigHjNG922e/p00+ciB4mIj0RJQC4C0AVEWUDqAYwt3u3BQD+4LNecjicEYG3AoLeLC/HsdeewXvT43DbhDj876JrcNm7O1H59X991HP/ZTB+4g8BeIMxtgrAFwBKB9oQEYH5U35eP6IvcxeHE0i4yrnSb9e+r/+FK9/fiLhxkZayaD9ZjKSIKLxsvMJr7saBRJ82cW/iyiZ+4MABKBQKaDQaLuS9ICLU1dXh3LlzSExMHO7ucAKYCnOlJYVst3CuWmEKPJ/ok0eBN14BvvoXvq1vxPhH1iFoyqW2t9vb2yGTydA5GNu6nzJYm7hP0ev1OHLkCE6ePDncXfFLZDIZ9Hp93ztyOCJY863I55Z6nOfbr2hrBd57y/KSSPBF0jTMWvsK3lxyHvYJLwZdwT5AGfaZOIfD8S2Jk1LQlF7isJjYsrcaIduLcGDPrmHsmQd8+U/L7PvUMWD61dg6Jhq5v14NNjULIbvNMJc5puAoLi4ekeYUv56JczicgeGpieTg3t0IOluEjuO1kGqToUw3IeSiuX6Tb8UlJ36wiPfX/wZiDMD9TwDJF+P+SSm2BGBNWiPuyC1Cw5FaqFQqvPTiiyNSwPuCiziHE4AULCnCq78vR1fLWQRpk3E6PgP591k8POyFvMJcCYlCh4g5JQgel4rW/TWoeyMP7cf+45/5VnqZTnDnQuC62UCQxa/cPgFYyLRMYFomFN1+5qNRwAEu4hxOwFFhrsT68i2IvHurgzCHXpKF5SsdPT2Wryy2lUwDANmENGjuKsWpDXfgpd8NLI++TyCymE7efAU4dRy47BrgzkVAuGOGUJ4AzJmAyyfO4Yx27IXZmlNcc1cpmr7Z5mQiObSv1lYyrXFnJY4+mYITL10P6urAvHnZw1oZyMbxH4DnHwFeXAmMCQYeeApY/LCTgAP+XXhiuOAizhm1+EuZs/5iL8xWgselouN4rdOMNH68pWRa485K1P/ZhPA5JYhb24Kohe9AUOhwcO9uzF9YgIIlRQCGeExaW4BtrwMr7gH27gJ+sgh45CXggqmiHwmIwhNDDDencEYlgex2J2ZSEGRKpxnpjdenYf2mLLAxodDcVepgVonMqcDpLUWImFOC9ZuyAQDlW971/ZgQAV/+w7JwWXcCuDzNYvtWazz6uN8WnhgmuIshZ1QSyG539jcgm018UzYWz5uDl14scdg3cVIKTsdn4Oz21Yh7ptUp8dThB2QwPNuJlr3VOLNxDsJzt/h2TI5/D1S+DOzaAYyNB7KXAJOmeKftEQx3MeRweuHvZc7cYZ2F/urBu3H4h0OWWXa4GldddaXTvpbz/ALN32xDq4vZu1RrMb8Ej0tFe2O9SzPNYMekwlyJ4sdXY15YK+6/MBGCdAykP1kM/Pg2IIhL0GDhNnHOqMRqK7bHn7wcPLFNnzvXhCDNOFBbE043tmN+Xj4EwXF/63kq002oq8h1WBCseyMPynSL+aV1fw2YTOH1MamoMOPPTz+BD65Kxq+njsM7QSmY/P63qDjVygXcW4glGvfFy1VlHw5nOPDnMmee9C1SpydJuIGil1RRRHaZ7ffe+1vbUqabiIVqKCgyicAEYnI1KdNNtv0lmkSSp2SQRBnjvTE5epj+csc1RHmzaPeSe2hu8dfeLQIxisBgikJ4E24T5/gT/poUyhN7vSBTIGrhO5BNSMPRJ1MQPkd8/wpzJRYszIfm7rdt+zTurETDe79Bx6n9kETEA50d6Dz7AxA0BlHROpw6+t3Ax6S1xVKY+IMtaGhuxrNxBSiLykAnkwDwUhGIUYY7mzgXcQ7Hz/Ck+g0TBMSttSxUfvcrCeLWer6//T6H7w+GRJMAzV09i6TNm/MG5rZHBHz+N+DNV4HTJ4EfXYdLn92E7659PiAXkP0JdyLObeIcjp/hib0+amy8bR+ptu/92ZhQl/uw4B7XQ2vgkHxuKZavLO5fp48dBp41AS+vAkLCgIfWAnlL8ctfP8yDc3wMX1ngcPyMVStMFv/suY6z43XreoT12adXY9G9ucBdG6G47iHUmXOhydoour8mXI06cy5Cp+eg6Ztt6DheCyZTgjpaB+eR0tIM/KkS2L4VGDMGyMwHrr3FkvcEXioCwXGPmLHcFy++sMnheEZ5hZkSJhqJCQIlTDS6XFwsrzBTpE5PLDiMAEaSEDWBMZf7l1eYSSpXkqDQOSxcSpQ6kl+YQWqD5Vhqg5GUM00OC48u+9LVRfTZX4geyCbKm0VUuoao/rTPx2W0AjcLm9ycwuEEMI3NbVBGaMEEhjCVBnJllMvFyOysTKgjIhA53+xgOgm9Ig/KE//A1o0laG1pwdaNJZB/XYqb0i027ApzJRbm/xJHTreACDhyugVrHnwIRx+8G3hlNRCmAh56Brj7AUAVPhxDwBFTd1+8+Eycw+kbT90fo2L0pIs1UFVVFbW1tVFVVRXpYg0UFaO3tRMVm0BgzDZbj3umjQzPke2ljjNSVVWVQ7tVVVVkNFpm4vaujJPWNNALix+htp/NpPr51xN9/Aeijo6hGZRRDvhMnMMZegaaTGr5ymJb4QN3i43N5+ph3rQRaWlpkEqlSEtLg3nTRjSfq0eFuRKL7l0GlrEBcWtbEbXwHTC5ymFxs3FnJRqO7EZqqqNNPDU1FbW1Fpt43Zl6aDJ/j7lRAqr3FaCo81/YLJ2Cidt2WiIuu23fnOGDiziH4wOs+U2a0kugX9OCpvQS5N9nEhVye8E/uHe3R4uNjY2NLgW4sbERy1cWQ3HXRocbgSJ1CU6VZaFlbzXOf7YJ9X9aBqVuHGpqHL1W7GtVXhACbJW8jxcPP4G6IBVuH7cOD01ajRPn6gc7RBwvwUWcw/EBns6mAUfBD8/cCCZTuXQHDJKrHG4C8fHxLgU4Pj4eB/fuxuktRfjuVxIcfTIFjTsrobphBbrOH8fJ392GM5sLoMnaCOn1jyNrQR6qq6vR3t6O6upqZGVlY8VDDwL/9xq+yrgSxqY9WD52CW4d/wI+D52M1v01iBob75uB4/Qb7mLI4fiA/iTYsgp+59ljaHh/BRSpS1BXmQdNpl2Wwso8hF5Z4FCCbfXq1ViQm4vXN260FQtekJuLW2+9Da9u2uKyJFuQZhz0ETJbTnImkaIJsNWqDA0JwfPz5uDOrz4A6utwKHYCrn3tj2ifG4ZgdRda93+KBnMOSn+7ZiiGkeMBXMQ5HB8QqR2Ls2uTcfb4Aaj0yQi6xgRBqXOZTMoq+MfWXGwLvOlqbsCpDXPQ1VwPJlMgdPp8qG9ehZaJ12H5yiJkZ2XaakoWFRWhtrYWycnJeOrJJ/HrR51LsoVekoVzfy0BtZxDY3A8NNFjbVkNrbUqL9zzFlYf/S1S24/hm8NtWPyXL/G/oD2oP1sPenMROuoOIEiTiKDO9iEdS457eNg9h+NlKisr8dCyZQ4z5KycXDScb8FrLz3n5P5nzZVy4qXrEbe2BU1fbkb9n022UPiGD1aC/vkizp87C5U+GQ1HdqOrq0v0+L3D9ht3VqL+XZPDzP7cG7mg9hYoc96AJv4SFO1bi0Xt/0arIIHp66N489K1kCZdbZnFm3OhvuVJhE6z9JuHzQ89POyewxlCiouL8fpGZ68RbXiIy0hFa93IIE0iWvfXoP6dB8GYgBMvXY8fHh+HkP9swh+2bUVrawu2vl4CrVaHykpxT5feYftntxdDk+lon1fctREKRQgyv3wQH32RgXs6/o2DsRMx7eP/ovKydRgz8bqe+p1ZG3F2e48tP1Dyro8WuIhzOF6mtrbWpdfIoUOHXLoaWutGqoNacXLD7aCudkT89DXErW1BmDzY2Y3QXIHi4h5R7e3KeOP1aQ75StqPO9fkvHBsHP7vomg8d4EGYyenQDC9gH8lX4k9B/e79IxpP94j2v6Ud53DRZzD8TrJyckuvUZU+skuXQ2tKXHrTvwAAUDk/ErbrPns8QNu/bhduTKWb3kX8+bcbCsmLA3p8XZRdDbiNz+8ivf3F2GKRgnkFAG/fg4YNwnLVxYjKHKca88YTSJPYOWviEUB+eLFIzY5owGz2UyJiYmOkZRxiRSZY7YVRYiKTSAiS1SlTBltK9bQO6pSbXAfUZkw0UjRS6ocojCtRRdsOU+YQIJcTQtn/5yOL/4pdebNotLrL6e3Nm5waJcJgqXAhKEoWUoAACAASURBVMYxWlRQaC05WtzkceH4FriJ2OzTO4UxJgPwKYBgWLxZNhPRCsZYIoA3AGgA7ASQQ0RtPrzfcDgBgdVrZP78+aivr0djYyOU0fGwZvIOHpeKw98fQoW5Er+8/0G0S2TQ/PQ1BI9LxdEnkh1qYQZdY0JWTi7Mm3oWSfPy8lBcXIwKcyUO7t2NOBeujAf37rYVU75+QSxWHngaP6ID+PexBiw60oKf3P8g7uxln48fn4wmtR7qm4pxZksR2o/XIkiTiIhQKU4ePezzceMMDE/MKa0AfkxEUwFcBOAGxtgVAJ4C8CwRjQdwBkCe77rJ4XifgYbFe4pUKsU777yD1tZWvF25AUGfmNC0s9JinogcZzGhnKmHJqsnslJ14+OoM/fUwhSUOpyob0JG5t0IlskwO+N23HjTzfhrzd8xf2GBaJ5waYga0XNewurQPfjz/l9iknAW9wfNwl3fnsMfdn7hdoFVotRBt/QLRBd8BLmkC88987RXx4XjZcSm6K5eAEIAfA7gcgCnAAR1b/8RgA/6+jw3p3D8BV/X2ExISHBpBlHFJJFEk0gR2WXEBIHAnJNSRWSX2RJWBUUmkabbDGNvirHWwhSrrzl/Qmy36eQGKlv6Ak1Z20Bxz7QRE4Q+x6WvFLicoQeDrbHJGJPAYjIZD+BFAGsA/JMss3AwxuIAvEdEKS4+uxjAYgAwGAzTDh06NNj7DoczaDypY9kfKisrUVxcjNraWhgMBhw6dAitra2QSnvKobW3tyM4OBgR8yogUeoQsr0IjY2NYBkbnPpR9/s70Nl81mXZtcMPBCO64GOX9TKv0Gux5iIDUrXh2NEaikcnP4FvQiYO+vw4w8ug/cSJqJOILgKgB3AZgAs8PTgRrSei6UQ0PSoqytOPcTg+xRp2bs9A/Z8rKythMplQUlKClpYWbNiwASqVStRDRaLUoW5TFm68Pg1zZ9+Cuu6kVFbvj7qyLFx71eUQZErXJdXGhDr0PXRaJuJmPYzXfnwx/n7DRbgqKR7fXn4Dbv3o7/jrJ2Xcq2SkIzZFF3sBeATAUnBzCieAcefV4SlW00NYWJiT6cRkMlFMTIyDh4pWqyUwRoI83PJTpiQWHEbKdBNJdUYCE0iqM5Iy3VJZJ7+gkJhcbfNcCYpMIpkymiJ1elvf45/tpF+t+JCOz7uOuvJmEW0qITp3logs5huFQkmMcdNIoAM35hRPRDsKgLr7dzmAvwK4BcD/Abire/srAAr6aouLOMdfGKxN3P7zTBCora3N4f22tjZijJHRaCRBECgpKYlk8hACugs0jAklZbqJwAQnm7jVdl1eYabg8FiHPgaHx1J+QSEptImUll9JnxX+kihvFv391supbd9u5z4Igldt/ZzhYbAiPgXAFwC+BrALwCPd28cB+DeAfd2CHtxXW1zEOf7EQBbxzGYzGY1GYoyRKiaJInPMor7cSUlJdrNwHSlnmnpqW4YbiIVFk0SlF52JR8UmuHxaGB8/jr595F7quHsmnchOowdmXEqJIgupaoOx308YHP9jUCLuzRcXcY49VkEUBIGMRiOZzf49WxQL4lHMKCRdnON2g8FAer2eBEEglUpNypkm0uSYbWIdFJlEgkJLgjLGZfHi/IJCJ8+V+Gc76b7f/JmOZ6URLbyRqPy3ROfPuu1bZI7ZI68Ujn8T0CLOXZ5GJq5EJzEx0a+F3Gh0PeNWG4wUmWMmVUySzYRifx7uIiEBRsqZJpfV5llwmO29S6JU9K851xLlzaK/3XYlvftKiVP/zGYzqcPDbe3YR4jymXhgE7Ai7mtfXs7wISaI1nByf0QQs30LgtvvZsJEIwVFJrk0jTCpnHT6XjNofSIxxkihjqCJ+lg6/OQy6lp4A7UW3E73Tk+mkAtnix6L/8+MTAJWxL3hQcDxT8QEURjix35XT3piT39iN56wsDCnp0T7NiJ1epeV5uOeaXPp2VJVVUXh4eH04I+mUmtBhsV0UvEiUeM5j+zc/Ol15BGwIs4E8ZV7TmDjDzNxV7NWmTKa5BrnCMjyCrPHJiBX7QoyleuZOGPON7O9u+kft15OlDeLOlf/kujQvp732tqIMYGCdEabp0ukTs+FeoQTsCLOZ+IjF7PZTHEGg4MgxhkMQ2oTd/X9EjN7WL9z7hZjbTPg4DCnNpTpJhIUWqcFTKsvORFZ/LvLXqCuvFl0fN51tPjCJKr6+GOHPldVVZFCqXZsJ9xAMmU0F/IRjDsR9+t84taEPPbRbDzqbGTQRcCphhbcnr0IwTIZbs9ehFMNLegaumqBLqM2O+oOuI3kzMzMxK5du9DZ2Yldu3bZMhba5/WmtianNiyV5k/gzJYiHH5AhjNbihB6eR4aWzuQnZWNb197FmS6G/Tpn1F66Ax+xHLwRsxdyMzKcqhEn5mVDXbFEocqPZqsjegYo8DylcXgjD78vsamNWH+oX21iB+fjFUrTC4zsHECC2/nLvFWH35YNR4RP32t3/2yb+vokykIn+N8bqe3FGHssp42qLMd0U9E4ZUbrsP04Eb89dgZPHygDXumPYiQaZm2PClqtRpnGxqgVKlQf6Yecc+0usinIgNjQFdnp7eGh+NHBHSNzeysTBzYswtdnZ04sGcXF/ARgjdzlwwUV096QW3ncO6N3H4//dmfjzLdhLo3HNut25SNkAszbPurO85i1Z7l+Pdtl8MQOga5X57G3PgncHjxF5bq8+iuqKOdjIaGBnR2duLM6dNImDhZtPIOL5k2OumzKASH4wvixyejya74ATD0tRuzszLxt7/9Hb/bOAftjfWQhqqxcEE2rrrqSixfWWR7+lu3rrjPyYP9+Virwp9+cxE66vYjYcJkzJk3B+VbzGibkIbciEYsPboByq5mvNqVjBeNxTjW9A7OlM9DZE6FrSJ93Rt5CL0kCxF2iT9XrTBh0b25wF0be/Yz50La2YJVKx734Whx/BYxY7kvXjxik2NluPyZ7d3vomITSKaMdg7AkUgJjFFUbIKoL3akTm/JgdK9nzWfiTLdZPEc6S6Jll9QaPvckz9fSJ9lXEWUN4v+cuuP6PK4WIcF0OBJs4jJVJaIzu7we1djUl5hpqjYBAJz9k7h7oUjEwSqdwpnZOMLwXHXpqsbhyTc4FR0gQWHkSQiwZLTJCySomITbO3lFxSSVK4khVJNTBBIqU0gSXfkpVwVRUze4zmiTDeRIFdTpCyYymZeTp13z6RjeXdQ0SMfUnTBxyTXGGw3EWtxB1c3AU/TE/BAn5GLOxH3+4VNDscTrPUqTze2I3J+pc3U0Lw5Dy93m0PEFlPPbClCTPeCo3WRMLrgI5x8/S4IkjEIvWwBmr7Zho7jtWBBMkRHKFBZWWmreZmVk4v2a1dBotajrnw+1LdZypmd/bMJv5hbCFPX3xHW1YiSvafwfHwhaNoC27Fp290IDQ3FoUOHELXwHae+0db5CJNJUVpa6lRj0+oZY8UfFos5vsHdwiYXcU7AY3Xva+4UEPHT19B19hg6/lKMhiO1UGoTMQatmHt7Bl5+6UXEPdOK5i83295XxSaj/shuGJ7tAuAo6j+sGo+Qi+/C+X++BkWYAmePH4BCocS2t7ciLa1HKKurq3FHbhGU9+1Cy95qnPzdbbgsSoVXbrgeF9Ex/CP0Qjwydgm+PnzA6YZx5AEZuro6IUgk0K9xruJzZkUE3nnnHafjFRUVYdcuR2EWa+PIUhn3WglwAto7hcPpi+UriyGfW4qOugPorD+CoE9M2LqxBK0tLXi74jUIXe149fflCIoch4YPVjq8v/X1Emijo3Hm/wosXiQVuVCmWzxROuoOoPGz1xGtlOHtitfQ2tKC8+fOIjXV0asmNTUVDUcsXjUxhgux/tJ4/HNWCmIkbVjcMQPXvPUePno4Cae3FKH9+G7b5xreXwkWHAZBIkGQXIWG91c6tNu6vwaNjY0uj1dbW+tU6FkTPdal5wr3WhnhiNlZfPHiNvGRz1AurFmPBTAK0hlJEpFAqpgk0QLFmhwzKZRq1++rVCRRaImFRdts5EGRSU65TUQzGarDaemCR+hM3m3U9rN0Wnv1pRQ1ZTYxudphoVJQaCn0qvzu33tS0CpnmkihVBFjAqnjLJkMFdpE0YLLCQkJTvZvexs7t4mPLMAXNjlDwVAurLk6FguLdp2LpDvfiOE5IsbEE29ZE0sF6Sw/2ZgQp/Zc5U+5aVIifTlnBlHeLPr45ivIGGsgyJTOYfYai/cKC1aSIA+3eaZE5pid8pHrdDFUsKRQNF9LVExPiTb7POWSELXFc4Z7p4wouIhT4BUgCEQ8zXUjNlvvzzWyHqtHwBgxuVq03qVSaak1qVSHiybesiZcAxgJIRGki42jpCTnmb21vWh5ML1104+I8mZRS+EcKrjUSNIxY7pn1D2Vf6xCbc03HhYW5lDwQawykDUZmKtxsfZVk2N2ylPOZ98jj1Ev4oFYgCAQ8STrpNhsvWBJYb+ukX2hBWW6iSQRljY12WWk1els7ZhMJtK5+dt6HJPJZCvIoFD13AwKCwtJrVbbBNRkMlGMLoZ+MWUcteXfRrT4JqK3XiNqbiSTyURardajyj9arZaUM02Wp4MBpOW13sSkOp4kbjQw6kXcH9KejgY8mYmL7aMOF58hu0IRHtVtb2YU1l3R3VrNBoyROs4ys3Y187bOpO2FWRcbR/IpGaTVWgReEAQqKytzurHcfEEi/W/BDUR5s+iH+xfQrdOm2toRs1+Lzf4VSkt6WnVc/7+f1puhu0LLnJHDqBdxfylAMNLxxCbOxERHxJZtvUb2UYqQykhQWGayTlVx4hJJou6xF4tXohdsQq9QqomNCaEwpcompkaj0dGUUn+aqHQNUd4sOjrvOrp7ygQy9EqlK26PF98udN+ItLqYfj8plleYSRoazmfio4BRL+J8Jj509OWdIiY6CoVS9BqVV5gdCjVYc36L2ZKV2gSSqPRuZ7lqg9Hh+EGRSQ5iazabLX83NxN9tI2o8A6ixTdTx5vrSTFG6nLW7cp+XlVVRUql63NTqNQOi5u2Opvh4R6b+niU5uhg1Is4t4n7T04NMGazX9u8NiISCYw5XSOtVkvKiCiSyB2r4lhNCKKzbEEgSEMoKDLJMsvtZadWR0STSptgKyisyS4jMMFpUXTu1GQ6d/88orxZRGuXEf3wne3G4urprqyszOlYWq2W5FMynG3iuhinavbWpxIw5vJaiV1Df7m2HGe8dW1GvYgTjW7vFH+arSVMtPhLW13ipN3+0wkTLdckISHB5tmhyS6j6CVVTvUprYt5ojNxpZJYt108MsdMErXe4hkiCCSTy0k7Vu9ogok1EBsTSkwaQlqtlv767h+pc/1TRHmz6EhWGn2z8SVqa23tdv3TkclkEn26kysiLOYZxkihVNmE2mGmHWfxpnFVRUiZbiKJMsbpWlkTbPnDNeR4hjf/77iIj3L8qcxdX19sT0qmaXLMJAk3WGa4vTxNrCLb2zvE6oYnVpg4LCyM1CoV3WuMp/r511Frbjo9fUUyRYSGUFhYGDHGKDY2lvLz8ykpyWJ6cXVsxYxCWxItdzZrJle7rOcpyNUu9+e278DDm/937kSc504ZBfhbTg131Zpc9fX8Z5tQ/85Sh8RWJ1+7BQpZEIqKirBt2zbU1tZCpVKhoKAAq1atsn22uroas2+fg3Nn68GCFUDrObS2tkIq7Wm/vb0d18fr8G7WTQirP4m9Y5TYPfUa3Lv6aWzcuNGWeCozKwsnjh+HKm4yqLURhQuzbcdOTk5GRkYGXty0DYpffIHDDwSDurrABAGS8ARoMkt78n9X5qHzzEFEjY3HyR8OQRqiRkdTA+InJOPQ3lro1zpfq8P3B7us6MPzovgv3vy/47lTRjnx45N9mlOjdw6PCnOl2/1dVWuytgFpiFNfg9R6MEFqq095cv3NiA5X4Pz581ixYoWt5mVDQwNWrFjh8NnU1FScP9eAuLWtiMrbhtCwMNTU2LVfX4e6p5bhLzddijCB4ZsZGbj9090wlbyMjRs3Ii0tDVKpFGlpaag0m6HUjYPiF1/g7MnvHI69a9curFixAg1HatG6vwZRY+MBAAkTJiN0WpZDbc0xY6dCotCBZWxA3NpWhOduQVh0PFatMCF+gutrJQ1V87woAYav/+9siE3RffHi5pThwZc2cW+0bd+GNa9275zfEd32cYU2kVQqtW2B0aO8JnaeKCFqLRkMBqr+aDt1vPcWtd9zK7X8LJ12Pf4AUUuzzfXPnVsgYPFNF8vRItcYHBYde4+PmMnEuvDlajy5TTzw4DZxjlfxlQeDO7ufp8fs3YYmx2zzLImKTbDkAmGM1OHhJAgWL5KysjInryNX0Zg6faIt9N3qN/7+C2toT+aPLRV2bk+ld373iq0v1puDmLugKiaJmExF8gsznHy7rd40vXOX9B4HUV95O5947oUyMvAL7xQAcQCqAewG8B8Av+jeHgFgO4C93T/D+2qLi/jIA4zZKtFIdUbS5Ji7g3cEj2chrsL1NdllFBYWRoIgkEqlIpVK5SCYer2ezGazg9dReHg4FRYW2hYew8LCSKLQ2rISGnN+R29eP83iMrg0hz597glR11Oz2Ux6vbMXi9Ud0SLGPTcWo9FIBUs8my3700IzJzAYrIjHALik+3cFgP8CmAzgaQDLurcvA/BUX21xER9ZlFeYndzhWFg0SVSxlvSwkUlOpc9cCVVvUYvMMZMu1jEa0mAwOLiFVlVVUWxsrEvxNRqNNhdD5UwTBUcYaNktmXR2/vXUkptOz6dNo08+/MA2e1epLAmrEhISbMcwm80UHR1NSUlJJAgCJSUl2dLVRur0TudgNptJHR5u8z23zv7FEoBx0winP3jVnALgDwDSAewBEEM9Qr+nr89yER9ZuDKDONmzNYk2IXeVDCthosVn2v5moIyK7TPC1t52nZSUZBPw3jPr26dMpv/Mn02UN4uqM1LpH3/Y4uCPnpSURGVlZU43CjH7ukKlJmlYpIPgujquLs5ixhHLY8JNI5z+4DURB5AA4DsASgD1dtuZ/d+9PrMYwA4AOwwGw9CdNcfn9DaDWAN3egfySHVGp1lp79motaiwu0VF+1w3Vt9uezF2CIU/fZLo1dVEebPowF3X0uz4aIcoSzGRTkpKsh1LLBpUEm5wmI2LJb6y5ifnZhLOYPGKiAMIA7ATwB3df9f3ev9MX23wmfjIovdM3F1IvSdBPcqZFtOG2KKiVWCts+bQ0FBb9KR1wXPTxo1E7/8fUUEG0T23UMeW35NcGkTqOMfFSlGR7r6JiGUetAozCw4jIsvNSNSTRRC4mYTjFQYt4gCkAD4AcJ/dNm5OGeX0nk0zEdc5Fqx0Mhm4WsxUxxkdUsDaC7R1cdNqn1ar1ZSRkeGQSfBz8+9pz0+vsSxcPv8bouPf24Q3MsdMak20bX9Rc4lSTZocs+tqO3YmEjBms70rVa5LvqnDw7mAc7zCYBc2GYAyAM/12r6m18Lm0321xUV85GGz7TLBKcdJT5pZZ5uwqxwqjAk2cS0sLKSYGGcXPsaYLTeKzYxx+iTRKxbTSdMvfkILLrrAKRTe8ByRYkYhhYSE2sLoe7sjarVaYmNCHepehimUTouVypl9F5rQarVUsKRwGK4IZyQyWBFPBUAAvgbwZffrJgAaAB93uxh+BCCir7a4iI9somITPHadyy8oJIlS52B6CVMoyWQyUWJioqhJxSryWq2WxkgE6vhTJVHBbKJ7biH6wyZqO3/OkqfbruCDNdind8Iss9lsc0dUKFUkyNWkTDfZXCaZXE2Qyp1qZSrs8o5bsZWAExwLHfOZOMcb8GCfAMQfvBf624f+uM658mwRQiNJ253Aqq/FzS/MG+jbOy3FiemFR4hO/EBEPQue9p+xmm7EC0QwglTuclFWEpFgKW4sU9qq1osVW2aCMOJ8v/3he8jhIh5w+IMf8UD74Mk/fXmFmViwpViwIA8nMIEEeTgp00220mpi2QZ/fPEUopdXEeXNon13zqDcSyY7+ZPr9XqHzyhUlmOIhcortQluF2UtNnDBdrNRqEQWPeOMzqakAK4e5Q/fQ44FLuIBhj9E9PmqD1ZhsC9ubC+akgiLSab3wmL19u305DWXUNvim4l+fivtf/5x0qiUpAqPcAzIUasdUtFqtVoCmMU0EhRMutg4l4uVgtx1qlfr9qDuaFSJJpGUM50LImt1MbbCx32NV6DktveH7yHHgjsR56lo/RB/SB3rqz4kTkpBU3oJzmwpQvicEsgmpNnea9lbjbry+ehqOw+lWoOzx/ZDoVTh8jAJfnulEROVcnRNvRz/SrgIty8uwBmpHvJz+xCp0eDAgQNITEzEqVN1aOsS0HL+DBSasRhz4xqETMvsab8sE4rwSDQc3g2FSo1zDQ1QxSWj/vBuxK11TvV6+AEZJAotQi+/G83fbLP1+cjyaCgUSpw9fgAhEWMhQSfO1R2DUjcOQT9eAYlaj+bNeXh5XbEtzS4AVFZWwmQyobS01JbiNi8vD8XFxcjM7NnPH/CH7yHHAk9FG2AMWQrLYejDoX21CB6Xivbjlp/2BI9LRefZ7xGtDsXbFa+h9egR7L1vPj68YTokjGHeZwcQ9IvHMTNrPs61EORtp/D21q3Yt28fOjs7sW/fPrz99lYECV2goGCoHj4AAnD0yRR89ysJTm8pQue5E+i6IAPRWh22bd2C1tYWbN1YAq1Wh4YPVjqdrzREhcXz5oC+Ntv63LizEl0drTh3vhGK6x+GQibFtrcq0NraircrXkPQR0tR97tbMW/OzQ4CDgDFxcUoLS11SHFbWlqK4uLiQY2rL/CH7yHHA8Sm6L54cXOKZ/iDLdJXfbA+oltLrPV+VA9TKKl6+4dE71YS5d9GlH8b/e/5VZQQO5bi+lFdXqLSWxYkw6K7MyIKlmLIcrUtmZY9Fh9xlej52lfpkaj0JAk3kDLdJGofV0bFklKldjKZuAsy8jdbsz98DzkWwG3igYe3vQL6Y4e1z2kiDQ0nxrznmeDWJh5uoFn6SOp6+GcWr5PfriQ6edQmch5Xl9cmkCbHTBgT6jI3uTvPl95jbn8domITSKaMJhYcZrsBufN4cZUdUSzISBWT5JcCyb1T/AMu4qMcVwmarKLSm6GYfZVXmCkqNqFnwZEJlBg3iTanTyfKm0WNv7yL6JvPbPtb3QY9qi4/Vk8Std7i520ntr1n+30l2BIbC7nG4BDUJFasOSkpyWX77pJl8UVDjhhcxEc5YrO/3qJF5F2PhL5mceUVZhoTLCfTtAuoccH11Ljgenpszs/IYBjnMlLTmq3Q/hxkMpklqtJaXb47BW5EdploBCkYcwrrV6vVVFjoGGEpNhaSkJ70Aq7C87VaLZWVlTm0Ze/jbjabLVGjvSJBA90lkeM7uIiPctzZYT3JaTIQcfFkRl/y85/Rf++8mihvFm25aQYZwkIo7pk2S54TgyWoRqVydBk0GAy21LG6WANFxehdHkuiSSShO71tbxGOik1wGdbf++lEbCzAmEMUp3KmicKUlpzkqpgkCtXo+7xpcvc9Tn/gIj7KEa09GWf0KLvgQMQlUqe3LShaK/7Y2jl5lL57aCFR3izauzCTslb+05Ioq1cCLTFTRVhYmKWWpSraNtt3OWNW6UmijnMyh5RXiNumPRXa3ucXllpILDTSVlZO2yuXSu+iFYIgkFKlJuVME1805PQJF/FRjjs7bF95vgciLuUVZqd8IxJNIsVk/56WX5xE9PNbqTE3nVbdU0zj17X2pKJNN9lmz9bZf1lZmcOCbFlZmdMThPiMWbAsoMpVBMaIBYdRpM4ycxd7OrHPWV5eYSa5xrIwqskus9TXZIzUarWTCAdFJjlVJ7Lub7WFu7wOuhhi3QvIcPFkNJTwRUz/hYv4KKYny6ClHqS1bJl98WCxijsD/Wd2NYPN/PlrtPenaRavk5ceJ4MiRNRUYc1TIg8JdUg1azWnyGQyh36JzZiDIpNIpowmucbgkNhKkKtJqRQJwVcqbSaV8gozyZTRJFFoSavVUkZGhpMJxirC1vB8d2Yosdm/UqUedjc+7k7o33ARH6W4tBUrY0iZ7ll4+ECOlzDR6LCgeNXTR+mDX64gyptFtXNS6aOStUQkLrxMprR9XqV1XTFHqU1wEBlX5yl018KMirUksJJoHN9ncpVTCL51sdNq+rD2UW3ozoaoFs8bLuYJYz+u7qoFDbdtnNvo/Rsu4qMUcaFU9RJ2HeUXDC73tb2QBumMFFfwIa19uJyaF95K5xfNpsfuWU1j9Qku97fPnWIt0xa9pErcB7tb9HqbgVz5eLPgMFGBlSi0LgNyrLZx++yHVpOOWH8isstsPun2phf74svu1iZczeCH0rzhrQVtjm/gIu4FAiVpkZXyCrPoI751Mc4+5epgZ1z2N4w7b8il/d0VdrbcPIMuuHGpy0fz/IJCErpn3oI8nMJSC222cYkyhlQxroN5rPnB3YmM/U0CTMRmDvf1PO1n4tbr7q4/mhyzzfQitqjZO+pUp9O5TJwVqdMPqXmDz8T9Gy7ig6Q/wTL+gFXAei+22WzFOu+nTGWCQFc98R2997M8orxZdP5XmdT+1b9tdmP7KjflFWaK1OldLn5q7MqfRcXonQRRbEHW2q61ypAgU9rOXSzEn8mULgs8VFVZAoLyCwot0aUzTTZXx97fA60uxmF9QR0n7vVSXmEmuSraMksXBFLFJNEYRSTJlNFOYt2fAhvegNvE/Rsu4oOkP8Ey/oB1VmVNnepzm3hrCz17/Y+oOe8mOrcgnfb+9gmi9p7Zrf1Y9XWDsQqutT/uXPIkyhibR0d+QSHJlD15UlhwGEVkl/XMkLvHISK7zLIPGElUsQQwUtmZVEwmE+n0iQ6eItaFYa1W61T3Uz4lw+EcxExAgiBQVIzeJuDWIB+r33qkTm/Lsa6MjBEvdedD8wb3TvFfuIgPR+dqOAAAFjlJREFUEk/c0fwJe/umJsdsM52w4DDb7HKgM67e/+jVzz9F9NACorxZ9Eb6ZaQPk7sdK+sNRtTEwQSSawwWUeslJg4z7e5Saj0LlWqSqPROeVI03bNkTY7F7bF3kI6rvODyKRmWCj69rq/ZbKaEhARijFFYWBjJQ8JI6E4bENRtlgoTmdknJCS4fKrQZJcRGHO6JmJFp7l5Y3TiTsR5KloPSE5ORk2NY0rOmpoaJCf7Z0pO+xSiodMyEbNsF6ILPkJ8fDxeerEEL68rRsj2IhxZKkPI9iKnnNdiVJgrkX+fCU3pJbiq+ADWX3MNrv26Cg1Nzcj6+iQWIx0NEpnbsbKmopVqXac5ZcFh6GiqhzCnDPo1LWhKL8GC/PtRsKQI2VmZOLBnF+InJCPy7q1Q37wKTCKFbEIaJKEaaOaVQTYhzbZNk7URDe/9BtTZDolSB2pvQeT8Sts+wrfbUFlZ6ZAWttJcgaCDnyDkwgynlKtdBNQ1M0QVfIwxs19CW3AEIu/eiri1LYiYU4Lz/yxFe8xlyMrJRXV1Ndrb21FdXY28vDx0dHQ4Hcv8eik6qlZCGqKGfG6pQ98VqUtwalM2WvZWgzrb0bK3Gs2b87BqhWkwXw3OSERM3X3xCtSZeKDaxL1t30yYaKT4gg/ouYdfp+aFt9C5RRn0yD1P0vhJPZ4crnKJ2I+VW1NPt3eK/QzaOgMV5Gq3wT3uFi8BZgn46WWicJeBUJCrnbI32i/+SVSuI1KlOqPLQB93qQ+Y6FMJc3iK4uaN0QvczMSDhvsmEghYK64UFRWhtrYWycnJflmJxYp1Vr18ZREO7atF/PhkrPNwti0KEaa2ncILXeUwnDiBP6iuRXHMQhwTVDjy2q8RPz4ZTftrEDItE00A7sgtQsORWqhUKrz04ovoIktVn4N7d0NyLBuanAqobliJkxvuALWchVSbDPXNxQidlgnZxOtwZksRQrsr8gSPS0VXy1ksX2k5B+ux7KsCBWkS0dprW+v+Gkgi4qHJ3ADadjeAcId9VHrLE1ZaWs9nampqEKZQQp6zFcHjUtG0vwb59+UBsDxF6O+xFIWgrnZoflqG4HGpaN1fg7o38qC6YSXaj9ciZFom6KK5OLtUhl27dgGwFINwdaz4+HhgTKjT+bTur4FUOxkxy3ahZW81QrYXDe76cUYs3JziIV0ENLYDBMvPrqGrajcgBAaESgEGy0+BDaKx4z8Azz+CbdddhKaOLvw08Snca1iG49JItO6vQZBchRuvT0Pz5jy07K2G/KK5GHNrCcKi4vHb31oE3GqGiVvbitDL78apDXfgjDkX1NKAuLUtiFm2y0G024/X2g7fur8GQdpkHNpn2bZqhcl2LKupobPlHOrKcxy21VXkIsR4C9reKcKpHw4hVArUl/3Etk/XBRnIzMpyMH1kZWWDXVHoYNqQzy3F8pXFNjNV/bu/djDLyCakQXNXKc5+sBKCTIXGnZVOFXBMJhPy8vKczCyrV692eT515lwornuIm1E4fSM2RffFK1DNKYHmfuU1809LM9HbG4nuuYVoye204wkThetcm0AU2kTKLyh06d3Q2wdZk2O2JYqyVstxFTJv73rY25fdWmnH3pyhyTHb8pNLdUZSzCh0Mu3EGSyZD619LFhS2JOONjzcrVeI9XsgmuIWzGYOkimjnb4f7mINehefcLWwyxm9gHunDI5AC4QYtEtkVxfR538jejDHkutk/ZNEZ04RkWvxtA9QcSXiVhu2JsdMkogEh5zflsAencONITg8ltiYUAevD1c3TVc3V2uulOglVW59tsXaCRLxKbePDBWLAGXBYbbfo2ITPL5eHE5fcBEfJIEWkjwol8hjR4ieNVnE+5F7iL79ymkXV+MRkV3mFLxjFd6EiUaX+UuswT3KdJOlDJxIWTR3s1GxcHurb7cn42B/k3a14Nr7BhKp07ss+yZR6f3+u8EJTLiID5JRMRNvaSba8nub6YQ+3ErU3u5yV1fjIRa8YxVWQcTvWaozDrjoRF8i7+k49PYO0eSYLRkP4To1rDW7oUMB5rBoj55KOJyBwEV8kAynTXwgOVv6ZRPv6iLa8VeipfMss+/XnrKZTsRwNR59RRiKu9EJ/boh2tfntJpkxK6Hp+MgkatcJ8iSq9z2QyzwyN6kEwhrKBz/h4u4FxiOkOSBLlCWV5gpKkZvqePYK5OeA0cPE617uMd0sucbj/uWX1BosY3DsjipjHRdCs0qzu5yfnsqcNabh3KmidRxlmuhUKpJMaNQ9EbgyU0QUplL8wikMo/Govd3Y6jynvAw+dHDoEQcwAYAJwDsstsWAWA7gL3dP8P7aocCXMSHg4GYRTx6amhpJtqygWjxzUSFtxNtf5uoo8PjfvW1oOjquO5yfnsqPgkTjaScaXIuTKyLIU122YDt0GCMIrLLHDI7WgstD0QYh2INJdA8pjiDw52IM8v74jDGrgZwHkAZEaV0b3sawGkiepIxtqxbxB/qy51x+vTptGPHjv77QY5SJBIJWlpaIJVKbdva29shk8nQ2dnp8jOJk1LQlF7iEDhiDRY58O03wM4a4K31wOmT2HK8EYXVOyCLTcKqFSaPg0nEjtG1ZT7ClCpbgFHvNivMlVi+slj0/b4QJBKoYpOx9fUSh6CZ6upq3J69COEKGQ7s2eVxe1ai9YlgGRuczuf0m4ugj+h/m26vwQD6N1zH4PgPjLGdRDTd1Xt9BvsQ0acATvfaPBvA692/vw4gY1A95LhkIDlbrLlJ7AkelwrZyUPAul8DrxTjTFsHZv7tOxTEPwbpY2fRlF6C/PtMqDBXetQvsWPUnfgBB/bsQldnJw7s2eUk0NbcJ2Lv90X8+GQ0fF+L1FTHY6empuLssf0DDoh59unVOFWW6Rhs80YelLNW2AKMrFSYK5E4KQWCRILESSmoMFc6bbMPfPJV3hOxa9C7v5yRz0AjNrVEdLT792MAtGI7MsYWM8Z2MMZ2nDx5coCHG52IRfmZTOJiYJ/8CgBCOpuxdM8qfJVxJXDwv0BmPi597xt8dd2LLqMSPaH3MQA4RSj6glUrTFAolC5vbPHx8QMOS8/OykREqBSn31yEww/IcGZLEdQ3FSNIrXc4J/sEYNbkXIvuXYaF+b902Fa+5V3Mm3PzgJKMecpwXQOOHyJmZyFHu3gCHG3i9b3eP+NJO9wm3n/6651is5UWfEz5j3xMR/LmEuXNon2mAqL600Q0eJvtcNpjC5YUkk4X4/VkZJ6ck7vF2aF2P+U28dEFBuud4kLE9wCI6f49BsAeT9oZbSI+XN4D76x/if56xzVEebNo10/T6P2XnnN43xt+78PpGeHuxtafm17vcxBLG2BF7OYHJvh0EdPT/nMBH7n4QsTXAFjW/fsyAE970s5oEvFhmSk1NxK99RrR4puIiuYQffwHok5nr5PhmsUNRHT6E7npqpyb2Cx9IGMwlDNxLtAcewYl4gAqARwF0A7gCIA8ABoAH8PiYvgRgIi+2qFRJuJDGuXZ1UX0r2qi+7MsPt+/f4ao4Yzbj9iLRKROT1GxCQMSDE9nvgMRTU8+Yx/8o1CpPXbJHMj1cdUfucbgskbmYESXm0o4vRn0TNxbr9Ek4kOWb+X7g0RrHrSI98oCon3/6dfHByMY/QlGGoho9vWZ3n13V9+yNwO9Pm5ztXhp1hxoaR44vsediPfpJ+5NRpOfuM/9eFuagHcqgI+3AcFy4PZc4JobAUEyZP1MSUlBSYmzz3ZRUZGtGIIVQSKBfk0LmKTH550623FkqQxdIj7vfX2md9/PrkvB1o2e9cdf/awrzJWYNy8bcWtb+zVWnJHNoPzE/7+9ew+OqjzjOP59uFQFyUW8UOSiKEU0bREr3gBNQa4K1ktLQBwZhAqIqG2tGjpOLZm21mFkWutUiSIqcSqIF6RIVcSiHcbrjELkjgitlU4lXAuaPP3jBBtwN1l29+TkbH6fmR0Ic5Z9XnZ49uzvfc97JD2JNvrPylphd1i5DKZPgKUL4IKBUDYbii9LqYFXVFRQVFREy5YtKSoq4uN1q9Neb1xZmXjNdmXl15+bzpK4hp5z+FrpVheXMvq61JZkhvb+ZODgEsZW7btp+aCkLtkpehiP5hSnuKc2OXVEX8W3bnK/92dBdHLPTe4bKo+onkTxR4cO3/S8QaUpf3WvW29BYWHCDLqgsPBr4wkjE08UO+QNKvV2+QX17xmTYCwN/dsnOzabUUp99x9VJt68oUy8aUq5se3d7f7Un9wnDA1Wnby2KOGqk4Yk24slL78gpYZxeL15g0r9pA4dDtvHpIPnDSpN+Hdle3VKNvZjSUWy92nS5JuyOgFZN6dvP3aebpIsX6mviSsTj1CDuezB6OTph2HnDug3JMi+2+Wn9Xr17cXS5fSeDe5pkqjeHYun0+KtP7Kzqoq8/Hxqzp1MwbAZiccTgkz3Y0lFsvfp8zlXUXj9gqzl6k01p5foKRNvourd/2LrJvjd7TD7Xig8Hu68H66blnYDh/r3YkllT5NE9eYPvpuqqiqqq6upqqoif/DdiceTZQf3Kxk79loAHn/8ibT2Y0lFsvfpiz07srp/SVPM6aXpUxOPUKKJu29seIWHB50P90yBbZth7M1w1/3QrUfGr5fOXiwN1Vt3wq2x9vNItIfJkWzgdaSSjat124KsjnfM6BIenFkW6p4rkoOS5SxhPJSJH+qQrPW+/T7pxt/7p2MGeM34we5zZ7nvqsr6a6Zzp6CE9aa4Z3gYE3KNvY66sTJxkWTQxGbT9cST83xIr16+fHgf9/GDffsto903rYm6rKQampxsjMvFU7lQJ5MPq0QaY3WKSDL1NXFNbEZp7x54bi4sewHaHAtXjoO+g6GFUq76NDQBWFFRQWlpKeXl5fTt25cVK1Ywfvx4ysrKKClRNCHxo4nNpsYd3nwZpt8Arz4P/YbCjHLoPzRnGniimydk63kNTQCWlZVRXl5OcXExrVu3pri4mPLycsrKUtsvXSRWkp2ih/FQnOLuWza4//rW4IKdsmnum9ZGXVHWpZuNH8nz6osxWhzBHioicYDilCZg7254di4sWwRt28FV4+CiQTlz5l1Xuuuds7VO+kj2dBGJA8UpUaqpgTeWQukNQfZ9yTCYMTu4cCcHGzikf//HbN03MtOllCJx0irqAnLalvXw5AOwoRK6nQG3/Aq6do+6qtB1Pb0nezeuOOSMOpX10+k+73AHJy+nTp1KZWUlPXv21KSm5Cw18TDs2RVEJ6+9CMe2g+tvgwsH5uyZ9+Fm3F3KpNvGw9XlHNWtL/s3rmDf/PHMnFn/xGK6z0ukpKRETVuaBTXxbKqpgTf/Cgsegd27gu1hR44NMvBm5OAVhtN/OfWrPU1mpnDlYbrPE2nONLGZLR+vC6KTjR/BaWfCmCnQ5bSoqxKRHFDfxKbOxDO1exc8+xgsfxGOzYNxP4ELBjSb6EREoqUmnq6Dq04WPBpk4MWXwxXXBVdeiog0EjXxdGxeB/Nqo5PuZ8HoKdC5W9RViUgzpCZ+JHbvhIVz4PW/QLsCGP9TOH8AmEVdmYg0U2riqaipgRUvwTOPBldeDhgJI8ZCm7ZRVyYizZyaeEM2rQlWnWxeC92LYPRkRSci0mSoiSeze2dw5v23JZBXADfcDucVKzoRkSZFTfxwNdVB435mDuzbAwOvgBHXwjGKTkSk6VETr2vjGpj3h2D1ybe+HVywc/IpUVclIpKUmjjArqogOlnxEuQVwoSfQ59LFJ2ISJOXURM3syHALKAlMNvdf5OVqhpLTTW8viRo4P/dCwN/ACPGKDoRkdhIu4mbWUvgAeBSYCvwlpk97+6rs1VcqDZUBqtOtqyHHt8JVp0oOhGRmMnkTLwPsN7dNwKY2VPASKBpN/FdO4JdBlcshYL2MPEOOPdiRSciEkuZNPGTgU/q/LwVOO/wg8xsIjARoEuXLhm8XIZqqmH5Ylj4GOzfB4OvgsvHwNFtoqtJRCRDoU9suvtDwEMQbEUb9usltGF1bXSyAc74bhCddOwaSSkiItmUSRPfBnSu83On2j9rOnbWRidvLIXC42HinXBuf0UnIpIzMmnibwHdzexUguY9ChidlaoyVV0d7O/97NwgOhlyDVw2Go4+JurKRESyKu0m7u5fmtlNwEsESwwfcfdVWassXetWBdvEfrIRevaCksnQMcIsXkQkRBll4u6+GFicpVoyU/U5LCiHN18OopMb74Jz+ik6EZGcFv8rNqur4bVFQXRyYD8M/SEML1F0IiLNQryb+LoPg1UnWzfBmb1h9CTo0Lnh54mI5Ih4NvGq/8D8cvj7K3DcCTBpOvS+SNGJiDQ78Wri1dWw7AV4bi4cOADDfhREJ0cdHXVlIiKRiE8TX/tBEJ1s2wxnnQMlk6BDp6irEhGJVDya+NxZwc2JjzsRJv8Czr5Q0YmICHFp4id2hOGjYNgoRSciInXEo4kPuSbqCkREmqQWURcgIiLpUxMXEYkxNXERkRhTExcRiTE1cRGRGFMTFxGJMTVxEZEYUxMXEYkxc2+8exeb2Xbg40Z7wfQcD/w76iIagcaZe5rLWJvjOLu6+wmJDmrUJh4HZva2u38v6jrCpnHmnuYyVo3zUIpTRERiTE1cRCTG1MS/7qGoC2gkGmfuaS5j1TjrUCYuIhJjOhMXEYkxNXERkRhTE6/DzFqa2XtmtijqWsJkZpvN7AMze9/M3o66nrCYWYGZzTezj8ys0swuiLqmbDOzHrXv48HHTjO7Jeq6wmBmt5rZKjP70MwqzCxnb/NlZtNqx7mqofczHnf2aTzTgEogL+pCGkGxu+f6BROzgCXufrWZfQNoE3VB2ebua4BeEJyEANuAhZEWFQIzOxm4GTjT3feZ2Z+BUcCcSAsLgZkVAROAPsABYImZLXL39YmO15l4LTPrBAwHZkddi2TOzPKB/kA5gLsfcPcd0VYVugHABndv6ldFp6sVcIyZtSL4QP5HxPWEpSew0t33uvuXwHLgymQHq4n/3/3A7UBN1IU0AgeWmtk7ZjYx6mJCciqwHXi0NiKbbWZtoy4qZKOAiqiLCIO7bwPuA7YA/wSq3H1ptFWF5kOgn5m1N7M2wDCgc7KD1cQBM7sM+Mzd34m6lkbS1917A0OBKWbWP+qCQtAK6A086O5nA3uAO6ItKTy1cdEI4OmoawmDmRUCIwk+nDsCbc3s2mirCoe7VwK/BZYCS4D3gepkx6uJBy4CRpjZZuAp4Ptm9kS0JYWn9qwGd/+MID/tE21FodgKbHX3lbU/zydo6rlqKPCuu/8r6kJCMhDY5O7b3f0L4BngwohrCo27l7v7Oe7eH/gcWJvsWDVxwN3vdPdO7n4KwVfSV909Jz/lzaytmbU7+HtgEMHXt5zi7p8Cn5hZj9o/GgCsjrCksJWQo1FKrS3A+WbWxsyM4P2sjLim0JjZibW/diHIw+clO1arU5qfk4CFwf8DWgHz3H1JtCWFZirwZG3UsBEYF3E9oaj9ML4U+HHUtYTF3Vea2XzgXeBL4D1y+/L7BWbWHvgCmFLfpLwuuxcRiTHFKSIiMaYmLiISY2riIiIxpiYuIhJjauIiIjGmJi4iEmNq4iIiMfY/sR3KFU3yX5MAAAAASUVORK5CYII=\n"
          },
          "metadata": {
            "needs_background": "light"
          }
        }
      ],
      "source": [
        "# 4. Graficar acá. Ayuda:\n",
        "x_start = min(np.min(X_train_f), np.min(X_test_f))\n",
        "x_end = max(np.max(X_train_f), np.max(X_test_f))\n",
        "x = np.linspace(x_start, x_end, 200).reshape(-1, 1)\n",
        "plt.plot(x, model1.predict(x), color=\"tomato\", label=\"modelo\")\n",
        "\n",
        "plt.scatter(X_train_f, y_train, facecolor=\"dodgerblue\", edgecolor=\"k\", label=\"train\")\n",
        "plt.scatter(X_test_f, y_test, facecolor=\"white\", edgecolor=\"k\", label=\"test\")\n",
        "plt.title(feature)\n",
        "plt.legend()\n",
        "plt.show()"
      ]
    },
    {
      "cell_type": "markdown",
      "metadata": {
        "id": "4XI5sHafCvb-"
      },
      "source": [
        "**5. Como podemos ver en el gráfico, el modelo obtiene una linea siguiendo una tendencia.**"
      ]
    },
    {
      "cell_type": "markdown",
      "metadata": {
        "id": "7GDl3r0OCvb_"
      },
      "source": [
        "## Ejercicio 4: Regresión Polinomial\n",
        "\n",
        "En este ejercicio deben entrenar regresiones polinomiales de diferente complejidad, siempre usando **scikit-learn**.\n",
        "\n",
        "Deben usar **el mismo atributo** seleccionado para el ejercicio anterior.\n",
        "\n",
        "1. Para varios grados de polinomio, haga lo siguiente:\n",
        "    1. Instancie y entrene una regresión polinomial.\n",
        "    2. Prediga y calcule error en entrenamiento y evaluación. Imprima los valores.\n",
        "    3. Guarde los errores en una lista.\n",
        "2. Grafique las curvas de error en términos del grado del polinomio.\n",
        "3. Interprete la curva, identificando el punto en que comienza a haber sobreajuste, si lo hay.\n",
        "4. Seleccione el modelo que mejor funcione, y grafique el modelo conjuntamente con los puntos.\n",
        "5. Interprete el resultado, haciendo algún comentario sobre las cualidades del modelo obtenido.\n",
        "\n",
        "**Observación:** Con algunos atributos se pueden obtener errores en test menores a 40 e incluso a 35."
      ]
    },
    {
      "cell_type": "code",
      "execution_count": null,
      "metadata": {
        "id": "tQ53URnSCvcB"
      },
      "outputs": [],
      "source": [
        "from sklearn.linear_model import LinearRegression\n",
        "from sklearn.preprocessing import PolynomialFeatures\n",
        "from sklearn.pipeline import make_pipeline\n",
        "degree = 2\n",
        "pf = PolynomialFeatures(degree)\n",
        "lr = LinearRegression(fit_intercept=False)  # el bias ya esta como feature\n",
        "model = make_pipeline(pf, lr)"
      ]
    },
    {
      "cell_type": "code",
      "source": [
        "X_train_f= X_train_f.reshape(-1, 1)\n",
        "X_test_f = X_test_f.reshape(-1, 1)\n",
        "X_train_f.shape, X_test_f.shape"
      ],
      "metadata": {
        "colab": {
          "base_uri": "https://localhost:8080/"
        },
        "id": "usgJJaZnLYvp",
        "outputId": "cdcbef9f-c72f-4599-b1b6-a5806041b357"
      },
      "execution_count": null,
      "outputs": [
        {
          "output_type": "execute_result",
          "data": {
            "text/plain": [
              "((404, 1), (102, 1))"
            ]
          },
          "metadata": {},
          "execution_count": 177
        }
      ]
    },
    {
      "cell_type": "code",
      "execution_count": null,
      "metadata": {
        "id": "GWWMlCq_CvcC",
        "outputId": "996cd2a3-fa03-4c4f-ee49-b4c45d942e38",
        "colab": {
          "base_uri": "https://localhost:8080/"
        }
      },
      "outputs": [
        {
          "output_type": "execute_result",
          "data": {
            "text/plain": [
              "Pipeline(steps=[('polynomialfeatures', PolynomialFeatures()),\n",
              "                ('linearregression', LinearRegression(fit_intercept=False))])"
            ]
          },
          "metadata": {},
          "execution_count": 178
        }
      ],
      "source": [
        "model.fit(X_train_f, y_train)"
      ]
    },
    {
      "cell_type": "code",
      "execution_count": null,
      "metadata": {
        "id": "Cyn-PAZ0CvcD",
        "outputId": "64be70a4-a45f-4940-866e-e14fc83d7e72",
        "colab": {
          "base_uri": "https://localhost:8080/"
        }
      },
      "outputs": [
        {
          "output_type": "execute_result",
          "data": {
            "text/plain": [
              "LinearRegression(fit_intercept=False)"
            ]
          },
          "metadata": {},
          "execution_count": 179
        }
      ],
      "source": [
        "Z_train = pf.fit_transform(X_train_f, y_train)\n",
        "lr.fit(Z_train, y_train)"
      ]
    },
    {
      "cell_type": "code",
      "execution_count": null,
      "metadata": {
        "id": "dIFmF2XcCvcE",
        "outputId": "403a77b2-c716-4032-9567-f5200a529641",
        "colab": {
          "base_uri": "https://localhost:8080/"
        }
      },
      "outputs": [
        {
          "output_type": "execute_result",
          "data": {
            "text/plain": [
              "array([ 68.20229886, -23.56509374,   2.56037958])"
            ]
          },
          "metadata": {},
          "execution_count": 180
        }
      ],
      "source": [
        "lr.coef_"
      ]
    },
    {
      "cell_type": "code",
      "execution_count": null,
      "metadata": {
        "id": "Nxy877CBCvcE",
        "outputId": "6146256d-d14a-4f90-8670-51f564e62a6f",
        "colab": {
          "base_uri": "https://localhost:8080/"
        }
      },
      "outputs": [
        {
          "output_type": "execute_result",
          "data": {
            "text/plain": [
              "0.0"
            ]
          },
          "metadata": {},
          "execution_count": 181
        }
      ],
      "source": [
        "lr.intercept_"
      ]
    },
    {
      "cell_type": "code",
      "execution_count": null,
      "metadata": {
        "id": "XpNQgCcXCvcF",
        "outputId": "83df10a1-8441-4559-9978-4720906ad639",
        "colab": {
          "base_uri": "https://localhost:8080/",
          "height": 265
        }
      },
      "outputs": [
        {
          "output_type": "display_data",
          "data": {
            "text/plain": [
              "<Figure size 432x288 with 1 Axes>"
            ],
            "image/png": "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\n"
          },
          "metadata": {
            "needs_background": "light"
          }
        }
      ],
      "source": [
        "# 2. Graficar curvas de error acá.\n",
        "plt.scatter(X_train_f, y_train, color=\"blue\", label=\"train\")\n",
        "plt.plot(x, model1.predict(x.reshape(-1, 1)), color=\"red\", label=\"modeloLineal\")\n",
        "plt.scatter(X_test_f, y_test, color=\"white\", edgecolor=\"k\", label=\"val\")\n",
        "plt.plot(x, model.predict(x.reshape(-1, 1)), color=\"green\", label=\"modeloPolinomial\")\n",
        "plt.legend()\n",
        "plt.show()"
      ]
    },
    {
      "cell_type": "code",
      "execution_count": null,
      "metadata": {
        "id": "36hKrDmCCvcG"
      },
      "outputs": [],
      "source": [
        "y_train_pred = model.predict(X_train_f)\n",
        "y_val_pred = model.predict(X_test_f)"
      ]
    },
    {
      "cell_type": "code",
      "execution_count": null,
      "metadata": {
        "id": "6JcumSd7CvcH",
        "outputId": "c2eb67dd-e56a-4eff-da2d-ab66bfbd5f0a",
        "colab": {
          "base_uri": "https://localhost:8080/"
        }
      },
      "outputs": [
        {
          "output_type": "execute_result",
          "data": {
            "text/plain": [
              "(102,)"
            ]
          },
          "metadata": {},
          "execution_count": 184
        }
      ],
      "source": [
        "y_test.shape"
      ]
    },
    {
      "cell_type": "code",
      "execution_count": null,
      "metadata": {
        "scrolled": true,
        "id": "cF_quXGICvcI",
        "outputId": "4d23d94e-9006-4cea-f3cf-61f69ee08022",
        "colab": {
          "base_uri": "https://localhost:8080/"
        }
      },
      "outputs": [
        {
          "output_type": "stream",
          "name": "stdout",
          "text": [
            "Train error: 3.8e+01\n",
            "Test error: 4e+01\n"
          ]
        }
      ],
      "source": [
        "from sklearn.metrics import mean_squared_error\n",
        "train_error = mean_squared_error(y_train, y_train_pred)\n",
        "val_error = mean_squared_error(y_test, y_val_pred)\n",
        "print(f'Train error: {train_error:0.2}')\n",
        "print(f'Test error: {val_error:0.2}')"
      ]
    },
    {
      "cell_type": "markdown",
      "metadata": {
        "id": "7GxGizEdCvcJ"
      },
      "source": [
        "# Curvas de error en términos del grado del polinomio."
      ]
    },
    {
      "cell_type": "code",
      "execution_count": null,
      "metadata": {
        "id": "4JCZsnIVCvcK"
      },
      "outputs": [],
      "source": [
        "train_errors = []\n",
        "val_errors = []\n",
        "degrees = [0, 1, 2, 3, 4, 5, 6, 7, 8, 9]\n",
        "for degree in degrees:\n",
        "    # train:\n",
        "    pf = PolynomialFeatures(degree)\n",
        "    lr = LinearRegression(fit_intercept=False)\n",
        "    model = make_pipeline(pf, lr)\n",
        "    model.fit(X_train_f, y_train)\n",
        "    \n",
        "    # predict:\n",
        "    y_train_pred = model.predict(X_train_f)\n",
        "    y_val_pred = model.predict(X_test_f)\n",
        "    \n",
        "    # evaluate:\n",
        "    train_error = mean_squared_error(y_train, y_train_pred)\n",
        "    val_error = mean_squared_error(y_test, y_val_pred)\n",
        "    train_errors.append(train_error)\n",
        "    val_errors.append(val_error)"
      ]
    },
    {
      "cell_type": "code",
      "execution_count": null,
      "metadata": {
        "id": "pUfr0Li4CvcL",
        "outputId": "b9240484-05a6-4814-c923-b96930f55c10",
        "colab": {
          "base_uri": "https://localhost:8080/",
          "height": 279
        }
      },
      "outputs": [
        {
          "output_type": "display_data",
          "data": {
            "text/plain": [
              "<Figure size 432x288 with 1 Axes>"
            ],
            "image/png": "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\n"
          },
          "metadata": {
            "needs_background": "light"
          }
        }
      ],
      "source": [
        "plt.plot(degrees, train_errors, color=\"blue\", label=\"train\")\n",
        "plt.plot(degrees, val_errors, color=\"red\", label=\"val\")\n",
        "plt.legend()\n",
        "plt.xlabel(\"degree\")\n",
        "plt.ylabel(\"error\")\n",
        "plt.show()"
      ]
    },
    {
      "cell_type": "markdown",
      "metadata": {
        "id": "7F4Z9zHSCvcL"
      },
      "source": [
        "**3. Vemos que tenemos sobre ajuste despues del grado 3.**"
      ]
    },
    {
      "cell_type": "markdown",
      "metadata": {
        "id": "aUi5tORvCvcM"
      },
      "source": [
        "**4. Para reconstruir mejor el modelo lo haremos en grado 3.**"
      ]
    },
    {
      "cell_type": "code",
      "execution_count": null,
      "metadata": {
        "id": "Dg31Y0TBCvcN"
      },
      "outputs": [],
      "source": [
        "degree = 3\n",
        "pf = PolynomialFeatures(degree)\n",
        "lr = LinearRegression(fit_intercept=False)  # el bias ya esta como feature\n",
        "model = make_pipeline(pf, lr)"
      ]
    },
    {
      "cell_type": "code",
      "execution_count": null,
      "metadata": {
        "id": "RRbdjpQSCvcO",
        "outputId": "f3c6169c-7859-417c-9193-a4599d9b22c5",
        "colab": {
          "base_uri": "https://localhost:8080/"
        }
      },
      "outputs": [
        {
          "output_type": "execute_result",
          "data": {
            "text/plain": [
              "Pipeline(steps=[('polynomialfeatures', PolynomialFeatures(degree=3)),\n",
              "                ('linearregression', LinearRegression(fit_intercept=False))])"
            ]
          },
          "metadata": {},
          "execution_count": 189
        }
      ],
      "source": [
        "model.fit(X_train_f, y_train)"
      ]
    },
    {
      "cell_type": "code",
      "execution_count": null,
      "metadata": {
        "id": "T-6-7bXHCvcP",
        "outputId": "23f5e1d5-06d1-46e6-aebe-f0ec71279054",
        "colab": {
          "base_uri": "https://localhost:8080/"
        }
      },
      "outputs": [
        {
          "output_type": "execute_result",
          "data": {
            "text/plain": [
              "LinearRegression(fit_intercept=False)"
            ]
          },
          "metadata": {},
          "execution_count": 190
        }
      ],
      "source": [
        "Z_train = pf.fit_transform(X_train_f, y_train)\n",
        "lr.fit(Z_train, y_train)"
      ]
    },
    {
      "cell_type": "code",
      "execution_count": null,
      "metadata": {
        "id": "a2R_qp7hCvcP",
        "outputId": "5a497aea-224a-4a44-b820-67db60873a57",
        "colab": {
          "base_uri": "https://localhost:8080/"
        }
      },
      "outputs": [
        {
          "output_type": "execute_result",
          "data": {
            "text/plain": [
              "array([ 274.12931892, -124.87102604,   18.86964785,   -0.85958803])"
            ]
          },
          "metadata": {},
          "execution_count": 191
        }
      ],
      "source": [
        "lr.coef_"
      ]
    },
    {
      "cell_type": "code",
      "execution_count": null,
      "metadata": {
        "id": "UVIo-89GCvcQ",
        "outputId": "41e42023-2e45-4795-e0c6-a904d0c6a4de",
        "colab": {
          "base_uri": "https://localhost:8080/"
        }
      },
      "outputs": [
        {
          "output_type": "execute_result",
          "data": {
            "text/plain": [
              "0.0"
            ]
          },
          "metadata": {},
          "execution_count": 192
        }
      ],
      "source": [
        "lr.intercept_"
      ]
    },
    {
      "cell_type": "code",
      "execution_count": null,
      "metadata": {
        "id": "4aO5HDzLCvcR",
        "outputId": "c41fbf02-c021-47ba-dd03-efda55e6101e",
        "colab": {
          "base_uri": "https://localhost:8080/",
          "height": 265
        }
      },
      "outputs": [
        {
          "output_type": "display_data",
          "data": {
            "text/plain": [
              "<Figure size 432x288 with 1 Axes>"
            ],
            "image/png": "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\n"
          },
          "metadata": {
            "needs_background": "light"
          }
        }
      ],
      "source": [
        "# 2. Graficar curvas de error acá.\n",
        "plt.scatter(X_train_f, y_train, color=\"blue\", label=\"train\")\n",
        "plt.plot(x, model1.predict(x.reshape(-1, 1)), color=\"red\", label=\"modeloLineal\")\n",
        "plt.scatter(X_test_f, y_test, color=\"white\", edgecolor=\"k\", label=\"val\")\n",
        "plt.plot(x, model.predict(x.reshape(-1, 1)), color=\"green\", label=\"modeloPolinomial\")\n",
        "plt.legend()\n",
        "plt.show()"
      ]
    },
    {
      "cell_type": "code",
      "execution_count": null,
      "metadata": {
        "id": "mZr4VFu2CvcS"
      },
      "outputs": [],
      "source": [
        "y_train_pred = model.predict(X_train_f)\n",
        "y_val_pred = model.predict(X_test_f)"
      ]
    },
    {
      "cell_type": "code",
      "execution_count": null,
      "metadata": {
        "id": "rfj8HYV3CvcS",
        "outputId": "4e054114-ca66-4751-b38d-d9ce7d5de349",
        "colab": {
          "base_uri": "https://localhost:8080/"
        }
      },
      "outputs": [
        {
          "output_type": "stream",
          "name": "stdout",
          "text": [
            "Train error: 3.6e+01\n",
            "Test error: 4e+01\n"
          ]
        }
      ],
      "source": [
        "from sklearn.metrics import mean_squared_error\n",
        "train_error = mean_squared_error(y_train, y_train_pred)\n",
        "val_error = mean_squared_error(y_test, y_val_pred)\n",
        "print(f'Train error: {train_error:0.2}')\n",
        "print(f'Test error: {val_error:0.2}')"
      ]
    },
    {
      "cell_type": "markdown",
      "metadata": {
        "id": "xsJWNyaaCvcT"
      },
      "source": [
        "**5. Vemos que con un modelo de grado 3 baja el error de entrenamiento aunque se mantiene el error de testeo.** "
      ]
    },
    {
      "cell_type": "markdown",
      "metadata": {
        "id": "dgYYUOG9CvcU"
      },
      "source": [
        "## Ejercicio 5: Regresión con más de un Atributo\n",
        "\n",
        "En este ejercicio deben entrenar regresiones que toman más de un atributo de entrada.\n",
        "\n",
        "1. Seleccione **dos o tres atributos** entre los más relevantes encontrados en el ejercicio 2.\n",
        "2. Repita el ejercicio anterior, pero usando los atributos seleccionados. No hace falta graficar el modelo final.\n",
        "3. Interprete el resultado y compare con los ejercicios anteriores. ¿Se obtuvieron mejores modelos? ¿Porqué?"
      ]
    },
    {
      "cell_type": "code",
      "execution_count": null,
      "metadata": {
        "id": "mtidzKqBCvcU",
        "outputId": "145ba6c9-8a73-4be6-e372-fe6f073c2229",
        "colab": {
          "base_uri": "https://localhost:8080/"
        }
      },
      "outputs": [
        {
          "output_type": "execute_result",
          "data": {
            "text/plain": [
              "((404, 2), (102, 2))"
            ]
          },
          "metadata": {},
          "execution_count": 196
        }
      ],
      "source": [
        "# 1. Resolver acá. Ayuda (con dos atributos):\n",
        "selector = (boston['feature_names'] == 'RM') | (boston['feature_names'] == 'LSTAT')\n",
        "X_train_fs = X_train[:, selector]\n",
        "X_test_fs = X_test[:, selector]\n",
        "X_train_fs.shape, X_test_fs.shape"
      ]
    },
    {
      "cell_type": "code",
      "execution_count": null,
      "metadata": {
        "id": "ZwbM2I-0CvcV"
      },
      "outputs": [],
      "source": [
        "degree = 1\n",
        "pf = PolynomialFeatures(degree)\n",
        "lr = LinearRegression(fit_intercept=False)  \n",
        "model3 = make_pipeline(pf, lr)"
      ]
    },
    {
      "cell_type": "code",
      "execution_count": null,
      "metadata": {
        "id": "hNXp-L1dCvcW",
        "outputId": "b2cfc1b3-3819-40d6-e6a2-f13743d26a04",
        "colab": {
          "base_uri": "https://localhost:8080/"
        }
      },
      "outputs": [
        {
          "output_type": "execute_result",
          "data": {
            "text/plain": [
              "Pipeline(steps=[('polynomialfeatures', PolynomialFeatures(degree=1)),\n",
              "                ('linearregression', LinearRegression(fit_intercept=False))])"
            ]
          },
          "metadata": {},
          "execution_count": 198
        }
      ],
      "source": [
        "model3.fit(X_train_fs, y_train)"
      ]
    },
    {
      "cell_type": "code",
      "execution_count": null,
      "metadata": {
        "id": "NXG9Rc-KCvcW",
        "outputId": "bfebecd2-b0d6-4f8e-cec6-667b8afa06b5",
        "colab": {
          "base_uri": "https://localhost:8080/"
        }
      },
      "outputs": [
        {
          "output_type": "execute_result",
          "data": {
            "text/plain": [
              "LinearRegression(fit_intercept=False)"
            ]
          },
          "metadata": {},
          "execution_count": 199
        }
      ],
      "source": [
        "Z_train = pf.fit_transform(X_train_fs, X_test_fs)\n",
        "lr.fit(Z_train, y_train)"
      ]
    },
    {
      "cell_type": "markdown",
      "metadata": {
        "id": "qoYSJND3CvcX"
      },
      "source": [
        "**2.**"
      ]
    },
    {
      "cell_type": "code",
      "execution_count": null,
      "metadata": {
        "id": "uCbzz_5vCvcY"
      },
      "outputs": [],
      "source": [
        "y_train_pred1 = model3.predict(X_train_fs)\n",
        "y_val_pred1 = model3.predict(X_test_fs)"
      ]
    },
    {
      "cell_type": "code",
      "execution_count": null,
      "metadata": {
        "id": "EsmgxBgsCvcY",
        "outputId": "008e815a-de71-4a02-bf85-ad382a9b6fea",
        "colab": {
          "base_uri": "https://localhost:8080/"
        }
      },
      "outputs": [
        {
          "output_type": "stream",
          "name": "stdout",
          "text": [
            "Train error: 3.6e+01\n",
            "Test error: 4e+01\n"
          ]
        }
      ],
      "source": [
        "from sklearn.metrics import mean_squared_error\n",
        "train_error = mean_squared_error(y_train, y_train_pred)\n",
        "val_error = mean_squared_error(y_test, y_val_pred)\n",
        "print(f'Train error: {train_error:0.2}')\n",
        "print(f'Test error: {val_error:0.2}')"
      ]
    },
    {
      "cell_type": "code",
      "execution_count": null,
      "metadata": {
        "id": "Avbe_fdeCvcZ",
        "outputId": "0c51d0b0-2097-4640-bf23-ee4d31c38e03",
        "colab": {
          "base_uri": "https://localhost:8080/",
          "height": 298
        }
      },
      "outputs": [
        {
          "output_type": "execute_result",
          "data": {
            "text/plain": [
              "Text(0.5, 1.0, 'Dos atributos')"
            ]
          },
          "metadata": {},
          "execution_count": 202
        },
        {
          "output_type": "display_data",
          "data": {
            "text/plain": [
              "<Figure size 432x288 with 1 Axes>"
            ],
            "image/png": "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\n"
          },
          "metadata": {
            "needs_background": "light"
          }
        }
      ],
      "source": [
        "feature = 'RM'\n",
        "feature2 = \"LSTAT\"\n",
        "selector1 = (boston['feature_names'] == feature)\n",
        "selector2 = (boston['feature_names'] == feature2)\n",
        "plt.scatter(X[:, selector1], y, facecolor=\"dodgerblue\", edgecolor=\"k\", label=\"RM\")\n",
        "plt.scatter(X[:, selector2], y, facecolor=\"green\", edgecolor=\"k\", label=\"LSTAT\")\n",
        "#plt.plot(x, model3.predict(x.reshape(-1, 1)), color=\"red\", label=\"modeloLineal\")\n",
        "plt.xlim(0, 30)\n",
        "plt.legend()\n",
        "plt.title(\"Dos atributos\")"
      ]
    },
    {
      "cell_type": "markdown",
      "metadata": {
        "id": "c0xw3bvJCvcb"
      },
      "source": [
        "**3.Segun los resultados obtenidos y en funcion a la tasa de error, se obtiene mejores resultados en el train pero peores en el test.**"
      ]
    },
    {
      "cell_type": "markdown",
      "metadata": {
        "id": "ikfAW6tWCvcc"
      },
      "source": [
        "## Más ejercicios (opcionales)\n",
        "\n",
        "### Ejercicio 6: A Todo Feature\n",
        "\n",
        "Entrene y evalúe regresiones pero utilizando todos los atributos de entrada (va a andar mucho más lento). Estudie los resultados.\n",
        "\n",
        "### Ejercicio 7: Regularización\n",
        "\n",
        "Entrene y evalúe regresiones con regularización \"ridge\". Deberá probar distintos valores de \"alpha\" (fuerza de la regularización). ¿Mejoran los resultados?\n"
      ]
    }
  ],
  "metadata": {
    "interpreter": {
      "hash": "aee8b7b246df8f9039afb4144a1f6fd8d2ca17a180786b69acc140d282b71a49"
    },
    "kernelspec": {
      "display_name": "Python 3.9.5 64-bit",
      "language": "python",
      "name": "python3"
    },
    "language_info": {
      "codemirror_mode": {
        "name": "ipython",
        "version": 3
      },
      "file_extension": ".py",
      "mimetype": "text/x-python",
      "name": "python",
      "nbconvert_exporter": "python",
      "pygments_lexer": "ipython3",
      "version": "3.9.5"
    },
    "colab": {
      "name": "Grupo_10_IntroML_Entregable_Parte_1.ipynb",
      "provenance": [],
      "collapsed_sections": [
        "ikfAW6tWCvcc"
=======
     },
     "execution_count": 4,
     "metadata": {},
     "output_type": "execute_result"
    }
   ],
   "source": [
    "from sklearn.datasets import load_boston\n",
    "boston = load_boston()\n",
    "boston.keys()"
   ]
  },
  {
   "cell_type": "code",
   "execution_count": null,
   "metadata": {},
   "outputs": [],
   "source": []
  },
  {
   "cell_type": "code",
   "execution_count": 5,
   "metadata": {},
   "outputs": [
    {
     "name": "stdout",
     "output_type": "stream",
     "text": [
      ".. _boston_dataset:\n",
      "\n",
      "Boston house prices dataset\n",
      "---------------------------\n",
      "\n",
      "**Data Set Characteristics:**  \n",
      "\n",
      "    :Number of Instances: 506 \n",
      "\n",
      "    :Number of Attributes: 13 numeric/categorical predictive. Median Value (attribute 14) is usually the target.\n",
      "\n",
      "    :Attribute Information (in order):\n",
      "        - CRIM     per capita crime rate by town\n",
      "        - ZN       proportion of residential land zoned for lots over 25,000 sq.ft.\n",
      "        - INDUS    proportion of non-retail business acres per town\n",
      "        - CHAS     Charles River dummy variable (= 1 if tract bounds river; 0 otherwise)\n",
      "        - NOX      nitric oxides concentration (parts per 10 million)\n",
      "        - RM       average number of rooms per dwelling\n",
      "        - AGE      proportion of owner-occupied units built prior to 1940\n",
      "        - DIS      weighted distances to five Boston employment centres\n",
      "        - RAD      index of accessibility to radial highways\n",
      "        - TAX      full-value property-tax rate per $10,000\n",
      "        - PTRATIO  pupil-teacher ratio by town\n",
      "        - B        1000(Bk - 0.63)^2 where Bk is the proportion of black people by town\n",
      "        - LSTAT    % lower status of the population\n",
      "        - MEDV     Median value of owner-occupied homes in $1000's\n",
      "\n",
      "    :Missing Attribute Values: None\n",
      "\n",
      "    :Creator: Harrison, D. and Rubinfeld, D.L.\n",
      "\n",
      "This is a copy of UCI ML housing dataset.\n",
      "https://archive.ics.uci.edu/ml/machine-learning-databases/housing/\n",
      "\n",
      "\n",
      "This dataset was taken from the StatLib library which is maintained at Carnegie Mellon University.\n",
      "\n",
      "The Boston house-price data of Harrison, D. and Rubinfeld, D.L. 'Hedonic\n",
      "prices and the demand for clean air', J. Environ. Economics & Management,\n",
      "vol.5, 81-102, 1978.   Used in Belsley, Kuh & Welsch, 'Regression diagnostics\n",
      "...', Wiley, 1980.   N.B. Various transformations are used in the table on\n",
      "pages 244-261 of the latter.\n",
      "\n",
      "The Boston house-price data has been used in many machine learning papers that address regression\n",
      "problems.   \n",
      "     \n",
      ".. topic:: References\n",
      "\n",
      "   - Belsley, Kuh & Welsch, 'Regression diagnostics: Identifying Influential Data and Sources of Collinearity', Wiley, 1980. 244-261.\n",
      "   - Quinlan,R. (1993). Combining Instance-Based and Model-Based Learning. In Proceedings on the Tenth International Conference of Machine Learning, 236-243, University of Massachusetts, Amherst. Morgan Kaufmann.\n",
      "\n",
      "[[6.3200e-03 1.8000e+01 2.3100e+00 ... 1.5300e+01 3.9690e+02 4.9800e+00]\n",
      " [2.7310e-02 0.0000e+00 7.0700e+00 ... 1.7800e+01 3.9690e+02 9.1400e+00]\n",
      " [2.7290e-02 0.0000e+00 7.0700e+00 ... 1.7800e+01 3.9283e+02 4.0300e+00]\n",
      " ...\n",
      " [6.0760e-02 0.0000e+00 1.1930e+01 ... 2.1000e+01 3.9690e+02 5.6400e+00]\n",
      " [1.0959e-01 0.0000e+00 1.1930e+01 ... 2.1000e+01 3.9345e+02 6.4800e+00]\n",
      " [4.7410e-02 0.0000e+00 1.1930e+01 ... 2.1000e+01 3.9690e+02 7.8800e+00]]\n"
     ]
    }
   ],
   "source": [
    "print(boston['DESCR'])   # descripción del dataset\n",
    "print(boston['data'])           # matriz con los datos de entrada (atributos)\n",
    "#print(boston['target'])         # vector de valores a predecir\n",
    "#print(boston['feature_names']  # nombres de los atributos para cada columna de 'data'"
   ]
  },
  {
   "cell_type": "code",
   "execution_count": 6,
   "metadata": {},
   "outputs": [
    {
     "data": {
      "text/plain": [
       "((506, 13), (506,))"
      ]
     },
     "execution_count": 6,
     "metadata": {},
     "output_type": "execute_result"
    }
   ],
   "source": [
    "boston['data'].shape, boston['target'].shape"
   ]
  },
  {
   "cell_type": "markdown",
   "metadata": {},
   "source": [
    "## División en Entrenamiento y Evaluación\n",
    "\n",
    "Dividimos aleatoriamente los datos en 80% para entrenamiento y 20% para evaluación:"
   ]
  },
  {
   "cell_type": "code",
   "execution_count": 7,
   "metadata": {},
   "outputs": [
    {
     "data": {
      "text/plain": [
       "((404, 13), (102, 13))"
      ]
     },
     "execution_count": 7,
     "metadata": {},
     "output_type": "execute_result"
    }
   ],
   "source": [
    "from sklearn.model_selection import train_test_split\n",
    "X, y = boston['data'], boston['target']\n",
    "X_train, X_test, y_train, y_test = train_test_split(X, y, train_size=0.8, random_state=0)\n",
    "X_train.shape, X_test.shape"
   ]
  },
  {
   "cell_type": "markdown",
   "metadata": {},
   "source": [
    "## Ejercicio 1: Descripción de los Datos y la Tarea\n",
    "\n",
    "Responda las siguientes preguntas:\n",
    "\n",
    "1. ¿De qué se trata el conjunto de datos?\n",
    "2. ¿Cuál es la variable objetivo que hay que predecir? ¿Qué significado tiene?\n",
    "3. ¿Qué información (atributos) hay disponibles para hacer la predicción?\n",
    "4. ¿Qué atributos imagina ud. que serán los más determinantes para la predicción?\n",
    "5. ¿Qué problemas observa a priori en el conjunto de datos? ¿Observa posibles sesgos, riesgos, dilemas éticos, etc? Piense que los datos pueden ser utilizados para hacer predicciones futuras.\n",
    "\n",
    "**No hace falta escribir código para responder estas preguntas.**"
   ]
  },
  {
   "cell_type": "markdown",
   "metadata": {},
   "source": [
    "1. El conjunto de datos muestra la relación entre variables como son el crimen, el tamaño de los lotes residenciales, la cantidad de lotes utilizados para otros fines, cantidad de habitaciones promedio, etc. con el precio de las casas. \n",
    "2. Lo que buscamos predecir es el precio de las casas en funcion de los atributos dados. Lo cual implicará que dada ciertas características de las casas, podremos establecer un precio. \n",
    "3. Los atributos disponibles son:\n",
    "        - CRIM     per capita crime rate by town\n",
    "        - ZN       proportion of residential land zoned for lots over 25,000 sq.ft.\n",
    "        - INDUS    proportion of non-retail business acres per town\n",
    "        - CHAS     Charles River dummy variable (= 1 if tract bounds river; 0 otherwise)\n",
    "        - NOX      nitric oxides concentration (parts per 10 million)\n",
    "        - RM       average number of rooms per dwelling\n",
    "        - AGE      proportion of owner-occupied units built prior to 1940\n",
    "        - DIS      weighted distances to five Boston employment centres\n",
    "        - RAD      index of accessibility to radial highways\n",
    "        - TAX      full-value property-tax rate per $10,000\n",
    "        - PTRATIO  pupil-teacher ratio by town\n",
    "        - B        1000(Bk - 0.63)^2 where Bk is the proportion of black people by town\n",
    "        - LSTAT    % lower status of the population\n",
    "        - MEDV     Median value of owner-occupied homes in $1000's\n",
    "\n",
    "4. A nuestro entender los mejores atributos son: CRIM, RM, ZN, PTRATIO \n",
    "\n",
    "5. Hay una falta etica grave al establecer la proporcion de personas de raza negra como un factor para establecer, y mas aún, predecir el precio de las viviendas \n"
   ]
  },
  {
   "cell_type": "markdown",
   "metadata": {},
   "source": [
    "## Ejercicio 2: Visualización de los Datos\n",
    "\n",
    "1. Para cada atributo de entrada, haga una gráfica que muestre su relación con la variable objetivo.\n",
    "2. Estudie las gráficas, identificando **a ojo** los atributos que a su criterio sean los más informativos para la predicción.\n",
    "3. Para ud., ¿cuáles son esos atributos? Lístelos en orden de importancia."
   ]
  },
  {
   "cell_type": "code",
   "execution_count": 8,
   "metadata": {},
   "outputs": [
    {
     "data": {
      "text/plain": [
       "Text(0.5, 1.0, 'CRIM')"
      ]
     },
     "execution_count": 8,
     "metadata": {},
     "output_type": "execute_result"
    },
    {
     "data": {
      "image/png": "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",
      "text/plain": [
       "<Figure size 432x288 with 1 Axes>"
      ]
     },
     "metadata": {
      "needs_background": "light"
     },
     "output_type": "display_data"
    }
   ],
   "source": [
    "# 1. Resolver acá. Ayuda/ejemplo:\n",
    "feature = 'CRIM'\n",
    "selector = (boston['feature_names'] == feature)\n",
    "plt.scatter(X[:, selector], y, facecolor=\"dodgerblue\", edgecolor=\"k\", label=\"datos\")\n",
    "plt.title(feature)"
   ]
  },
  {
   "cell_type": "code",
   "execution_count": 9,
   "metadata": {},
   "outputs": [
    {
     "data": {
      "image/png": "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",
      "text/plain": [
       "<Figure size 432x288 with 1 Axes>"
      ]
     },
     "metadata": {
      "needs_background": "light"
     },
     "output_type": "display_data"
    }
   ],
   "source": [
    "# 1. Resolver acá. Ayuda/ejemplo:\n",
    "feature = 'LSTAT'\n",
    "selector = (boston['feature_names'] == feature)\n",
    "plt.scatter(X[:, selector], y, facecolor=\"dodgerblue\", edgecolor=\"k\", label=\"datos\")\n",
    "plt.title(feature)\n",
    "plt.show()"
   ]
  },
  {
   "cell_type": "code",
   "execution_count": 10,
   "metadata": {},
   "outputs": [
    {
     "data": {
      "image/png": "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",
      "text/plain": [
       "<Figure size 432x288 with 1 Axes>"
      ]
     },
     "metadata": {
      "needs_background": "light"
     },
     "output_type": "display_data"
    }
   ],
   "source": [
    "feature = 'RM'\n",
    "selector = (boston['feature_names'] == feature)\n",
    "plt.scatter(X[:, selector], y, facecolor=\"dodgerblue\", edgecolor=\"k\", label=\"datos\")\n",
    "plt.title(feature)\n",
    "plt.show()"
   ]
  },
  {
   "cell_type": "raw",
   "metadata": {},
   "source": []
  },
  {
   "cell_type": "markdown",
   "metadata": {},
   "source": [
    "**3. Entre los atributos que identificamos como mas \"informativos\" para la predicción, identificamos RM: cantidad de habitaciones por casa, LSTAT que se podria traducir como cantidad de población con menor nivel social. En crimen podemos ver una pequeña recta en su inicio indicando un descenso del precio.**"
   ]
  },
  {
   "cell_type": "markdown",
   "metadata": {},
   "source": [
    "## Ejercicio 3: Regresión Lineal\n",
    "\n",
    "1. Seleccione **un solo atributo** que considere puede ser el más apropiado.\n",
    "2. Instancie una regresión lineal de **scikit-learn**, y entrénela usando sólo el atributo seleccionado.\n",
    "3. Evalúe, calculando error cuadrático medio para los conjuntos de entrenamiento y evaluación.\n",
    "4. Grafique el modelo resultante, junto con los puntos de entrenamiento y evaluación.\n",
    "5. Interprete el resultado, haciendo algún comentario sobre las cualidades del modelo obtenido.\n",
    "\n",
    "**Observación:** Con algunos atributos se puede obtener un error en test menor a 50."
   ]
  },
  {
   "cell_type": "code",
   "execution_count": 11,
   "metadata": {},
   "outputs": [
    {
     "data": {
      "text/plain": [
       "((404, 1), (102, 1))"
      ]
     },
     "execution_count": 11,
     "metadata": {},
     "output_type": "execute_result"
    }
   ],
   "source": [
    "# 1. Resolver acá. Ayuda:\n",
    "feature = 'RM'  # selecciono el atributo 'RM'\n",
    "selector = (boston['feature_names'] == feature)\n",
    "X_train, X_test, y_train, y_test = train_test_split(X, y, train_size=0.8, random_state=0)\n",
    "X_train_f = X_train[:, selector]\n",
    "X_test_f = X_test[:, selector]\n",
    "X_train_f.shape, X_test_f.shape"
   ]
  },
  {
   "cell_type": "code",
   "execution_count": 12,
   "metadata": {},
   "outputs": [
    {
     "data": {
      "text/html": [
       "<style>#sk-container-id-1 {color: black;background-color: white;}#sk-container-id-1 pre{padding: 0;}#sk-container-id-1 div.sk-toggleable {background-color: white;}#sk-container-id-1 label.sk-toggleable__label {cursor: pointer;display: block;width: 100%;margin-bottom: 0;padding: 0.3em;box-sizing: border-box;text-align: center;}#sk-container-id-1 label.sk-toggleable__label-arrow:before {content: \"▸\";float: left;margin-right: 0.25em;color: #696969;}#sk-container-id-1 label.sk-toggleable__label-arrow:hover:before {color: black;}#sk-container-id-1 div.sk-estimator:hover label.sk-toggleable__label-arrow:before {color: black;}#sk-container-id-1 div.sk-toggleable__content {max-height: 0;max-width: 0;overflow: hidden;text-align: left;background-color: #f0f8ff;}#sk-container-id-1 div.sk-toggleable__content pre {margin: 0.2em;color: black;border-radius: 0.25em;background-color: #f0f8ff;}#sk-container-id-1 input.sk-toggleable__control:checked~div.sk-toggleable__content {max-height: 200px;max-width: 100%;overflow: auto;}#sk-container-id-1 input.sk-toggleable__control:checked~label.sk-toggleable__label-arrow:before {content: \"▾\";}#sk-container-id-1 div.sk-estimator input.sk-toggleable__control:checked~label.sk-toggleable__label {background-color: #d4ebff;}#sk-container-id-1 div.sk-label input.sk-toggleable__control:checked~label.sk-toggleable__label {background-color: #d4ebff;}#sk-container-id-1 input.sk-hidden--visually {border: 0;clip: rect(1px 1px 1px 1px);clip: rect(1px, 1px, 1px, 1px);height: 1px;margin: -1px;overflow: hidden;padding: 0;position: absolute;width: 1px;}#sk-container-id-1 div.sk-estimator {font-family: monospace;background-color: #f0f8ff;border: 1px dotted black;border-radius: 0.25em;box-sizing: border-box;margin-bottom: 0.5em;}#sk-container-id-1 div.sk-estimator:hover {background-color: #d4ebff;}#sk-container-id-1 div.sk-parallel-item::after {content: \"\";width: 100%;border-bottom: 1px solid gray;flex-grow: 1;}#sk-container-id-1 div.sk-label:hover label.sk-toggleable__label {background-color: #d4ebff;}#sk-container-id-1 div.sk-serial::before {content: \"\";position: absolute;border-left: 1px solid gray;box-sizing: border-box;top: 0;bottom: 0;left: 50%;z-index: 0;}#sk-container-id-1 div.sk-serial {display: flex;flex-direction: column;align-items: center;background-color: white;padding-right: 0.2em;padding-left: 0.2em;position: relative;}#sk-container-id-1 div.sk-item {position: relative;z-index: 1;}#sk-container-id-1 div.sk-parallel {display: flex;align-items: stretch;justify-content: center;background-color: white;position: relative;}#sk-container-id-1 div.sk-item::before, #sk-container-id-1 div.sk-parallel-item::before {content: \"\";position: absolute;border-left: 1px solid gray;box-sizing: border-box;top: 0;bottom: 0;left: 50%;z-index: -1;}#sk-container-id-1 div.sk-parallel-item {display: flex;flex-direction: column;z-index: 1;position: relative;background-color: white;}#sk-container-id-1 div.sk-parallel-item:first-child::after {align-self: flex-end;width: 50%;}#sk-container-id-1 div.sk-parallel-item:last-child::after {align-self: flex-start;width: 50%;}#sk-container-id-1 div.sk-parallel-item:only-child::after {width: 0;}#sk-container-id-1 div.sk-dashed-wrapped {border: 1px dashed gray;margin: 0 0.4em 0.5em 0.4em;box-sizing: border-box;padding-bottom: 0.4em;background-color: white;}#sk-container-id-1 div.sk-label label {font-family: monospace;font-weight: bold;display: inline-block;line-height: 1.2em;}#sk-container-id-1 div.sk-label-container {text-align: center;}#sk-container-id-1 div.sk-container {/* jupyter's `normalize.less` sets `[hidden] { display: none; }` but bootstrap.min.css set `[hidden] { display: none !important; }` so we also need the `!important` here to be able to override the default hidden behavior on the sphinx rendered scikit-learn.org. See: https://github.com/scikit-learn/scikit-learn/issues/21755 */display: inline-block !important;position: relative;}#sk-container-id-1 div.sk-text-repr-fallback {display: none;}</style><div id=\"sk-container-id-1\" class=\"sk-top-container\"><div class=\"sk-text-repr-fallback\"><pre>LinearRegression()</pre><b>In a Jupyter environment, please rerun this cell to show the HTML representation or trust the notebook. <br />On GitHub, the HTML representation is unable to render, please try loading this page with nbviewer.org.</b></div><div class=\"sk-container\" hidden><div class=\"sk-item\"><div class=\"sk-estimator sk-toggleable\"><input class=\"sk-toggleable__control sk-hidden--visually\" id=\"sk-estimator-id-1\" type=\"checkbox\" checked><label for=\"sk-estimator-id-1\" class=\"sk-toggleable__label sk-toggleable__label-arrow\">LinearRegression</label><div class=\"sk-toggleable__content\"><pre>LinearRegression()</pre></div></div></div></div></div>"
      ],
      "text/plain": [
       "LinearRegression()"
      ]
     },
     "execution_count": 12,
     "metadata": {},
     "output_type": "execute_result"
    }
   ],
   "source": [
    "from sklearn.linear_model import LinearRegression\n",
    "model1=LinearRegression()\n",
    "model1.fit(X_train_f, y_train)"
   ]
  },
  {
   "cell_type": "code",
   "execution_count": 13,
   "metadata": {},
   "outputs": [
    {
     "data": {
      "text/plain": [
       "array([9.37638431])"
      ]
     },
     "execution_count": 13,
     "metadata": {},
     "output_type": "execute_result"
    }
   ],
   "source": [
    "model1.coef_"
   ]
  },
  {
   "cell_type": "code",
   "execution_count": 14,
   "metadata": {},
   "outputs": [
    {
     "data": {
      "text/plain": [
       "-36.476189627647315"
      ]
     },
     "execution_count": 14,
     "metadata": {},
     "output_type": "execute_result"
    }
   ],
   "source": [
    "model1.intercept_"
   ]
  },
  {
   "cell_type": "code",
   "execution_count": 15,
   "metadata": {},
   "outputs": [],
   "source": [
    "# 3. Predecir y evaluar acá.\n"
   ]
  },
  {
   "cell_type": "code",
   "execution_count": 16,
   "metadata": {},
   "outputs": [
    {
     "data": {
      "image/png": "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",
      "text/plain": [
       "<Figure size 432x288 with 1 Axes>"
      ]
     },
     "metadata": {
      "needs_background": "light"
     },
     "output_type": "display_data"
    }
   ],
   "source": [
    "# 4. Graficar acá. Ayuda:\n",
    "x_start = min(np.min(X_train_f), np.min(X_test_f))\n",
    "x_end = max(np.max(X_train_f), np.max(X_test_f))\n",
    "x = np.linspace(x_start, x_end, 200).reshape(-1, 1)\n",
    "plt.plot(x, model1.predict(x), color=\"tomato\", label=\"modelo\")\n",
    "\n",
    "plt.scatter(X_train_f, y_train, facecolor=\"dodgerblue\", edgecolor=\"k\", label=\"train\")\n",
    "plt.scatter(X_test_f, y_test, facecolor=\"white\", edgecolor=\"k\", label=\"test\")\n",
    "plt.title(feature)\n",
    "plt.legend()\n",
    "plt.show()"
   ]
  },
  {
   "cell_type": "markdown",
   "metadata": {},
   "source": [
    "**5. Como podemos ver en el gráfico, el modelo obtiene una linea siguiendo una tendencia.**"
   ]
  },
  {
   "cell_type": "markdown",
   "metadata": {},
   "source": [
    "## Ejercicio 4: Regresión Polinomial\n",
    "\n",
    "En este ejercicio deben entrenar regresiones polinomiales de diferente complejidad, siempre usando **scikit-learn**.\n",
    "\n",
    "Deben usar **el mismo atributo** seleccionado para el ejercicio anterior.\n",
    "\n",
    "1. Para varios grados de polinomio, haga lo siguiente:\n",
    "    1. Instancie y entrene una regresión polinomial.\n",
    "    2. Prediga y calcule error en entrenamiento y evaluación. Imprima los valores.\n",
    "    3. Guarde los errores en una lista.\n",
    "2. Grafique las curvas de error en términos del grado del polinomio.\n",
    "3. Interprete la curva, identificando el punto en que comienza a haber sobreajuste, si lo hay.\n",
    "4. Seleccione el modelo que mejor funcione, y grafique el modelo conjuntamente con los puntos.\n",
    "5. Interprete el resultado, haciendo algún comentario sobre las cualidades del modelo obtenido.\n",
    "\n",
    "**Observación:** Con algunos atributos se pueden obtener errores en test menores a 40 e incluso a 35."
   ]
  },
  {
   "cell_type": "code",
   "execution_count": null,
   "metadata": {},
   "outputs": [],
   "source": []
  },
  {
   "cell_type": "code",
   "execution_count": 17,
   "metadata": {},
   "outputs": [],
   "source": [
    "from sklearn.linear_model import LinearRegression\n",
    "from sklearn.preprocessing import PolynomialFeatures\n",
    "from sklearn.pipeline import make_pipeline\n",
    "degree = 2\n",
    "pf = PolynomialFeatures(degree)\n",
    "lr = LinearRegression(fit_intercept=False)  # el bias ya esta como feature\n",
    "model = make_pipeline(pf, lr)"
   ]
  },
  {
   "cell_type": "code",
   "execution_count": 18,
   "metadata": {},
   "outputs": [
    {
     "data": {
      "text/html": [
       "<style>#sk-container-id-2 {color: black;background-color: white;}#sk-container-id-2 pre{padding: 0;}#sk-container-id-2 div.sk-toggleable {background-color: white;}#sk-container-id-2 label.sk-toggleable__label {cursor: pointer;display: block;width: 100%;margin-bottom: 0;padding: 0.3em;box-sizing: border-box;text-align: center;}#sk-container-id-2 label.sk-toggleable__label-arrow:before {content: \"▸\";float: left;margin-right: 0.25em;color: #696969;}#sk-container-id-2 label.sk-toggleable__label-arrow:hover:before {color: black;}#sk-container-id-2 div.sk-estimator:hover label.sk-toggleable__label-arrow:before {color: black;}#sk-container-id-2 div.sk-toggleable__content {max-height: 0;max-width: 0;overflow: hidden;text-align: left;background-color: #f0f8ff;}#sk-container-id-2 div.sk-toggleable__content pre {margin: 0.2em;color: black;border-radius: 0.25em;background-color: #f0f8ff;}#sk-container-id-2 input.sk-toggleable__control:checked~div.sk-toggleable__content {max-height: 200px;max-width: 100%;overflow: auto;}#sk-container-id-2 input.sk-toggleable__control:checked~label.sk-toggleable__label-arrow:before {content: \"▾\";}#sk-container-id-2 div.sk-estimator input.sk-toggleable__control:checked~label.sk-toggleable__label {background-color: #d4ebff;}#sk-container-id-2 div.sk-label input.sk-toggleable__control:checked~label.sk-toggleable__label {background-color: #d4ebff;}#sk-container-id-2 input.sk-hidden--visually {border: 0;clip: rect(1px 1px 1px 1px);clip: rect(1px, 1px, 1px, 1px);height: 1px;margin: -1px;overflow: hidden;padding: 0;position: absolute;width: 1px;}#sk-container-id-2 div.sk-estimator {font-family: monospace;background-color: #f0f8ff;border: 1px dotted black;border-radius: 0.25em;box-sizing: border-box;margin-bottom: 0.5em;}#sk-container-id-2 div.sk-estimator:hover {background-color: #d4ebff;}#sk-container-id-2 div.sk-parallel-item::after {content: \"\";width: 100%;border-bottom: 1px solid gray;flex-grow: 1;}#sk-container-id-2 div.sk-label:hover label.sk-toggleable__label {background-color: #d4ebff;}#sk-container-id-2 div.sk-serial::before {content: \"\";position: absolute;border-left: 1px solid gray;box-sizing: border-box;top: 0;bottom: 0;left: 50%;z-index: 0;}#sk-container-id-2 div.sk-serial {display: flex;flex-direction: column;align-items: center;background-color: white;padding-right: 0.2em;padding-left: 0.2em;position: relative;}#sk-container-id-2 div.sk-item {position: relative;z-index: 1;}#sk-container-id-2 div.sk-parallel {display: flex;align-items: stretch;justify-content: center;background-color: white;position: relative;}#sk-container-id-2 div.sk-item::before, #sk-container-id-2 div.sk-parallel-item::before {content: \"\";position: absolute;border-left: 1px solid gray;box-sizing: border-box;top: 0;bottom: 0;left: 50%;z-index: -1;}#sk-container-id-2 div.sk-parallel-item {display: flex;flex-direction: column;z-index: 1;position: relative;background-color: white;}#sk-container-id-2 div.sk-parallel-item:first-child::after {align-self: flex-end;width: 50%;}#sk-container-id-2 div.sk-parallel-item:last-child::after {align-self: flex-start;width: 50%;}#sk-container-id-2 div.sk-parallel-item:only-child::after {width: 0;}#sk-container-id-2 div.sk-dashed-wrapped {border: 1px dashed gray;margin: 0 0.4em 0.5em 0.4em;box-sizing: border-box;padding-bottom: 0.4em;background-color: white;}#sk-container-id-2 div.sk-label label {font-family: monospace;font-weight: bold;display: inline-block;line-height: 1.2em;}#sk-container-id-2 div.sk-label-container {text-align: center;}#sk-container-id-2 div.sk-container {/* jupyter's `normalize.less` sets `[hidden] { display: none; }` but bootstrap.min.css set `[hidden] { display: none !important; }` so we also need the `!important` here to be able to override the default hidden behavior on the sphinx rendered scikit-learn.org. See: https://github.com/scikit-learn/scikit-learn/issues/21755 */display: inline-block !important;position: relative;}#sk-container-id-2 div.sk-text-repr-fallback {display: none;}</style><div id=\"sk-container-id-2\" class=\"sk-top-container\"><div class=\"sk-text-repr-fallback\"><pre>Pipeline(steps=[(&#x27;polynomialfeatures&#x27;, PolynomialFeatures()),\n",
       "                (&#x27;linearregression&#x27;, LinearRegression(fit_intercept=False))])</pre><b>In a Jupyter environment, please rerun this cell to show the HTML representation or trust the notebook. <br />On GitHub, the HTML representation is unable to render, please try loading this page with nbviewer.org.</b></div><div class=\"sk-container\" hidden><div class=\"sk-item sk-dashed-wrapped\"><div class=\"sk-label-container\"><div class=\"sk-label sk-toggleable\"><input class=\"sk-toggleable__control sk-hidden--visually\" id=\"sk-estimator-id-2\" type=\"checkbox\" ><label for=\"sk-estimator-id-2\" class=\"sk-toggleable__label sk-toggleable__label-arrow\">Pipeline</label><div class=\"sk-toggleable__content\"><pre>Pipeline(steps=[(&#x27;polynomialfeatures&#x27;, PolynomialFeatures()),\n",
       "                (&#x27;linearregression&#x27;, LinearRegression(fit_intercept=False))])</pre></div></div></div><div class=\"sk-serial\"><div class=\"sk-item\"><div class=\"sk-estimator sk-toggleable\"><input class=\"sk-toggleable__control sk-hidden--visually\" id=\"sk-estimator-id-3\" type=\"checkbox\" ><label for=\"sk-estimator-id-3\" class=\"sk-toggleable__label sk-toggleable__label-arrow\">PolynomialFeatures</label><div class=\"sk-toggleable__content\"><pre>PolynomialFeatures()</pre></div></div></div><div class=\"sk-item\"><div class=\"sk-estimator sk-toggleable\"><input class=\"sk-toggleable__control sk-hidden--visually\" id=\"sk-estimator-id-4\" type=\"checkbox\" ><label for=\"sk-estimator-id-4\" class=\"sk-toggleable__label sk-toggleable__label-arrow\">LinearRegression</label><div class=\"sk-toggleable__content\"><pre>LinearRegression(fit_intercept=False)</pre></div></div></div></div></div></div></div>"
      ],
      "text/plain": [
       "Pipeline(steps=[('polynomialfeatures', PolynomialFeatures()),\n",
       "                ('linearregression', LinearRegression(fit_intercept=False))])"
      ]
     },
     "execution_count": 18,
     "metadata": {},
     "output_type": "execute_result"
    }
   ],
   "source": [
    "model.fit(X_train_f, y_train)"
   ]
  },
  {
   "cell_type": "code",
   "execution_count": 19,
   "metadata": {},
   "outputs": [
    {
     "data": {
      "text/html": [
       "<style>#sk-container-id-3 {color: black;background-color: white;}#sk-container-id-3 pre{padding: 0;}#sk-container-id-3 div.sk-toggleable {background-color: white;}#sk-container-id-3 label.sk-toggleable__label {cursor: pointer;display: block;width: 100%;margin-bottom: 0;padding: 0.3em;box-sizing: border-box;text-align: center;}#sk-container-id-3 label.sk-toggleable__label-arrow:before {content: \"▸\";float: left;margin-right: 0.25em;color: #696969;}#sk-container-id-3 label.sk-toggleable__label-arrow:hover:before {color: black;}#sk-container-id-3 div.sk-estimator:hover label.sk-toggleable__label-arrow:before {color: black;}#sk-container-id-3 div.sk-toggleable__content {max-height: 0;max-width: 0;overflow: hidden;text-align: left;background-color: #f0f8ff;}#sk-container-id-3 div.sk-toggleable__content pre {margin: 0.2em;color: black;border-radius: 0.25em;background-color: #f0f8ff;}#sk-container-id-3 input.sk-toggleable__control:checked~div.sk-toggleable__content {max-height: 200px;max-width: 100%;overflow: auto;}#sk-container-id-3 input.sk-toggleable__control:checked~label.sk-toggleable__label-arrow:before {content: \"▾\";}#sk-container-id-3 div.sk-estimator input.sk-toggleable__control:checked~label.sk-toggleable__label {background-color: #d4ebff;}#sk-container-id-3 div.sk-label input.sk-toggleable__control:checked~label.sk-toggleable__label {background-color: #d4ebff;}#sk-container-id-3 input.sk-hidden--visually {border: 0;clip: rect(1px 1px 1px 1px);clip: rect(1px, 1px, 1px, 1px);height: 1px;margin: -1px;overflow: hidden;padding: 0;position: absolute;width: 1px;}#sk-container-id-3 div.sk-estimator {font-family: monospace;background-color: #f0f8ff;border: 1px dotted black;border-radius: 0.25em;box-sizing: border-box;margin-bottom: 0.5em;}#sk-container-id-3 div.sk-estimator:hover {background-color: #d4ebff;}#sk-container-id-3 div.sk-parallel-item::after {content: \"\";width: 100%;border-bottom: 1px solid gray;flex-grow: 1;}#sk-container-id-3 div.sk-label:hover label.sk-toggleable__label {background-color: #d4ebff;}#sk-container-id-3 div.sk-serial::before {content: \"\";position: absolute;border-left: 1px solid gray;box-sizing: border-box;top: 0;bottom: 0;left: 50%;z-index: 0;}#sk-container-id-3 div.sk-serial {display: flex;flex-direction: column;align-items: center;background-color: white;padding-right: 0.2em;padding-left: 0.2em;position: relative;}#sk-container-id-3 div.sk-item {position: relative;z-index: 1;}#sk-container-id-3 div.sk-parallel {display: flex;align-items: stretch;justify-content: center;background-color: white;position: relative;}#sk-container-id-3 div.sk-item::before, #sk-container-id-3 div.sk-parallel-item::before {content: \"\";position: absolute;border-left: 1px solid gray;box-sizing: border-box;top: 0;bottom: 0;left: 50%;z-index: -1;}#sk-container-id-3 div.sk-parallel-item {display: flex;flex-direction: column;z-index: 1;position: relative;background-color: white;}#sk-container-id-3 div.sk-parallel-item:first-child::after {align-self: flex-end;width: 50%;}#sk-container-id-3 div.sk-parallel-item:last-child::after {align-self: flex-start;width: 50%;}#sk-container-id-3 div.sk-parallel-item:only-child::after {width: 0;}#sk-container-id-3 div.sk-dashed-wrapped {border: 1px dashed gray;margin: 0 0.4em 0.5em 0.4em;box-sizing: border-box;padding-bottom: 0.4em;background-color: white;}#sk-container-id-3 div.sk-label label {font-family: monospace;font-weight: bold;display: inline-block;line-height: 1.2em;}#sk-container-id-3 div.sk-label-container {text-align: center;}#sk-container-id-3 div.sk-container {/* jupyter's `normalize.less` sets `[hidden] { display: none; }` but bootstrap.min.css set `[hidden] { display: none !important; }` so we also need the `!important` here to be able to override the default hidden behavior on the sphinx rendered scikit-learn.org. See: https://github.com/scikit-learn/scikit-learn/issues/21755 */display: inline-block !important;position: relative;}#sk-container-id-3 div.sk-text-repr-fallback {display: none;}</style><div id=\"sk-container-id-3\" class=\"sk-top-container\"><div class=\"sk-text-repr-fallback\"><pre>LinearRegression(fit_intercept=False)</pre><b>In a Jupyter environment, please rerun this cell to show the HTML representation or trust the notebook. <br />On GitHub, the HTML representation is unable to render, please try loading this page with nbviewer.org.</b></div><div class=\"sk-container\" hidden><div class=\"sk-item\"><div class=\"sk-estimator sk-toggleable\"><input class=\"sk-toggleable__control sk-hidden--visually\" id=\"sk-estimator-id-5\" type=\"checkbox\" checked><label for=\"sk-estimator-id-5\" class=\"sk-toggleable__label sk-toggleable__label-arrow\">LinearRegression</label><div class=\"sk-toggleable__content\"><pre>LinearRegression(fit_intercept=False)</pre></div></div></div></div></div>"
      ],
      "text/plain": [
       "LinearRegression(fit_intercept=False)"
      ]
     },
     "execution_count": 19,
     "metadata": {},
     "output_type": "execute_result"
    }
   ],
   "source": [
    "Z_train = pf.fit_transform(X_train_f, y_train)\n",
    "lr.fit(Z_train, y_train)"
   ]
  },
  {
   "cell_type": "code",
   "execution_count": 20,
   "metadata": {},
   "outputs": [
    {
     "data": {
      "text/plain": [
       "array([ 68.20229886, -23.56509374,   2.56037958])"
      ]
     },
     "execution_count": 20,
     "metadata": {},
     "output_type": "execute_result"
    }
   ],
   "source": [
    "lr.coef_"
   ]
  },
  {
   "cell_type": "code",
   "execution_count": 21,
   "metadata": {},
   "outputs": [
    {
     "data": {
      "text/plain": [
       "0.0"
      ]
     },
     "execution_count": 21,
     "metadata": {},
     "output_type": "execute_result"
    }
   ],
   "source": [
    "lr.intercept_"
   ]
  },
  {
   "cell_type": "code",
   "execution_count": 22,
   "metadata": {},
   "outputs": [
    {
     "data": {
      "image/png": "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",
      "text/plain": [
       "<Figure size 432x288 with 1 Axes>"
      ]
     },
     "metadata": {
      "needs_background": "light"
     },
     "output_type": "display_data"
    }
   ],
   "source": [
    "# 2. Graficar curvas de error acá.\n",
    "plt.scatter(X_train_f, y_train, color=\"blue\", label=\"train\")\n",
    "plt.plot(x, model1.predict(x.reshape(-1, 1)), color=\"red\", label=\"modeloLineal\")\n",
    "plt.scatter(X_test_f, y_test, color=\"white\", edgecolor=\"k\", label=\"val\")\n",
    "plt.plot(x, model.predict(x.reshape(-1, 1)), color=\"green\", label=\"modeloPolinomial\")\n",
    "plt.legend()\n",
    "plt.show()"
   ]
  },
  {
   "cell_type": "code",
   "execution_count": 23,
   "metadata": {},
   "outputs": [],
   "source": [
    "y_train_pred = model.predict(X_train_f)\n",
    "y_val_pred = model.predict(X_test_f)"
   ]
  },
  {
   "cell_type": "code",
   "execution_count": 24,
   "metadata": {},
   "outputs": [
    {
     "data": {
      "text/plain": [
       "(102,)"
      ]
     },
     "execution_count": 24,
     "metadata": {},
     "output_type": "execute_result"
    }
   ],
   "source": [
    "y_test.shape"
   ]
  },
  {
   "cell_type": "code",
   "execution_count": 25,
   "metadata": {
    "scrolled": true
   },
   "outputs": [
    {
     "name": "stdout",
     "output_type": "stream",
     "text": [
      "Train error: 3.8e+01\n",
      "Test error: 4e+01\n"
     ]
    }
   ],
   "source": [
    "from sklearn.metrics import mean_squared_error\n",
    "train_error = mean_squared_error(y_train, y_train_pred)\n",
    "val_error = mean_squared_error(y_test, y_val_pred)\n",
    "print(f'Train error: {train_error:0.2}')\n",
    "print(f'Test error: {val_error:0.2}')"
   ]
  },
  {
   "cell_type": "markdown",
   "metadata": {},
   "source": [
    "# Curvas de error en términos del grado del polinomio."
   ]
  },
  {
   "cell_type": "code",
   "execution_count": 26,
   "metadata": {},
   "outputs": [],
   "source": [
    "train_errors = []\n",
    "val_errors = []\n",
    "degrees = [0, 1, 2, 3, 4, 5, 6, 7, 8, 9]\n",
    "for degree in degrees:\n",
    "    # train:\n",
    "    pf = PolynomialFeatures(degree)\n",
    "    lr = LinearRegression(fit_intercept=False)\n",
    "    model = make_pipeline(pf, lr)\n",
    "    model.fit(X_train_f, y_train)\n",
    "    \n",
    "    # predict:\n",
    "    y_train_pred = model.predict(X_train_f)\n",
    "    y_val_pred = model.predict(X_test_f)\n",
    "    \n",
    "    # evaluate:\n",
    "    train_error = mean_squared_error(y_train, y_train_pred)\n",
    "    val_error = mean_squared_error(y_test, y_val_pred)\n",
    "    train_errors.append(train_error)\n",
    "    val_errors.append(val_error)"
   ]
  },
  {
   "cell_type": "code",
   "execution_count": 27,
   "metadata": {},
   "outputs": [
    {
     "data": {
      "image/png": "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",
      "text/plain": [
       "<Figure size 432x288 with 1 Axes>"
      ]
     },
     "metadata": {
      "needs_background": "light"
     },
     "output_type": "display_data"
    }
   ],
   "source": [
    "plt.plot(degrees, train_errors, color=\"blue\", label=\"train\")\n",
    "plt.plot(degrees, val_errors, color=\"red\", label=\"val\")\n",
    "plt.legend()\n",
    "plt.xlabel(\"degree\")\n",
    "plt.ylabel(\"error\")\n",
    "plt.show()"
   ]
  },
  {
   "cell_type": "markdown",
   "metadata": {},
   "source": [
    "**3. Vemos que tenemos sobre ajuste despues del grado 3.**"
   ]
  },
  {
   "cell_type": "markdown",
   "metadata": {},
   "source": [
    "**4. Para reconstruir mejor el modelo lo haremos en grado 3.**"
   ]
  },
  {
   "cell_type": "code",
   "execution_count": 28,
   "metadata": {},
   "outputs": [],
   "source": [
    "degree = 3\n",
    "pf = PolynomialFeatures(degree)\n",
    "lr = LinearRegression(fit_intercept=False)  # el bias ya esta como feature\n",
    "model = make_pipeline(pf, lr)"
   ]
  },
  {
   "cell_type": "code",
   "execution_count": 29,
   "metadata": {},
   "outputs": [
    {
     "data": {
      "text/html": [
       "<style>#sk-container-id-4 {color: black;background-color: white;}#sk-container-id-4 pre{padding: 0;}#sk-container-id-4 div.sk-toggleable {background-color: white;}#sk-container-id-4 label.sk-toggleable__label {cursor: pointer;display: block;width: 100%;margin-bottom: 0;padding: 0.3em;box-sizing: border-box;text-align: center;}#sk-container-id-4 label.sk-toggleable__label-arrow:before {content: \"▸\";float: left;margin-right: 0.25em;color: #696969;}#sk-container-id-4 label.sk-toggleable__label-arrow:hover:before {color: black;}#sk-container-id-4 div.sk-estimator:hover label.sk-toggleable__label-arrow:before {color: black;}#sk-container-id-4 div.sk-toggleable__content {max-height: 0;max-width: 0;overflow: hidden;text-align: left;background-color: #f0f8ff;}#sk-container-id-4 div.sk-toggleable__content pre {margin: 0.2em;color: black;border-radius: 0.25em;background-color: #f0f8ff;}#sk-container-id-4 input.sk-toggleable__control:checked~div.sk-toggleable__content {max-height: 200px;max-width: 100%;overflow: auto;}#sk-container-id-4 input.sk-toggleable__control:checked~label.sk-toggleable__label-arrow:before {content: \"▾\";}#sk-container-id-4 div.sk-estimator input.sk-toggleable__control:checked~label.sk-toggleable__label {background-color: #d4ebff;}#sk-container-id-4 div.sk-label input.sk-toggleable__control:checked~label.sk-toggleable__label {background-color: #d4ebff;}#sk-container-id-4 input.sk-hidden--visually {border: 0;clip: rect(1px 1px 1px 1px);clip: rect(1px, 1px, 1px, 1px);height: 1px;margin: -1px;overflow: hidden;padding: 0;position: absolute;width: 1px;}#sk-container-id-4 div.sk-estimator {font-family: monospace;background-color: #f0f8ff;border: 1px dotted black;border-radius: 0.25em;box-sizing: border-box;margin-bottom: 0.5em;}#sk-container-id-4 div.sk-estimator:hover {background-color: #d4ebff;}#sk-container-id-4 div.sk-parallel-item::after {content: \"\";width: 100%;border-bottom: 1px solid gray;flex-grow: 1;}#sk-container-id-4 div.sk-label:hover label.sk-toggleable__label {background-color: #d4ebff;}#sk-container-id-4 div.sk-serial::before {content: \"\";position: absolute;border-left: 1px solid gray;box-sizing: border-box;top: 0;bottom: 0;left: 50%;z-index: 0;}#sk-container-id-4 div.sk-serial {display: flex;flex-direction: column;align-items: center;background-color: white;padding-right: 0.2em;padding-left: 0.2em;position: relative;}#sk-container-id-4 div.sk-item {position: relative;z-index: 1;}#sk-container-id-4 div.sk-parallel {display: flex;align-items: stretch;justify-content: center;background-color: white;position: relative;}#sk-container-id-4 div.sk-item::before, #sk-container-id-4 div.sk-parallel-item::before {content: \"\";position: absolute;border-left: 1px solid gray;box-sizing: border-box;top: 0;bottom: 0;left: 50%;z-index: -1;}#sk-container-id-4 div.sk-parallel-item {display: flex;flex-direction: column;z-index: 1;position: relative;background-color: white;}#sk-container-id-4 div.sk-parallel-item:first-child::after {align-self: flex-end;width: 50%;}#sk-container-id-4 div.sk-parallel-item:last-child::after {align-self: flex-start;width: 50%;}#sk-container-id-4 div.sk-parallel-item:only-child::after {width: 0;}#sk-container-id-4 div.sk-dashed-wrapped {border: 1px dashed gray;margin: 0 0.4em 0.5em 0.4em;box-sizing: border-box;padding-bottom: 0.4em;background-color: white;}#sk-container-id-4 div.sk-label label {font-family: monospace;font-weight: bold;display: inline-block;line-height: 1.2em;}#sk-container-id-4 div.sk-label-container {text-align: center;}#sk-container-id-4 div.sk-container {/* jupyter's `normalize.less` sets `[hidden] { display: none; }` but bootstrap.min.css set `[hidden] { display: none !important; }` so we also need the `!important` here to be able to override the default hidden behavior on the sphinx rendered scikit-learn.org. See: https://github.com/scikit-learn/scikit-learn/issues/21755 */display: inline-block !important;position: relative;}#sk-container-id-4 div.sk-text-repr-fallback {display: none;}</style><div id=\"sk-container-id-4\" class=\"sk-top-container\"><div class=\"sk-text-repr-fallback\"><pre>Pipeline(steps=[(&#x27;polynomialfeatures&#x27;, PolynomialFeatures(degree=3)),\n",
       "                (&#x27;linearregression&#x27;, LinearRegression(fit_intercept=False))])</pre><b>In a Jupyter environment, please rerun this cell to show the HTML representation or trust the notebook. <br />On GitHub, the HTML representation is unable to render, please try loading this page with nbviewer.org.</b></div><div class=\"sk-container\" hidden><div class=\"sk-item sk-dashed-wrapped\"><div class=\"sk-label-container\"><div class=\"sk-label sk-toggleable\"><input class=\"sk-toggleable__control sk-hidden--visually\" id=\"sk-estimator-id-6\" type=\"checkbox\" ><label for=\"sk-estimator-id-6\" class=\"sk-toggleable__label sk-toggleable__label-arrow\">Pipeline</label><div class=\"sk-toggleable__content\"><pre>Pipeline(steps=[(&#x27;polynomialfeatures&#x27;, PolynomialFeatures(degree=3)),\n",
       "                (&#x27;linearregression&#x27;, LinearRegression(fit_intercept=False))])</pre></div></div></div><div class=\"sk-serial\"><div class=\"sk-item\"><div class=\"sk-estimator sk-toggleable\"><input class=\"sk-toggleable__control sk-hidden--visually\" id=\"sk-estimator-id-7\" type=\"checkbox\" ><label for=\"sk-estimator-id-7\" class=\"sk-toggleable__label sk-toggleable__label-arrow\">PolynomialFeatures</label><div class=\"sk-toggleable__content\"><pre>PolynomialFeatures(degree=3)</pre></div></div></div><div class=\"sk-item\"><div class=\"sk-estimator sk-toggleable\"><input class=\"sk-toggleable__control sk-hidden--visually\" id=\"sk-estimator-id-8\" type=\"checkbox\" ><label for=\"sk-estimator-id-8\" class=\"sk-toggleable__label sk-toggleable__label-arrow\">LinearRegression</label><div class=\"sk-toggleable__content\"><pre>LinearRegression(fit_intercept=False)</pre></div></div></div></div></div></div></div>"
      ],
      "text/plain": [
       "Pipeline(steps=[('polynomialfeatures', PolynomialFeatures(degree=3)),\n",
       "                ('linearregression', LinearRegression(fit_intercept=False))])"
      ]
     },
     "execution_count": 29,
     "metadata": {},
     "output_type": "execute_result"
    }
   ],
   "source": [
    "model.fit(X_train_f, y_train)"
   ]
  },
  {
   "cell_type": "code",
   "execution_count": 30,
   "metadata": {},
   "outputs": [
    {
     "data": {
      "text/html": [
       "<style>#sk-container-id-5 {color: black;background-color: white;}#sk-container-id-5 pre{padding: 0;}#sk-container-id-5 div.sk-toggleable {background-color: white;}#sk-container-id-5 label.sk-toggleable__label {cursor: pointer;display: block;width: 100%;margin-bottom: 0;padding: 0.3em;box-sizing: border-box;text-align: center;}#sk-container-id-5 label.sk-toggleable__label-arrow:before {content: \"▸\";float: left;margin-right: 0.25em;color: #696969;}#sk-container-id-5 label.sk-toggleable__label-arrow:hover:before {color: black;}#sk-container-id-5 div.sk-estimator:hover label.sk-toggleable__label-arrow:before {color: black;}#sk-container-id-5 div.sk-toggleable__content {max-height: 0;max-width: 0;overflow: hidden;text-align: left;background-color: #f0f8ff;}#sk-container-id-5 div.sk-toggleable__content pre {margin: 0.2em;color: black;border-radius: 0.25em;background-color: #f0f8ff;}#sk-container-id-5 input.sk-toggleable__control:checked~div.sk-toggleable__content {max-height: 200px;max-width: 100%;overflow: auto;}#sk-container-id-5 input.sk-toggleable__control:checked~label.sk-toggleable__label-arrow:before {content: \"▾\";}#sk-container-id-5 div.sk-estimator input.sk-toggleable__control:checked~label.sk-toggleable__label {background-color: #d4ebff;}#sk-container-id-5 div.sk-label input.sk-toggleable__control:checked~label.sk-toggleable__label {background-color: #d4ebff;}#sk-container-id-5 input.sk-hidden--visually {border: 0;clip: rect(1px 1px 1px 1px);clip: rect(1px, 1px, 1px, 1px);height: 1px;margin: -1px;overflow: hidden;padding: 0;position: absolute;width: 1px;}#sk-container-id-5 div.sk-estimator {font-family: monospace;background-color: #f0f8ff;border: 1px dotted black;border-radius: 0.25em;box-sizing: border-box;margin-bottom: 0.5em;}#sk-container-id-5 div.sk-estimator:hover {background-color: #d4ebff;}#sk-container-id-5 div.sk-parallel-item::after {content: \"\";width: 100%;border-bottom: 1px solid gray;flex-grow: 1;}#sk-container-id-5 div.sk-label:hover label.sk-toggleable__label {background-color: #d4ebff;}#sk-container-id-5 div.sk-serial::before {content: \"\";position: absolute;border-left: 1px solid gray;box-sizing: border-box;top: 0;bottom: 0;left: 50%;z-index: 0;}#sk-container-id-5 div.sk-serial {display: flex;flex-direction: column;align-items: center;background-color: white;padding-right: 0.2em;padding-left: 0.2em;position: relative;}#sk-container-id-5 div.sk-item {position: relative;z-index: 1;}#sk-container-id-5 div.sk-parallel {display: flex;align-items: stretch;justify-content: center;background-color: white;position: relative;}#sk-container-id-5 div.sk-item::before, #sk-container-id-5 div.sk-parallel-item::before {content: \"\";position: absolute;border-left: 1px solid gray;box-sizing: border-box;top: 0;bottom: 0;left: 50%;z-index: -1;}#sk-container-id-5 div.sk-parallel-item {display: flex;flex-direction: column;z-index: 1;position: relative;background-color: white;}#sk-container-id-5 div.sk-parallel-item:first-child::after {align-self: flex-end;width: 50%;}#sk-container-id-5 div.sk-parallel-item:last-child::after {align-self: flex-start;width: 50%;}#sk-container-id-5 div.sk-parallel-item:only-child::after {width: 0;}#sk-container-id-5 div.sk-dashed-wrapped {border: 1px dashed gray;margin: 0 0.4em 0.5em 0.4em;box-sizing: border-box;padding-bottom: 0.4em;background-color: white;}#sk-container-id-5 div.sk-label label {font-family: monospace;font-weight: bold;display: inline-block;line-height: 1.2em;}#sk-container-id-5 div.sk-label-container {text-align: center;}#sk-container-id-5 div.sk-container {/* jupyter's `normalize.less` sets `[hidden] { display: none; }` but bootstrap.min.css set `[hidden] { display: none !important; }` so we also need the `!important` here to be able to override the default hidden behavior on the sphinx rendered scikit-learn.org. See: https://github.com/scikit-learn/scikit-learn/issues/21755 */display: inline-block !important;position: relative;}#sk-container-id-5 div.sk-text-repr-fallback {display: none;}</style><div id=\"sk-container-id-5\" class=\"sk-top-container\"><div class=\"sk-text-repr-fallback\"><pre>LinearRegression(fit_intercept=False)</pre><b>In a Jupyter environment, please rerun this cell to show the HTML representation or trust the notebook. <br />On GitHub, the HTML representation is unable to render, please try loading this page with nbviewer.org.</b></div><div class=\"sk-container\" hidden><div class=\"sk-item\"><div class=\"sk-estimator sk-toggleable\"><input class=\"sk-toggleable__control sk-hidden--visually\" id=\"sk-estimator-id-9\" type=\"checkbox\" checked><label for=\"sk-estimator-id-9\" class=\"sk-toggleable__label sk-toggleable__label-arrow\">LinearRegression</label><div class=\"sk-toggleable__content\"><pre>LinearRegression(fit_intercept=False)</pre></div></div></div></div></div>"
      ],
      "text/plain": [
       "LinearRegression(fit_intercept=False)"
      ]
     },
     "execution_count": 30,
     "metadata": {},
     "output_type": "execute_result"
    }
   ],
   "source": [
    "Z_train = pf.fit_transform(X_train_f, y_train)\n",
    "lr.fit(Z_train, y_train)"
   ]
  },
  {
   "cell_type": "code",
   "execution_count": 31,
   "metadata": {},
   "outputs": [
    {
     "data": {
      "text/plain": [
       "array([ 274.12931892, -124.87102604,   18.86964785,   -0.85958803])"
      ]
     },
     "execution_count": 31,
     "metadata": {},
     "output_type": "execute_result"
    }
   ],
   "source": [
    "lr.coef_"
   ]
  },
  {
   "cell_type": "code",
   "execution_count": 32,
   "metadata": {},
   "outputs": [
    {
     "data": {
      "text/plain": [
       "0.0"
      ]
     },
     "execution_count": 32,
     "metadata": {},
     "output_type": "execute_result"
    }
   ],
   "source": [
    "lr.intercept_"
   ]
  },
  {
   "cell_type": "code",
   "execution_count": 33,
   "metadata": {},
   "outputs": [
    {
     "data": {
      "image/png": "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",
      "text/plain": [
       "<Figure size 432x288 with 1 Axes>"
      ]
     },
     "metadata": {
      "needs_background": "light"
     },
     "output_type": "display_data"
    }
   ],
   "source": [
    "# 2. Graficar curvas de error acá.\n",
    "plt.scatter(X_train_f, y_train, color=\"blue\", label=\"train\")\n",
    "plt.plot(x, model1.predict(x.reshape(-1, 1)), color=\"red\", label=\"modeloLineal\")\n",
    "plt.scatter(X_test_f, y_test, color=\"white\", edgecolor=\"k\", label=\"val\")\n",
    "plt.plot(x, model.predict(x.reshape(-1, 1)), color=\"green\", label=\"modeloPolinomial\")\n",
    "plt.legend()\n",
    "plt.show()"
   ]
  },
  {
   "cell_type": "code",
   "execution_count": 34,
   "metadata": {},
   "outputs": [],
   "source": [
    "y_train_pred = model.predict(X_train_f)\n",
    "y_val_pred = model.predict(X_test_f)"
   ]
  },
  {
   "cell_type": "code",
   "execution_count": 35,
   "metadata": {},
   "outputs": [
    {
     "name": "stdout",
     "output_type": "stream",
     "text": [
      "Train error: 3.6e+01\n",
      "Test error: 4e+01\n"
     ]
    }
   ],
   "source": [
    "from sklearn.metrics import mean_squared_error\n",
    "train_error = mean_squared_error(y_train, y_train_pred)\n",
    "val_error = mean_squared_error(y_test, y_val_pred)\n",
    "print(f'Train error: {train_error:0.2}')\n",
    "print(f'Test error: {val_error:0.2}')"
   ]
  },
  {
   "cell_type": "markdown",
   "metadata": {},
   "source": [
    "**5. Vemos que con un modelo de grado 3 baja el error de entrenamiento aunque se mantiene el error de testeo.** "
   ]
  },
  {
   "cell_type": "markdown",
   "metadata": {},
   "source": [
    "## Ejercicio 5: Regresión con más de un Atributo\n",
    "\n",
    "En este ejercicio deben entrenar regresiones que toman más de un atributo de entrada.\n",
    "\n",
    "1. Seleccione **dos o tres atributos** entre los más relevantes encontrados en el ejercicio 2.\n",
    "2. Repita el ejercicio anterior, pero usando los atributos seleccionados. No hace falta graficar el modelo final.\n",
    "3. Interprete el resultado y compare con los ejercicios anteriores. ¿Se obtuvieron mejores modelos? ¿Porqué?"
   ]
  },
  {
   "cell_type": "code",
   "execution_count": 36,
   "metadata": {},
   "outputs": [
    {
     "data": {
      "text/plain": [
       "((404, 2), (102, 2))"
      ]
     },
     "execution_count": 36,
     "metadata": {},
     "output_type": "execute_result"
    }
   ],
   "source": [
    "# 1. Resolver acá. Ayuda (con dos atributos):\n",
    "selector = (boston['feature_names'] == 'RM') | (boston['feature_names'] == 'LSTAT')\n",
    "X_train_fs = X_train[:, selector]\n",
    "X_test_fs = X_test[:, selector]\n",
    "X_train_fs.shape, X_test_fs.shape"
   ]
  },
  {
   "cell_type": "code",
   "execution_count": 37,
   "metadata": {},
   "outputs": [],
   "source": [
    "degree = 1\n",
    "pf = PolynomialFeatures(degree)\n",
    "lr = LinearRegression(fit_intercept=False)  \n",
    "model3 = make_pipeline(pf, lr)"
   ]
  },
  {
   "cell_type": "code",
   "execution_count": 38,
   "metadata": {},
   "outputs": [
    {
     "data": {
      "text/html": [
       "<style>#sk-container-id-6 {color: black;background-color: white;}#sk-container-id-6 pre{padding: 0;}#sk-container-id-6 div.sk-toggleable {background-color: white;}#sk-container-id-6 label.sk-toggleable__label {cursor: pointer;display: block;width: 100%;margin-bottom: 0;padding: 0.3em;box-sizing: border-box;text-align: center;}#sk-container-id-6 label.sk-toggleable__label-arrow:before {content: \"▸\";float: left;margin-right: 0.25em;color: #696969;}#sk-container-id-6 label.sk-toggleable__label-arrow:hover:before {color: black;}#sk-container-id-6 div.sk-estimator:hover label.sk-toggleable__label-arrow:before {color: black;}#sk-container-id-6 div.sk-toggleable__content {max-height: 0;max-width: 0;overflow: hidden;text-align: left;background-color: #f0f8ff;}#sk-container-id-6 div.sk-toggleable__content pre {margin: 0.2em;color: black;border-radius: 0.25em;background-color: #f0f8ff;}#sk-container-id-6 input.sk-toggleable__control:checked~div.sk-toggleable__content {max-height: 200px;max-width: 100%;overflow: auto;}#sk-container-id-6 input.sk-toggleable__control:checked~label.sk-toggleable__label-arrow:before {content: \"▾\";}#sk-container-id-6 div.sk-estimator input.sk-toggleable__control:checked~label.sk-toggleable__label {background-color: #d4ebff;}#sk-container-id-6 div.sk-label input.sk-toggleable__control:checked~label.sk-toggleable__label {background-color: #d4ebff;}#sk-container-id-6 input.sk-hidden--visually {border: 0;clip: rect(1px 1px 1px 1px);clip: rect(1px, 1px, 1px, 1px);height: 1px;margin: -1px;overflow: hidden;padding: 0;position: absolute;width: 1px;}#sk-container-id-6 div.sk-estimator {font-family: monospace;background-color: #f0f8ff;border: 1px dotted black;border-radius: 0.25em;box-sizing: border-box;margin-bottom: 0.5em;}#sk-container-id-6 div.sk-estimator:hover {background-color: #d4ebff;}#sk-container-id-6 div.sk-parallel-item::after {content: \"\";width: 100%;border-bottom: 1px solid gray;flex-grow: 1;}#sk-container-id-6 div.sk-label:hover label.sk-toggleable__label {background-color: #d4ebff;}#sk-container-id-6 div.sk-serial::before {content: \"\";position: absolute;border-left: 1px solid gray;box-sizing: border-box;top: 0;bottom: 0;left: 50%;z-index: 0;}#sk-container-id-6 div.sk-serial {display: flex;flex-direction: column;align-items: center;background-color: white;padding-right: 0.2em;padding-left: 0.2em;position: relative;}#sk-container-id-6 div.sk-item {position: relative;z-index: 1;}#sk-container-id-6 div.sk-parallel {display: flex;align-items: stretch;justify-content: center;background-color: white;position: relative;}#sk-container-id-6 div.sk-item::before, #sk-container-id-6 div.sk-parallel-item::before {content: \"\";position: absolute;border-left: 1px solid gray;box-sizing: border-box;top: 0;bottom: 0;left: 50%;z-index: -1;}#sk-container-id-6 div.sk-parallel-item {display: flex;flex-direction: column;z-index: 1;position: relative;background-color: white;}#sk-container-id-6 div.sk-parallel-item:first-child::after {align-self: flex-end;width: 50%;}#sk-container-id-6 div.sk-parallel-item:last-child::after {align-self: flex-start;width: 50%;}#sk-container-id-6 div.sk-parallel-item:only-child::after {width: 0;}#sk-container-id-6 div.sk-dashed-wrapped {border: 1px dashed gray;margin: 0 0.4em 0.5em 0.4em;box-sizing: border-box;padding-bottom: 0.4em;background-color: white;}#sk-container-id-6 div.sk-label label {font-family: monospace;font-weight: bold;display: inline-block;line-height: 1.2em;}#sk-container-id-6 div.sk-label-container {text-align: center;}#sk-container-id-6 div.sk-container {/* jupyter's `normalize.less` sets `[hidden] { display: none; }` but bootstrap.min.css set `[hidden] { display: none !important; }` so we also need the `!important` here to be able to override the default hidden behavior on the sphinx rendered scikit-learn.org. See: https://github.com/scikit-learn/scikit-learn/issues/21755 */display: inline-block !important;position: relative;}#sk-container-id-6 div.sk-text-repr-fallback {display: none;}</style><div id=\"sk-container-id-6\" class=\"sk-top-container\"><div class=\"sk-text-repr-fallback\"><pre>Pipeline(steps=[(&#x27;polynomialfeatures&#x27;, PolynomialFeatures(degree=1)),\n",
       "                (&#x27;linearregression&#x27;, LinearRegression(fit_intercept=False))])</pre><b>In a Jupyter environment, please rerun this cell to show the HTML representation or trust the notebook. <br />On GitHub, the HTML representation is unable to render, please try loading this page with nbviewer.org.</b></div><div class=\"sk-container\" hidden><div class=\"sk-item sk-dashed-wrapped\"><div class=\"sk-label-container\"><div class=\"sk-label sk-toggleable\"><input class=\"sk-toggleable__control sk-hidden--visually\" id=\"sk-estimator-id-10\" type=\"checkbox\" ><label for=\"sk-estimator-id-10\" class=\"sk-toggleable__label sk-toggleable__label-arrow\">Pipeline</label><div class=\"sk-toggleable__content\"><pre>Pipeline(steps=[(&#x27;polynomialfeatures&#x27;, PolynomialFeatures(degree=1)),\n",
       "                (&#x27;linearregression&#x27;, LinearRegression(fit_intercept=False))])</pre></div></div></div><div class=\"sk-serial\"><div class=\"sk-item\"><div class=\"sk-estimator sk-toggleable\"><input class=\"sk-toggleable__control sk-hidden--visually\" id=\"sk-estimator-id-11\" type=\"checkbox\" ><label for=\"sk-estimator-id-11\" class=\"sk-toggleable__label sk-toggleable__label-arrow\">PolynomialFeatures</label><div class=\"sk-toggleable__content\"><pre>PolynomialFeatures(degree=1)</pre></div></div></div><div class=\"sk-item\"><div class=\"sk-estimator sk-toggleable\"><input class=\"sk-toggleable__control sk-hidden--visually\" id=\"sk-estimator-id-12\" type=\"checkbox\" ><label for=\"sk-estimator-id-12\" class=\"sk-toggleable__label sk-toggleable__label-arrow\">LinearRegression</label><div class=\"sk-toggleable__content\"><pre>LinearRegression(fit_intercept=False)</pre></div></div></div></div></div></div></div>"
      ],
      "text/plain": [
       "Pipeline(steps=[('polynomialfeatures', PolynomialFeatures(degree=1)),\n",
       "                ('linearregression', LinearRegression(fit_intercept=False))])"
      ]
     },
     "execution_count": 38,
     "metadata": {},
     "output_type": "execute_result"
    }
   ],
   "source": [
    "model3.fit(X_train_fs, y_train)"
   ]
  },
  {
   "cell_type": "code",
   "execution_count": 39,
   "metadata": {},
   "outputs": [
    {
     "data": {
      "text/html": [
       "<style>#sk-container-id-7 {color: black;background-color: white;}#sk-container-id-7 pre{padding: 0;}#sk-container-id-7 div.sk-toggleable {background-color: white;}#sk-container-id-7 label.sk-toggleable__label {cursor: pointer;display: block;width: 100%;margin-bottom: 0;padding: 0.3em;box-sizing: border-box;text-align: center;}#sk-container-id-7 label.sk-toggleable__label-arrow:before {content: \"▸\";float: left;margin-right: 0.25em;color: #696969;}#sk-container-id-7 label.sk-toggleable__label-arrow:hover:before {color: black;}#sk-container-id-7 div.sk-estimator:hover label.sk-toggleable__label-arrow:before {color: black;}#sk-container-id-7 div.sk-toggleable__content {max-height: 0;max-width: 0;overflow: hidden;text-align: left;background-color: #f0f8ff;}#sk-container-id-7 div.sk-toggleable__content pre {margin: 0.2em;color: black;border-radius: 0.25em;background-color: #f0f8ff;}#sk-container-id-7 input.sk-toggleable__control:checked~div.sk-toggleable__content {max-height: 200px;max-width: 100%;overflow: auto;}#sk-container-id-7 input.sk-toggleable__control:checked~label.sk-toggleable__label-arrow:before {content: \"▾\";}#sk-container-id-7 div.sk-estimator input.sk-toggleable__control:checked~label.sk-toggleable__label {background-color: #d4ebff;}#sk-container-id-7 div.sk-label input.sk-toggleable__control:checked~label.sk-toggleable__label {background-color: #d4ebff;}#sk-container-id-7 input.sk-hidden--visually {border: 0;clip: rect(1px 1px 1px 1px);clip: rect(1px, 1px, 1px, 1px);height: 1px;margin: -1px;overflow: hidden;padding: 0;position: absolute;width: 1px;}#sk-container-id-7 div.sk-estimator {font-family: monospace;background-color: #f0f8ff;border: 1px dotted black;border-radius: 0.25em;box-sizing: border-box;margin-bottom: 0.5em;}#sk-container-id-7 div.sk-estimator:hover {background-color: #d4ebff;}#sk-container-id-7 div.sk-parallel-item::after {content: \"\";width: 100%;border-bottom: 1px solid gray;flex-grow: 1;}#sk-container-id-7 div.sk-label:hover label.sk-toggleable__label {background-color: #d4ebff;}#sk-container-id-7 div.sk-serial::before {content: \"\";position: absolute;border-left: 1px solid gray;box-sizing: border-box;top: 0;bottom: 0;left: 50%;z-index: 0;}#sk-container-id-7 div.sk-serial {display: flex;flex-direction: column;align-items: center;background-color: white;padding-right: 0.2em;padding-left: 0.2em;position: relative;}#sk-container-id-7 div.sk-item {position: relative;z-index: 1;}#sk-container-id-7 div.sk-parallel {display: flex;align-items: stretch;justify-content: center;background-color: white;position: relative;}#sk-container-id-7 div.sk-item::before, #sk-container-id-7 div.sk-parallel-item::before {content: \"\";position: absolute;border-left: 1px solid gray;box-sizing: border-box;top: 0;bottom: 0;left: 50%;z-index: -1;}#sk-container-id-7 div.sk-parallel-item {display: flex;flex-direction: column;z-index: 1;position: relative;background-color: white;}#sk-container-id-7 div.sk-parallel-item:first-child::after {align-self: flex-end;width: 50%;}#sk-container-id-7 div.sk-parallel-item:last-child::after {align-self: flex-start;width: 50%;}#sk-container-id-7 div.sk-parallel-item:only-child::after {width: 0;}#sk-container-id-7 div.sk-dashed-wrapped {border: 1px dashed gray;margin: 0 0.4em 0.5em 0.4em;box-sizing: border-box;padding-bottom: 0.4em;background-color: white;}#sk-container-id-7 div.sk-label label {font-family: monospace;font-weight: bold;display: inline-block;line-height: 1.2em;}#sk-container-id-7 div.sk-label-container {text-align: center;}#sk-container-id-7 div.sk-container {/* jupyter's `normalize.less` sets `[hidden] { display: none; }` but bootstrap.min.css set `[hidden] { display: none !important; }` so we also need the `!important` here to be able to override the default hidden behavior on the sphinx rendered scikit-learn.org. See: https://github.com/scikit-learn/scikit-learn/issues/21755 */display: inline-block !important;position: relative;}#sk-container-id-7 div.sk-text-repr-fallback {display: none;}</style><div id=\"sk-container-id-7\" class=\"sk-top-container\"><div class=\"sk-text-repr-fallback\"><pre>LinearRegression(fit_intercept=False)</pre><b>In a Jupyter environment, please rerun this cell to show the HTML representation or trust the notebook. <br />On GitHub, the HTML representation is unable to render, please try loading this page with nbviewer.org.</b></div><div class=\"sk-container\" hidden><div class=\"sk-item\"><div class=\"sk-estimator sk-toggleable\"><input class=\"sk-toggleable__control sk-hidden--visually\" id=\"sk-estimator-id-13\" type=\"checkbox\" checked><label for=\"sk-estimator-id-13\" class=\"sk-toggleable__label sk-toggleable__label-arrow\">LinearRegression</label><div class=\"sk-toggleable__content\"><pre>LinearRegression(fit_intercept=False)</pre></div></div></div></div></div>"
      ],
      "text/plain": [
       "LinearRegression(fit_intercept=False)"
      ]
     },
     "execution_count": 39,
     "metadata": {},
     "output_type": "execute_result"
    }
   ],
   "source": [
    "Z_train = pf.fit_transform(X_train_fs, X_test_fs)\n",
    "lr.fit(Z_train, y_train)"
   ]
  },
  {
   "cell_type": "markdown",
   "metadata": {},
   "source": [
    "**2.**"
   ]
  },
  {
   "cell_type": "code",
   "execution_count": 40,
   "metadata": {},
   "outputs": [],
   "source": [
    "y_train_pred1 = model3.predict(X_train_fs)\n",
    "y_val_pred1 = model3.predict(X_test_fs)"
   ]
  },
  {
   "cell_type": "code",
   "execution_count": 41,
   "metadata": {},
   "outputs": [
    {
     "name": "stdout",
     "output_type": "stream",
     "text": [
      "Train error: 3.6e+01\n",
      "Test error: 4e+01\n"
     ]
    }
   ],
   "source": [
    "from sklearn.metrics import mean_squared_error\n",
    "train_error = mean_squared_error(y_train, y_train_pred)\n",
    "val_error = mean_squared_error(y_test, y_val_pred)\n",
    "print(f'Train error: {train_error:0.2}')\n",
    "print(f'Test error: {val_error:0.2}')"
   ]
  },
  {
   "cell_type": "code",
   "execution_count": 42,
   "metadata": {},
   "outputs": [
    {
     "data": {
      "text/plain": [
       "Text(0.5, 1.0, 'Dos atributos')"
      ]
     },
     "execution_count": 42,
     "metadata": {},
     "output_type": "execute_result"
    },
    {
     "data": {
      "image/png": "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",
      "text/plain": [
       "<Figure size 432x288 with 1 Axes>"
>>>>>>> fac28205ef6316b832091a1359af65af45c79a33
      ]
    }
  },
<<<<<<< HEAD
  "nbformat": 4,
  "nbformat_minor": 0
}
=======
  {
   "cell_type": "code",
   "execution_count": null,
   "metadata": {},
   "outputs": [],
   "source": []
  },
  {
   "cell_type": "markdown",
   "metadata": {},
   "source": [
    "**3.Segun los resultados obtenidos y en funcion a la tasa de error, se obtiene mejores resultados en el train pero peores en el test.**"
   ]
  },
  {
   "cell_type": "code",
   "execution_count": null,
   "metadata": {},
   "outputs": [],
   "source": []
  },
  {
   "cell_type": "markdown",
   "metadata": {},
   "source": [
    "## Más ejercicios (opcionales)\n",
    "\n",
    "### Ejercicio 6: A Todo Feature\n",
    "\n",
    "Entrene y evalúe regresiones pero utilizando todos los atributos de entrada (va a andar mucho más lento). Estudie los resultados.\n",
    "\n",
    "### Ejercicio 7: Regularización\n",
    "\n",
    "Entrene y evalúe regresiones con regularización \"ridge\". Deberá probar distintos valores de \"alpha\" (fuerza de la regularización). ¿Mejoran los resultados?\n"
   ]
  }
 ],
 "metadata": {
  "interpreter": {
   "hash": "aee8b7b246df8f9039afb4144a1f6fd8d2ca17a180786b69acc140d282b71a49"
  },
  "kernelspec": {
   "display_name": "Python 3.9.5 64-bit",
   "language": "python",
   "name": "python3"
  },
  "language_info": {
   "codemirror_mode": {
    "name": "ipython",
    "version": 3
   },
   "file_extension": ".py",
   "mimetype": "text/x-python",
   "name": "python",
   "nbconvert_exporter": "python",
   "pygments_lexer": "ipython3",
   "version": "3.9.5"
  }
 },
 "nbformat": 4,
 "nbformat_minor": 4
}
>>>>>>> fac28205ef6316b832091a1359af65af45c79a33
