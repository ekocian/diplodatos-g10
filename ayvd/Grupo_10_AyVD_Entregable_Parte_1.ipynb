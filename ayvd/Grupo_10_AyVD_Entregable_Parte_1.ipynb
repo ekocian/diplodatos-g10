{
  "cells": [
    {
      "cell_type": "markdown",
      "metadata": {
        "id": "LYvAOR2VzHmW"
      },
      "source": [
        "\n",
        "**Diplomatura en Ciencia de Datos, Aprendizaje Automático y sus Aplicaciones**\n",
        "\n",
        "**Edición 2022**\n",
        "\n",
        "---\n",
        "## Trabajo práctico entregable - Parte 1"
      ]
    },
    {
      "cell_type": "code",
      "execution_count": 74,
      "metadata": {
        "id": "Xwdfo7z20TUK"
      },
      "outputs": [],
      "source": [
        "import io\n",
        "import matplotlib\n",
        "import matplotlib.pyplot as plt\n",
        "import numpy as np\n",
        "import pandas as pd\n",
        "import seaborn\n",
        "\n",
        "seaborn.set_context('talk')"
      ]
    },
    {
      "cell_type": "markdown",
      "metadata": {
        "id": "XY2Hl-Ma07Nn"
      },
      "source": [
        "## Lectura del dataset\n",
        "\n",
        "En la notebook 00 se explican los detalles de la siguiente sección."
      ]
    },
    {
      "cell_type": "code",
      "execution_count": 75,
      "metadata": {
        "id": "Vviv_sqXdR5W"
      },
      "outputs": [],
      "source": [
        "url = 'https://cs.famaf.unc.edu.ar/~mteruel/datasets/diplodatos/sysarmy_survey_2020_processed.csv'\n",
        "df = pd.read_csv(url)"
      ]
    },
    {
      "cell_type": "code",
      "execution_count": 76,
      "metadata": {
        "colab": {
          "base_uri": "https://localhost:8080/",
          "height": 323
        },
        "id": "gckNHXXLktJ4",
        "outputId": "f7e52e8f-2432-4d19-d98a-3799b54eabe9"
      },
      "outputs": [
        {
          "data": {
            "text/html": [
              "<div>\n",
              "<style scoped>\n",
              "    .dataframe tbody tr th:only-of-type {\n",
              "        vertical-align: middle;\n",
              "    }\n",
              "\n",
              "    .dataframe tbody tr th {\n",
              "        vertical-align: top;\n",
              "    }\n",
              "\n",
              "    .dataframe thead th {\n",
              "        text-align: right;\n",
              "    }\n",
              "</style>\n",
              "<table border=\"1\" class=\"dataframe\">\n",
              "  <thead>\n",
              "    <tr style=\"text-align: right;\">\n",
              "      <th></th>\n",
              "      <th>profile_gender</th>\n",
              "      <th>profile_age</th>\n",
              "      <th>work_country</th>\n",
              "      <th>work_province</th>\n",
              "      <th>profile_years_experience</th>\n",
              "      <th>work_years_in_company</th>\n",
              "      <th>work_years_in_current_position</th>\n",
              "      <th>work_people_in_charge_of</th>\n",
              "      <th>profile_studies_level</th>\n",
              "      <th>profile_studies_level_state</th>\n",
              "      <th>...</th>\n",
              "      <th>work_has_violence_situations</th>\n",
              "      <th>profile_sexual_orientation</th>\n",
              "      <th>profile_has_disabilities</th>\n",
              "      <th>profile_has_disabilities_hiring_difficulties</th>\n",
              "      <th>company_employee_number</th>\n",
              "      <th>company_main_activity</th>\n",
              "      <th>company_recommended</th>\n",
              "      <th>company_diversity_policies</th>\n",
              "      <th>company_extra_benefits</th>\n",
              "      <th>company_best_companies_city</th>\n",
              "    </tr>\n",
              "  </thead>\n",
              "  <tbody>\n",
              "    <tr>\n",
              "      <th>0</th>\n",
              "      <td>Mujer</td>\n",
              "      <td>26</td>\n",
              "      <td>Argentina</td>\n",
              "      <td>Ciudad Autónoma de Buenos Aires</td>\n",
              "      <td>3.0</td>\n",
              "      <td>3.0</td>\n",
              "      <td>3.0</td>\n",
              "      <td>0</td>\n",
              "      <td>Universitario</td>\n",
              "      <td>En curso</td>\n",
              "      <td>...</td>\n",
              "      <td>En mi trabajo actual</td>\n",
              "      <td>Homosexual</td>\n",
              "      <td>NaN</td>\n",
              "      <td>NaN</td>\n",
              "      <td>501-1000</td>\n",
              "      <td>Servicios / Consultoría de Software / Digital</td>\n",
              "      <td>7</td>\n",
              "      <td>2</td>\n",
              "      <td>Capacitaciones y/o cursos, Comidas pagas / sub...</td>\n",
              "      <td>NaN</td>\n",
              "    </tr>\n",
              "    <tr>\n",
              "      <th>1</th>\n",
              "      <td>Hombre</td>\n",
              "      <td>29</td>\n",
              "      <td>Argentina</td>\n",
              "      <td>Corrientes</td>\n",
              "      <td>5.0</td>\n",
              "      <td>2.0</td>\n",
              "      <td>2.0</td>\n",
              "      <td>4</td>\n",
              "      <td>Universitario</td>\n",
              "      <td>En curso</td>\n",
              "      <td>...</td>\n",
              "      <td>Jamás</td>\n",
              "      <td>Heterosexual</td>\n",
              "      <td>Visual</td>\n",
              "      <td>No</td>\n",
              "      <td>201-500</td>\n",
              "      <td>Otras industrias</td>\n",
              "      <td>8</td>\n",
              "      <td>9</td>\n",
              "      <td>Horarios flexibles, Stock options / RSUs, Viát...</td>\n",
              "      <td>NaN</td>\n",
              "    </tr>\n",
              "    <tr>\n",
              "      <th>2</th>\n",
              "      <td>Mujer</td>\n",
              "      <td>22</td>\n",
              "      <td>Argentina</td>\n",
              "      <td>Ciudad Autónoma de Buenos Aires</td>\n",
              "      <td>2.0</td>\n",
              "      <td>0.0</td>\n",
              "      <td>0.0</td>\n",
              "      <td>0</td>\n",
              "      <td>Secundario</td>\n",
              "      <td>Completado</td>\n",
              "      <td>...</td>\n",
              "      <td>En un trabajo anterior</td>\n",
              "      <td>Bisexual o queer</td>\n",
              "      <td>NaN</td>\n",
              "      <td>No</td>\n",
              "      <td>2001-5000</td>\n",
              "      <td>Otras industrias</td>\n",
              "      <td>6</td>\n",
              "      <td>9</td>\n",
              "      <td>Clases de gimnasia online, Comidas pagas / sub...</td>\n",
              "      <td>NaN</td>\n",
              "    </tr>\n",
              "  </tbody>\n",
              "</table>\n",
              "<p>3 rows × 48 columns</p>\n",
              "</div>"
            ],
            "text/plain": [
              "  profile_gender  profile_age work_country                    work_province  \\\n",
              "0          Mujer           26    Argentina  Ciudad Autónoma de Buenos Aires   \n",
              "1         Hombre           29    Argentina                       Corrientes   \n",
              "2          Mujer           22    Argentina  Ciudad Autónoma de Buenos Aires   \n",
              "\n",
              "   profile_years_experience  work_years_in_company  \\\n",
              "0                       3.0                    3.0   \n",
              "1                       5.0                    2.0   \n",
              "2                       2.0                    0.0   \n",
              "\n",
              "   work_years_in_current_position  work_people_in_charge_of  \\\n",
              "0                             3.0                         0   \n",
              "1                             2.0                         4   \n",
              "2                             0.0                         0   \n",
              "\n",
              "  profile_studies_level profile_studies_level_state  ...  \\\n",
              "0         Universitario                    En curso  ...   \n",
              "1         Universitario                    En curso  ...   \n",
              "2            Secundario                  Completado  ...   \n",
              "\n",
              "  work_has_violence_situations profile_sexual_orientation  \\\n",
              "0         En mi trabajo actual                 Homosexual   \n",
              "1                        Jamás               Heterosexual   \n",
              "2       En un trabajo anterior           Bisexual o queer   \n",
              "\n",
              "  profile_has_disabilities profile_has_disabilities_hiring_difficulties  \\\n",
              "0                      NaN                                          NaN   \n",
              "1                   Visual                                           No   \n",
              "2                      NaN                                           No   \n",
              "\n",
              "  company_employee_number                          company_main_activity  \\\n",
              "0                501-1000  Servicios / Consultoría de Software / Digital   \n",
              "1                 201-500                               Otras industrias   \n",
              "2               2001-5000                               Otras industrias   \n",
              "\n",
              "  company_recommended company_diversity_policies  \\\n",
              "0                   7                          2   \n",
              "1                   8                          9   \n",
              "2                   6                          9   \n",
              "\n",
              "                              company_extra_benefits  \\\n",
              "0  Capacitaciones y/o cursos, Comidas pagas / sub...   \n",
              "1  Horarios flexibles, Stock options / RSUs, Viát...   \n",
              "2  Clases de gimnasia online, Comidas pagas / sub...   \n",
              "\n",
              "  company_best_companies_city  \n",
              "0                         NaN  \n",
              "1                         NaN  \n",
              "2                         NaN  \n",
              "\n",
              "[3 rows x 48 columns]"
            ]
          },
          "execution_count": 76,
          "metadata": {},
          "output_type": "execute_result"
        }
      ],
      "source": [
        "df[:3]"
      ]
    },
    {
      "cell_type": "markdown",
      "metadata": {
        "id": "-ZSQYANFHHgV"
      },
      "source": [
        "# Ejercicio 1 - Análisis descriptivo\n",
        "\n",
        "Responder a la pregunta: **¿Cuáles son los lenguajes de programación asociados a los mejores salarios?**\n",
        "\n",
        "Para ello:\n",
        "1. Seleccionar las columnas relevantes para analizar.\n",
        "2. Seleccionar las filas relevantes para analizar. Esto incluye la eliminación de valores extremos y erróneos, pero también puede enfocar el análisis en una sub-población. Por ejemplo, se pueden limitar a personas con un salario mayor que 10000 pesos, o a las personas que trabajan sólo en \"Data Science\", pero deben justificar su elección y reformular la pregunta inicial de ser necesario.\n",
        "  * Obtener una lista de los lenguajes de programación más populares. Decidir cuántos y cuáles seleccionan para incluir en el análisis.\n",
        "  * Para cada una de las otras columnas del punto anterior, elegir los rangos o valores seleccionan para incluir en el análisis.\n",
        "3. Seleccionar métricas que ayuden a responder la pregunta, y los métodos para analizarlas. Elegir UNA de las siguientes opciones:\n",
        "  * Comparar las distribuciones de salario para cada lenguaje utilizando visualizaciones. Como la visualización es el producto final, debe ser clara y mostrar información relevante.\n",
        "  * Comparar medidas de estadística descriptiva sobre la distribución de salario para cada lenguaje. Sean creativos, la estadística descriptiva nos permite decir cosas como: \"el 10% de los mejores sueldos los ganan, en su mayoría, programadores que saben kotlin!\" (donde *mayoría* es un término medio engañoso que sólo significa más del 50%). Para comparar múltiples lenguajes, les recomendamos usar también visualizaciones.\n",
        "  * Comparar probabilidades. Por ejemplo: \"Si sabés Python o Java, tenés un 30% más de chances de ganar arriba de 100K\".\n",
        "\n",
        "Si lo consideran necesario, realicen varias iteraciones. Es decir, si encuentran que las distribuciones de los lenguajes de programación que seleccionaron inicialmente no son muy diferentes, pueden re-hacer el análisis usando sólo los lenguajes de programación que son diferentes."
      ]
    },
    {
      "cell_type": "code",
      "execution_count": 77,
      "metadata": {
        "id": "6dqTEr7cZgvl"
      },
      "outputs": [],
      "source": [
        "# Consideramos solo estas dos columnas como relevantes para este problema\n",
        "relevant_columns = ['tools_programming_languages', 'salary_monthly_NETO']"
      ]
    },
    {
      "cell_type": "markdown",
      "metadata": {
        "id": "8dtv6z7uaWyt"
      },
      "source": [
        "# Resolución del ejercicio 1:\n",
        "\n",
        "Responder a la pregunta: ¿Cuáles son los lenguajes de programación asociados a los mejores salarios?\n",
        "\n",
        "Realizamos los siguientes pasos para responder esta pregunta:\n",
        "\n",
        "Primero, eliminaremos del dataset filas que contengan valores no deseados de la columna sueldo (salary_monthly_NETO). Aquí usaremos dos criterios. El primero es considerar como outliers aquellos valores de sueldo que sean mayores al valor maxq, donde maxq = Q3+1.5*IQR. El segundo criterio es quedarnos con la subpoblación de sueldos que sean mayores a $25000, por considerar esta subpoblación más realista.\n",
        "\n",
        "Segundo, seleccionaremos una subpoblación de lenguajes de programación, utilizando como criterio los lenguajes que cuenten con más de 1000 usuari@s en la presente encuesta.\n",
        "\n",
        "Tercero, a cada lenguaje de programación elegido le calcularemos su distribución de sueldos, media y mediana. Con estas metricas y graficas construiremos la conclusión de lo analizado.\n"
      ]
    },
    {
      "cell_type": "markdown",
      "metadata": {
        "id": "D4ve9bKvZpMF"
      },
      "source": [
        "# 1°) Eliminación de valores extremos de salary_monthly_NETO y construcción de subpoblación de la misma.\n",
        "\n",
        "Utilizando el criterio de considerar outliers aquellos datos mayores a maxq = Q3+1.5*IQR, eliminaremos filas de la columna 'salary_monthly_NETO'.\n",
        "\n",
        "Además, tomaremos para nuestro futuro análisis la subpoblacion de sueldos mayores a $25000, por considerarla más acorde a la pregunta que buscamos responder."
      ]
    },
    {
      "cell_type": "code",
      "execution_count": 78,
      "metadata": {
        "id": "o61smIugTM_N"
      },
      "outputs": [],
      "source": [
        "salary_col='salary_monthly_NETO'"
      ]
    },
    {
      "cell_type": "code",
      "execution_count": 79,
      "metadata": {
        "colab": {
          "base_uri": "https://localhost:8080/"
        },
        "id": "eB25L2rwTSy1",
        "outputId": "d1362718-ef2c-467e-ea40-5a1cccc63e6e"
      },
      "outputs": [
        {
          "data": {
            "text/plain": [
              "count       5883.00\n",
              "mean       94907.95\n",
              "std        96862.26\n",
              "min            1.00\n",
              "25%        51480.00\n",
              "50%        78000.00\n",
              "75%       106000.00\n",
              "max      2080000.00\n",
              "Name: salary_monthly_NETO, dtype: object"
            ]
          },
          "execution_count": 79,
          "metadata": {},
          "output_type": "execute_result"
        }
      ],
      "source": [
        "df[salary_col].describe().apply(lambda s: '{0:.2f}'.format(s))"
      ]
    },
    {
      "cell_type": "code",
      "execution_count": 80,
      "metadata": {
        "colab": {
          "base_uri": "https://localhost:8080/"
        },
        "id": "-0trwMpaXd_z",
        "outputId": "394f9b7e-454b-4073-de43-e689e2899424"
      },
      "outputs": [
        {
          "name": "stdout",
          "output_type": "stream",
          "text": [
            "187780.0\n",
            "210000.0\n"
          ]
        }
      ],
      "source": [
        "#Calculamos maxq, que luego lo usaremos para definir outliers\n",
        "q3 = df['salary_monthly_NETO'].quantile(75/100) #(97 / 100) #q3=106000.00\n",
        "q1 = df['salary_monthly_NETO'].quantile(25/100) #(97 / 100) #q1=51480.00\n",
        "iqr = q3 - q1\n",
        "maxq= q3+1.5*iqr\n",
        "print(maxq)\n",
        "#otro criterio\n",
        "q95 = df['salary_monthly_NETO'].quantile(95 / 100)\n",
        "print(q95)"
      ]
    },
    {
      "cell_type": "code",
      "execution_count": 81,
      "metadata": {
        "colab": {
          "base_uri": "https://localhost:8080/",
          "height": 301
        },
        "id": "2bu0U1lSU2Qg",
        "outputId": "e2303576-abc4-4b73-9613-8517ed249d9f"
      },
      "outputs": [
        {
          "data": {
            "image/png": "[encoded data removed]",
            "text/plain": [
              "<Figure size 864x288 with 1 Axes>"
            ]
          },
          "metadata": {
            "needs_background": "light"
          },
          "output_type": "display_data"
        }
      ],
      "source": [
        "#visualizamos maxq y los puntos a tirar:\n",
        "plt.figure(figsize=(12, 4))\n",
        "seaborn.boxplot(x=df[salary_col])\n",
        "seaborn.despine()"
      ]
    },
    {
      "cell_type": "code",
      "execution_count": 82,
      "metadata": {
        "colab": {
          "base_uri": "https://localhost:8080/",
          "height": 736
        },
        "id": "WsPgIPSsUUzj",
        "outputId": "92e8a0d5-a2f8-4dea-959d-2a6eb25e3f45"
      },
      "outputs": [
        {
          "data": {
            "image/png": "[encoded data removed]",
            "text/plain": [
              "<Figure size 1152x864 with 2 Axes>"
            ]
          },
          "metadata": {
            "needs_background": "light"
          },
          "output_type": "display_data"
        }
      ],
      "source": [
        "# construccion del dataset filtrado (excluyendo outliers) y comparacion con el original\n",
        "# a traves de histogramas de distribucion, media y mediana\n",
        "fig, axes = plt.subplots(nrows=2, figsize=(16, 12))\n",
        "seaborn.histplot(df[salary_col], bins=100, ax=axes[0], color='gray')\n",
        "axes[0].axvline(df[salary_col].mean(), color='orangered',\n",
        "            linestyle='--', label='Media: '+str('{:5.0f}'.format(df[salary_col].mean())))\n",
        "axes[0].axvline(df[salary_col].median(), color='indigo',\n",
        "            linestyle='-.', label='Mediana: '+str('{:5.0f}'.format(df[salary_col].median())))\n",
        "\n",
        "limite_inferior=25000\n",
        "filtered_df = df.copy()\n",
        "filtered_df = filtered_df[(limite_inferior< df[salary_col]) & (df[salary_col] < maxq)]\n",
        "seaborn.histplot(filtered_df[salary_col], bins=50, ax=axes[1], color='gray')\n",
        "axes[1].axvline(filtered_df[salary_col].mean(), color='orangered',\n",
        "            linestyle='--', label='Media: '+str('{:5.0f}'.format(filtered_df[salary_col].mean())))\n",
        "axes[1].axvline(filtered_df[salary_col].median(), color='indigo',\n",
        "            linestyle='-.', label='Mediana: '+str('{:5.0f}'.format(filtered_df[salary_col].median())))\n",
        "\n",
        "axes[0].legend()\n",
        "axes[1].legend()\n",
        "seaborn.despine()"
      ]
    },
    {
      "cell_type": "code",
      "execution_count": 83,
      "metadata": {
        "colab": {
          "base_uri": "https://localhost:8080/"
        },
        "id": "4wcPfKDHYNdK",
        "outputId": "1e800cfa-887a-4e28-b6aa-9ff6ada5f434"
      },
      "outputs": [
        {
          "data": {
            "text/plain": [
              "count       5883.00\n",
              "mean       94907.95\n",
              "std        96862.26\n",
              "min            1.00\n",
              "25%        51480.00\n",
              "50%        78000.00\n",
              "75%       106000.00\n",
              "max      2080000.00\n",
              "Name: salary_monthly_NETO, dtype: object"
            ]
          },
          "execution_count": 83,
          "metadata": {},
          "output_type": "execute_result"
        }
      ],
      "source": [
        "#Comparamos las metricas del dataset original,\n",
        "df[salary_col].describe().apply(lambda s: '{0:.2f}'.format(s))"
      ]
    },
    {
      "cell_type": "code",
      "execution_count": 84,
      "metadata": {
        "colab": {
          "base_uri": "https://localhost:8080/"
        },
        "id": "ewi-d4sPYcUW",
        "outputId": "36fbf084-b173-4398-8b78-bd29e9e8e545"
      },
      "outputs": [
        {
          "data": {
            "text/plain": [
              "count      5150.00\n",
              "mean      80940.05\n",
              "std       33792.81\n",
              "min       25400.00\n",
              "25%       54000.00\n",
              "50%       77000.00\n",
              "75%      100000.00\n",
              "max      187000.00\n",
              "Name: salary_monthly_NETO, dtype: object"
            ]
          },
          "execution_count": 84,
          "metadata": {},
          "output_type": "execute_result"
        }
      ],
      "source": [
        "#con las del nuevo dataset:\n",
        "filtered_df[salary_col].describe().apply(lambda s: '{0:.2f}'.format(s))"
      ]
    },
    {
      "cell_type": "markdown",
      "metadata": {
        "id": "hFKw2pETwHWR"
      },
      "source": [
        "Observamos que en total tiramos 5883 - 5150 = 733 filas, lo que corresponde a un 12% del total. Si bien este no es un porcentaje para nada despreciable, consideramos más adecuado quedarnos con esta subpoblación para hacer el análisis, aunque este análisis sea justamente condicional a una subpoblación.\n",
        "\n",
        "Observamos también que la diferencia entre media y mediana se reduce producto de la eliminacion de valores extremos."
      ]
    },
    {
      "cell_type": "markdown",
      "metadata": {
        "id": "OoGgzMvuEocM"
      },
      "source": [
        "# 2°) Seleccionamos los lenguajes de programacion más usados por les encuestades.\n",
        "\n",
        "Para ello haremos un conteo de frecuencias de los lenguajes de programación, y utilizaremos como criterio quedarnos con aquellos lenguajes con más de 1000 usuari@s.\n",
        "\n",
        "\n"
      ]
    },
    {
      "cell_type": "markdown",
      "metadata": {
        "id": "049hTD692rAv"
      },
      "source": [
        "La columna que contiene información sobre los lenguajes de programación utilizados es `tools_programming_languages`. Sus valores son strings con los lenguajes seleccionados separados por comas."
      ]
    },
    {
      "cell_type": "code",
      "execution_count": 85,
      "metadata": {
        "colab": {
          "base_uri": "https://localhost:8080/"
        },
        "id": "J7AB2Ty8SvNl",
        "outputId": "1bc5cd99-5e58-468e-acf9-035c78cd0e95"
      },
      "outputs": [
        {
          "data": {
            "text/plain": [
              "0                     Ninguno\n",
              "1    HTML, Javascript, Python\n",
              "2                     Ninguno\n",
              "Name: tools_programming_languages, dtype: object"
            ]
          },
          "execution_count": 85,
          "metadata": {},
          "output_type": "execute_result"
        }
      ],
      "source": [
        "filtered_df.tools_programming_languages[:3]"
      ]
    },
    {
      "cell_type": "markdown",
      "metadata": {
        "id": "l8bYmvMhSroH"
      },
      "source": [
        "Las siguientes celdas de código separan estos lenguajes de programación y cuentan la frecuencia con la que aparecen."
      ]
    },
    {
      "cell_type": "code",
      "execution_count": 86,
      "metadata": {
        "colab": {
          "base_uri": "https://localhost:8080/",
          "height": 310
        },
        "id": "PAQ81x3iUP_N",
        "outputId": "16c8d700-cd95-4033-836b-cfde1d1079d6"
      },
      "outputs": [
        {
          "name": "stderr",
          "output_type": "stream",
          "text": [
            "/var/folders/g3/60y3stx94570x_f9zydtwpsm0000gn/T/ipykernel_19967/4082292315.py:23: FutureWarning: The default dtype for empty Series will be 'object' instead of 'float64' in a future version. Specify a dtype explicitly to silence this warning.\n",
            "  df_lang = filtered_df.cured_programming_languages\\\n"
          ]
        },
        {
          "data": {
            "text/html": [
              "<div>\n",
              "<style scoped>\n",
              "    .dataframe tbody tr th:only-of-type {\n",
              "        vertical-align: middle;\n",
              "    }\n",
              "\n",
              "    .dataframe tbody tr th {\n",
              "        vertical-align: top;\n",
              "    }\n",
              "\n",
              "    .dataframe thead th {\n",
              "        text-align: right;\n",
              "    }\n",
              "</style>\n",
              "<table border=\"1\" class=\"dataframe\">\n",
              "  <thead>\n",
              "    <tr style=\"text-align: right;\">\n",
              "      <th></th>\n",
              "      <th>programming_language</th>\n",
              "      <th>tools_programming_languages</th>\n",
              "      <th>salary_monthly_NETO</th>\n",
              "      <th>cured_programming_languages</th>\n",
              "    </tr>\n",
              "  </thead>\n",
              "  <tbody>\n",
              "    <tr>\n",
              "      <th>0</th>\n",
              "      <td>ninguno</td>\n",
              "      <td>Ninguno</td>\n",
              "      <td>43000.0</td>\n",
              "      <td>[ninguno]</td>\n",
              "    </tr>\n",
              "    <tr>\n",
              "      <th>1</th>\n",
              "      <td>html</td>\n",
              "      <td>HTML, Javascript, Python</td>\n",
              "      <td>63000.0</td>\n",
              "      <td>[html, javascript, python]</td>\n",
              "    </tr>\n",
              "    <tr>\n",
              "      <th>1</th>\n",
              "      <td>javascript</td>\n",
              "      <td>HTML, Javascript, Python</td>\n",
              "      <td>63000.0</td>\n",
              "      <td>[html, javascript, python]</td>\n",
              "    </tr>\n",
              "    <tr>\n",
              "      <th>1</th>\n",
              "      <td>python</td>\n",
              "      <td>HTML, Javascript, Python</td>\n",
              "      <td>63000.0</td>\n",
              "      <td>[html, javascript, python]</td>\n",
              "    </tr>\n",
              "    <tr>\n",
              "      <th>2</th>\n",
              "      <td>ninguno</td>\n",
              "      <td>Ninguno</td>\n",
              "      <td>127000.0</td>\n",
              "      <td>[ninguno]</td>\n",
              "    </tr>\n",
              "  </tbody>\n",
              "</table>\n",
              "</div>"
            ],
            "text/plain": [
              "  programming_language tools_programming_languages  salary_monthly_NETO  \\\n",
              "0              ninguno                     Ninguno              43000.0   \n",
              "1                 html    HTML, Javascript, Python              63000.0   \n",
              "1           javascript    HTML, Javascript, Python              63000.0   \n",
              "1               python    HTML, Javascript, Python              63000.0   \n",
              "2              ninguno                     Ninguno             127000.0   \n",
              "\n",
              "  cured_programming_languages  \n",
              "0                   [ninguno]  \n",
              "1  [html, javascript, python]  \n",
              "1  [html, javascript, python]  \n",
              "1  [html, javascript, python]  \n",
              "2                   [ninguno]  "
            ]
          },
          "execution_count": 86,
          "metadata": {},
          "output_type": "execute_result"
        }
      ],
      "source": [
        "# Convert the comma-separated string of languages to a list of string.\n",
        "# Remove 'ninguno de los anteriores' option, spaces and training commas.\n",
        "def split_languages(languages_str):\n",
        "  if not isinstance(languages_str, str):\n",
        "    return []\n",
        "  # Remove 'other' option\n",
        "  languages_str = languages_str.lower()\\\n",
        "    .replace('ninguno de los anteriores', '')\n",
        "  # Split string into list of items\n",
        "  # Remove spaces and commas for each item\n",
        "  return [lang.strip().replace(',', '')\n",
        "          for lang in languages_str.split()]\n",
        "\n",
        "# Create a new column with the list of languages\n",
        "filtered_df.loc[:, 'cured_programming_languages'] = filtered_df\\\n",
        "    .tools_programming_languages.apply(split_languages)\n",
        "if 'cured_programming_languages' not in relevant_columns:\n",
        "    relevant_columns.append('cured_programming_languages') \n",
        "# Duplicate each row of df for each programming language\n",
        "# mentioned in the response.\n",
        "# We only include in df_lang the columns we are going to analyze later, so we\n",
        "# don't duplicate innecesary information.\n",
        "df_lang = filtered_df.cured_programming_languages\\\n",
        "    .apply(pd.Series).stack()\\\n",
        "    .reset_index(level=-1, drop=True).to_frame()\\\n",
        "    .join(filtered_df[relevant_columns])\\\n",
        "    .rename(columns={0: 'programming_language'})\n",
        "# Horrible programming style! But a lot of data science code can be written with\n",
        "# as concatenations of functions (pipelines), and there's no elegant way of\n",
        "# doing that on Python.\n",
        "df_lang[:5]"
      ]
    },
    {
      "cell_type": "markdown",
      "metadata": {
        "id": "qm8NUg-7UEue"
      },
      "source": [
        "En la columna `programming_language` se encuentra cada lenguaje por separado. Notar que si una respuesta contenía 3 lenguajes, como `\"HTML, Javascript, Python\"`, la fila ha sido replicada 3 veces. Por ello, hay tres filas con índice 1."
      ]
    },
    {
      "cell_type": "markdown",
      "metadata": {
        "id": "nThbJ1KeUgDo"
      },
      "source": [
        "### Filtrado de lenguajes relevantes\n",
        "\n",
        "El siguiente código permite seleccionar sólo las filas donde el valor de la columna `programming_language` se encuentre en la lista `interesting_languages`, la cual es calculada por un ranking the lenguajes mas populares, para nuestro analisis aquellos con un minimo de 1000 usuarios "
      ]
    },
    {
      "cell_type": "code",
      "execution_count": 87,
      "metadata": {
        "colab": {
          "base_uri": "https://localhost:8080/",
          "height": 206
        },
        "id": "DEpVptnLZUQU",
        "outputId": "81e15251-a4b5-448c-99c4-b00ae515d566"
      },
      "outputs": [
        {
          "data": {
            "text/html": [
              "<div>\n",
              "<style scoped>\n",
              "    .dataframe tbody tr th:only-of-type {\n",
              "        vertical-align: middle;\n",
              "    }\n",
              "\n",
              "    .dataframe tbody tr th {\n",
              "        vertical-align: top;\n",
              "    }\n",
              "\n",
              "    .dataframe thead th {\n",
              "        text-align: right;\n",
              "    }\n",
              "</style>\n",
              "<table border=\"1\" class=\"dataframe\">\n",
              "  <thead>\n",
              "    <tr style=\"text-align: right;\">\n",
              "      <th></th>\n",
              "      <th>programming_language</th>\n",
              "      <th>tools_programming_languages</th>\n",
              "      <th>salary_monthly_NETO</th>\n",
              "      <th>cured_programming_languages</th>\n",
              "    </tr>\n",
              "  </thead>\n",
              "  <tbody>\n",
              "    <tr>\n",
              "      <th>1</th>\n",
              "      <td>html</td>\n",
              "      <td>HTML, Javascript, Python</td>\n",
              "      <td>63000.0</td>\n",
              "      <td>[html, javascript, python]</td>\n",
              "    </tr>\n",
              "    <tr>\n",
              "      <th>1</th>\n",
              "      <td>javascript</td>\n",
              "      <td>HTML, Javascript, Python</td>\n",
              "      <td>63000.0</td>\n",
              "      <td>[html, javascript, python]</td>\n",
              "    </tr>\n",
              "    <tr>\n",
              "      <th>1</th>\n",
              "      <td>python</td>\n",
              "      <td>HTML, Javascript, Python</td>\n",
              "      <td>63000.0</td>\n",
              "      <td>[html, javascript, python]</td>\n",
              "    </tr>\n",
              "    <tr>\n",
              "      <th>3</th>\n",
              "      <td>css</td>\n",
              "      <td>Bash/Shell, C, CSS, HTML, Java, Javascript, PH...</td>\n",
              "      <td>102000.0</td>\n",
              "      <td>[bash/shell, c, css, html, java, javascript, p...</td>\n",
              "    </tr>\n",
              "    <tr>\n",
              "      <th>3</th>\n",
              "      <td>html</td>\n",
              "      <td>Bash/Shell, C, CSS, HTML, Java, Javascript, PH...</td>\n",
              "      <td>102000.0</td>\n",
              "      <td>[bash/shell, c, css, html, java, javascript, p...</td>\n",
              "    </tr>\n",
              "  </tbody>\n",
              "</table>\n",
              "</div>"
            ],
            "text/plain": [
              "  programming_language                        tools_programming_languages  \\\n",
              "1                 html                           HTML, Javascript, Python   \n",
              "1           javascript                           HTML, Javascript, Python   \n",
              "1               python                           HTML, Javascript, Python   \n",
              "3                  css  Bash/Shell, C, CSS, HTML, Java, Javascript, PH...   \n",
              "3                 html  Bash/Shell, C, CSS, HTML, Java, Javascript, PH...   \n",
              "\n",
              "   salary_monthly_NETO                        cured_programming_languages  \n",
              "1              63000.0                         [html, javascript, python]  \n",
              "1              63000.0                         [html, javascript, python]  \n",
              "1              63000.0                         [html, javascript, python]  \n",
              "3             102000.0  [bash/shell, c, css, html, java, javascript, p...  \n",
              "3             102000.0  [bash/shell, c, css, html, java, javascript, p...  "
            ]
          },
          "execution_count": 87,
          "metadata": {},
          "output_type": "execute_result"
        }
      ],
      "source": [
        "#Rankeamos los diferentes lenguajes por frecuencia y limitamos por un minimo de usuaries\n",
        "language_count = df_lang.programming_language.value_counts()\\\n",
        "    .reset_index()\\\n",
        "    .rename(columns={'index': 'language', 'programming_language': 'frequency'})\n",
        "\n",
        "# Excluimos los registros de aquellos lenguajes con menos del minimo de usuaries:\n",
        "min_usuaries = 1000\n",
        "interesting_languages = language_count['language'][language_count['frequency'] > min_usuaries ]\n",
        "filtered_df_lang = df_lang[df_lang.programming_language.isin(interesting_languages)]\n",
        "filtered_df_lang[:5]"
      ]
    },
    {
      "cell_type": "code",
      "execution_count": 88,
      "metadata": {
        "colab": {
          "base_uri": "https://localhost:8080/",
          "height": 353
        },
        "id": "-HSAgmeXRAlU",
        "outputId": "c4809a96-f0f4-4e6d-820e-0d889f458a42"
      },
      "outputs": [
        {
          "data": {
            "image/png": "[encoded data removed]",
            "text/plain": [
              "<Figure size 432x288 with 1 Axes>"
            ]
          },
          "metadata": {
            "needs_background": "light"
          },
          "output_type": "display_data"
        }
      ],
      "source": [
        "seaborn.countplot(data=filtered_df_lang, x='programming_language', order = filtered_df_lang['programming_language'].value_counts().index) \n",
        "plt.xticks(rotation=45);"
      ]
    },
    {
      "cell_type": "markdown",
      "metadata": {
        "id": "jgdIK6G-fVB0"
      },
      "source": [
        "# 3°) Métricas y gráficas para comparar los lenguajes elegidos.\n",
        "\n",
        "Calculamos distribucion, boxplots, medianas e histogramas\n"
      ]
    },
    {
      "cell_type": "code",
      "execution_count": 89,
      "metadata": {
        "colab": {
          "base_uri": "https://localhost:8080/"
        },
        "id": "PaPFVujyLCuS",
        "outputId": "fa7d7ccb-e3ea-441b-d4c7-7653026e68cb"
      },
      "outputs": [
        {
          "data": {
            "text/plain": [
              "programming_language\n",
              "python        85051.655\n",
              "java          85000.000\n",
              "javascript    78000.000\n",
              "sql           77000.000\n",
              "html          73000.000\n",
              "css           72100.000\n",
              "Name: salary_monthly_NETO, dtype: float64"
            ]
          },
          "execution_count": 89,
          "metadata": {},
          "output_type": "execute_result"
        }
      ],
      "source": [
        "#medianas:\n",
        "pd=filtered_df_lang.groupby('programming_language').median().salary_monthly_NETO\n",
        "pd.sort_values(ascending=False)"
      ]
    },
    {
      "cell_type": "code",
      "execution_count": 90,
      "metadata": {
        "colab": {
          "base_uri": "https://localhost:8080/"
        },
        "id": "qAgTJ2beYilS",
        "outputId": "1096403b-673b-47ce-9f6c-c9cbf58cbd89"
      },
      "outputs": [
        {
          "data": {
            "text/plain": [
              "programming_language\n",
              "python        88983.276297\n",
              "java          88246.814823\n",
              "javascript    81205.401987\n",
              "sql           80574.623576\n",
              "html          78093.666079\n",
              "css           77884.007327\n",
              "Name: salary_monthly_NETO, dtype: float64"
            ]
          },
          "execution_count": 90,
          "metadata": {},
          "output_type": "execute_result"
        }
      ],
      "source": [
        "#media:\n",
        "pd=filtered_df_lang.groupby('programming_language').mean().salary_monthly_NETO\n",
        "pd.sort_values(ascending=False)"
      ]
    },
    {
      "cell_type": "code",
      "execution_count": 91,
      "metadata": {
        "colab": {
          "base_uri": "https://localhost:8080/",
          "height": 410
        },
        "id": "Cbrh-3YRMZXS",
        "outputId": "b5bf69fa-607d-4c26-bc48-3b359b564cb8"
      },
      "outputs": [
        {
          "data": {
            "image/png": "[encoded data removed]",
            "text/plain": [
              "<Figure size 864x432 with 1 Axes>"
            ]
          },
          "metadata": {
            "needs_background": "light"
          },
          "output_type": "display_data"
        }
      ],
      "source": [
        "#boxplots: \n",
        "\n",
        "plt.figure(figsize=(12, 6))\n",
        "seaborn.boxplot(data=filtered_df_lang, x='salary_monthly_NETO', y='programming_language',\n",
        "                color='lightblue')\n",
        "plt.ticklabel_format(style='plain', axis='x')"
      ]
    },
    {
      "cell_type": "markdown",
      "metadata": {
        "id": "4iXENzn78ASm"
      },
      "source": [
        "## Conclusiones\n",
        "\n",
        "El analisis final nos arroja que si bien, no existen marcadas diferencias entre los salarios percibidos por l@s programadores segun el lenguaje de programacion al cual se dedican (cualquiera de los IQRs analizados contiene a cualquiera de las medianas analizadas), podemos establecer que aquellos dedicados total o parcialmente a lenguajes como Python o Java son l@s ligeramente mejor remunerad@s."
      ]
    },
    {
      "cell_type": "markdown",
      "metadata": {
        "id": "tWo8SmmC9FAk"
      },
      "source": [
        "# Ejercicio 2 - Densidades y varias varialbes\n",
        "\n",
        "Responder a la pregunta general: **¿Que herramientas (prácticas y teóricas) són útiles para explorar la base, descubrir patrones, asociaciones?**\n",
        "\n",
        "Para ello considere (igual al ejercicio Anterior):\n",
        "1. Seleccionar las columnas relevantes para analizar.\n",
        "2. Seleccionar las filas relevantes para analizar. Esto incluye la eliminación de valores extremos y erróneos, pero también puede enfocar el análisis en sub-poblaciones. "
      ]
    },
    {
      "cell_type": "code",
      "execution_count": 131,
      "metadata": {
        "id": "AA_gWScfYIZP"
      },
      "outputs": [
        {
          "data": {
            "image/png": "[encoded data removed]",
            "text/plain": [
              "<Figure size 432x288 with 1 Axes>"
            ]
          },
          "metadata": {
            "needs_background": "light"
          },
          "output_type": "display_data"
        }
      ],
      "source": [
        "# A traves de un grafico de barras ordenado podemos identificar rapidamente \n",
        "# la organizacion de nuestros datos categoricos cuando los asociamos a valores numericos\n",
        "medias_lenguajes=filtered_df_lang.groupby('programming_language').mean().salary_monthly_NETO\n",
        "\n",
        "medias_lenguajes = medias_lenguajes \\\n",
        "    .reset_index()\\\n",
        "    .rename(columns={'salary_monthly_NETO': 'media'}) \\\n",
        "    .sort_values(by='media', ascending=False)\n",
        "y_pos = np.arange(len(medias_lenguajes))\n",
        "plt.bar(y_pos, medias_lenguajes['media'])\n",
        "plt.xticks(y_pos, medias_lenguajes['programming_language'], rotation=45)\n",
        "plt.show()\n"
      ]
    },
    {
      "cell_type": "code",
      "execution_count": 144,
      "metadata": {},
      "outputs": [
        {
          "data": {
            "text/plain": [
              "<matplotlib.legend.Legend at 0x129eb5250>"
            ]
          },
          "execution_count": 144,
          "metadata": {},
          "output_type": "execute_result"
        },
        {
          "data": {
            "image/png": "[encoded data removed]",
            "text/plain": [
              "<Figure size 1440x432 with 1 Axes>"
            ]
          },
          "metadata": {
            "needs_background": "light"
          },
          "output_type": "display_data"
        }
      ],
      "source": [
        "# Tambien a traves de histogramas superpuestos podemos realizar comparaciones de distribuciones \n",
        "# que nos permitan elaborar rapidamente hipostesis\n",
        "plt.figure(figsize=(20, 6))\n",
        "lenguajes = ['python', 'java', 'javascript']\n",
        "color_lenguaje = ['green', 'steelblue', 'orangered']\n",
        "lenguajes[2]\n",
        "plt.hist(data=filtered_df_lang[filtered_df_lang.programming_language.isin([lenguajes[2]])].sort_values(by=['salary_monthly_NETO']), x=salary_col,\n",
        "                color=color_lenguaje[2],bins=100,edgecolor=\"black\")\n",
        "plt.hist(data=filtered_df_lang[filtered_df_lang.programming_language.isin([lenguajes[1]])].sort_values(by=['salary_monthly_NETO']), x=salary_col,\n",
        "                color=color_lenguaje[1],bins=100,edgecolor=\"black\")\n",
        "plt.hist(data=filtered_df_lang[filtered_df_lang.programming_language.isin([lenguajes[0]])].sort_values(by=['salary_monthly_NETO']), x=salary_col,\n",
        "                color=color_lenguaje[0],bins=100,edgecolor=\"black\")\n",
        "plt.ticklabel_format(style='plain', axis='x')\n",
        "\n",
        "from matplotlib.patches import Rectangle\n",
        "handles = [Rectangle((0,0),1,1,color=c,ec=\"k\") for c in color_lenguaje]\n",
        "plt.legend(handles,lenguajes)"
      ]
    },
    {
      "cell_type": "markdown",
      "metadata": {
        "id": "5baYhH0XHM3S"
      },
      "source": [
        "## a) Densidad conjunta\n",
        "\n",
        "Que herramientas visuales y modelos puede utilizar para estudiar la distribución y comportamiento de sus datos? \n",
        "\n",
        "Elija tres variables numéricas y 2 variables categóricas. Visualice la base según varias de las variables elegidas. Puede describir de alguna forma el comportamiento de sus datos? Que herramientas utilizaría? Describa\n",
        "\n",
        "\n"
      ]
    },
    {
      "cell_type": "markdown",
      "metadata": {
        "id": "lkuHE2aZGHMO"
      },
      "source": [
        "## b) Asociación\n",
        "\n",
        "* Necesitamos decidir si sacar o no la columna de salario bruto. Para hacer la encuesta más simple.\n",
        "¿Existe una correlación entre el salario bruto y el neto? Que abordaje y medidas usaría\n",
        "\n"
      ]
    },
    {
      "cell_type": "markdown",
      "metadata": {
        "id": "7MZrbRJCm-ae"
      },
      "source": [
        "## c) Densidad condicional \n",
        "\n",
        "Estudie la distribución del salario según el nivel de estudio.\n",
        "\n",
        "Separe la población según el nivel de estudio (elija dos subpoblaciones numerosas) y grafique de manera comparativa ambos histogramas de la variable `'salary_monthly_NETO'`\n",
        "¿Considera que ambas variables son independientes?\n",
        "¿Qué analizaría al respecto?\n",
        "\n",
        "Calcule medidas de centralización y dispersión para cada subpoblación\n",
        "\n",
        "\n",
        "\n",
        "\n"
      ]
    },
    {
      "cell_type": "markdown",
      "metadata": {
        "id": "u8wgYxNiqVpE"
      },
      "source": [
        "## d) Densidad Conjunta condicional\n",
        "\n",
        "Elija dos variables numéricas y una categórica. \n",
        "Estudie la dispersión (scatterplot) de las dos variables discriminando en color por la variable categórica (ayuda: hue en seaborn)\n"
      ]
    }
  ],
  "metadata": {
    "colab": {
      "collapsed_sections": [],
      "name": "Grupo 10 - AyVD Entregable - Parte 1.ipynb",
      "provenance": []
    },
    "kernelspec": {
      "display_name": "Python 3",
      "name": "python3"
    },
    "language_info": {
      "codemirror_mode": {
        "name": "ipython",
        "version": 3
      },
      "file_extension": ".py",
      "mimetype": "text/x-python",
      "name": "python",
      "nbconvert_exporter": "python",
      "pygments_lexer": "ipython3",
      "version": "3.9.5"
    }
  },
  "nbformat": 4,
  "nbformat_minor": 0
}
